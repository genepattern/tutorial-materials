{
 "cells": [
  {
   "cell_type": "markdown",
   "metadata": {},
   "source": [
    "<h1>Data Preparation</h1>\n",
    "\n",
    "<div class=\"alert alert-info\"><p>Throughout this notebook, actions that you are supposed to take are written in a blue box like this.</p></div>\n",
    "\n",
    "<h3>Breast Cancer Data</h3>\n",
    "\n",
    "<p>For this notebook and some of the later exercises we will use RNA-Seq data from [The Cancer Genome Atlas (TCGA)](https://cancergenome.nih.gov/). We have selected 20 breast cancer primary tumors (BRCA) with their matched normal samples. We are starting off with the read counts files for each tumor and normal sample (40 in total) downloaded from the <a href=\"https://cancergenome.nih.gov/\" target=\"_blank\">TCGA data portal</a> and placed on a web server that permits unrestricted access. We also have a <a href=\"http://software.broadinstitute.org/cancer/software/genepattern/file-formats-guide#sample-information-file\" target=\"_blank\">sample information file</a> that we created in a spreadsheet that has the filenames, sample names and an indication if it is a tumor or a matched normal sample.</p>\n",
    "\n",
    "**While the example we are using is for a specfic selection of breast cancer samples, you can use the steps in this notebook to prepare any TCGA-derived data for use in GenePattern analyses.**\n",
    "\n",
    "<h2>Scientific summary</h2>\n",
    "\n",
    "<p>For our data preparation phase, we will perform the following steps:</p>\n",
    "\n",
    "<h3>1. Compile multiple read count files into a matrix and a file describing the phenotypes</h3>\n",
    "\n",
    "<p>We will provide the read counts files (one per sample) and a sample info file to the MergeHTSeqCounts module. It will generate a <a href=\"http://software.broadinstitute.org/cancer/software/genepattern/file-formats-guide#GCT\" target=\"_blank\">GCT</a> file with each sample as one column and each Ensembl gene id as a row. The module will use the &#39;filename&#39; column of the <a href=\"http://software.broadinstitute.org/cancer/software/genepattern/file-formats-guide#sample-information-file\" target=\"_blank\">sample information file</a> to identify which row corresponds to which read counts filename. It uses the **samplename** column to replace the read counts filename with a more informative sample name in the output files. It uses the second column (**primary tumor/normal**) to generate a <a href=\"http://software.broadinstitute.org/cancer/software/genepattern/file-formats-guide#CLS\" target=\"_blank\">CLS file</a> assigning a phenotype to each sample.</p>\n",
    "\n",
    "<h3>2. Remove version suffix from Ensembl gene ids</h3>\n",
    "\n",
    "<p>The Ensembl gene ids in the read counts files include a version suffix (e.g. ENSG00000000419.11) but the module we will use in Step 3 (CollapseDataset) does not accept Ensembl ids that include the version We will load the GCT file generated in step 1 into this notebook, strip the versions from the ids (using Python), and then save it back to the GenePattern server to be used in the next step.</p>\n",
    "\n",
    "<h3>3. Replace Ensembl gene ids with HUGO symbols and remove duplicates</h3>\n",
    "\n",
    "<p>To make the dataset more human-friendly for analysis we will replace the Ensembl gene ids with HUGO symbols. Since more than one Ensembl gene id can map to a single symbol, we need to collapse any rows with duplicate symbols to a single row. The CollapseDataset module does both the remapping and collapsing for us.</p>\n",
    "\n",
    "<h3>4. Normalize for downstream analysis</h3>\n",
    "<p>Preprocess RNA-Seq count data in a GCT file so that it is suitable for use in GenePattern analyses.</p>\n",
    "\n",
    "<h3>Login</h3>\n",
    "\n",
    "<div class=\"alert alert-info\"><ul><li>If you are not logged in, enter your username and password in the cell below and click **Login**.</ul></li></div>\n",
    "\n",
    "<p>The logins to the notebook server and the GenePattern server are separate to allow you to run analyses hosted on different GenePattern servers in the same notebook.</p>\n"
   ]
  },
  {
   "cell_type": "code",
   "execution_count": 1,
   "metadata": {
    "genepattern": {
     "server": "https://gp-beta-ami.genepattern.org/gp",
     "type": "auth"
    }
   },
   "outputs": [
    {
     "data": {
      "application/vnd.jupyter.widget-view+json": {
       "model_id": "c43c7422f02e4e2e80faca836df9246d",
       "version_major": 2,
       "version_minor": 0
      },
      "text/html": [
       "<p>Failed to display Jupyter Widget of type <code>GPAuthWidget</code>.</p>\n",
       "<p>\n",
       "  If you're reading this message in the Jupyter Notebook or JupyterLab Notebook, it may mean\n",
       "  that the widgets JavaScript is still loading. If this message persists, it\n",
       "  likely means that the widgets JavaScript library is either not installed or\n",
       "  not enabled. See the <a href=\"https://ipywidgets.readthedocs.io/en/stable/user_install.html\">Jupyter\n",
       "  Widgets Documentation</a> for setup instructions.\n",
       "</p>\n",
       "<p>\n",
       "  If you're reading this message in another frontend (for example, a static\n",
       "  rendering on GitHub or <a href=\"https://nbviewer.jupyter.org/\">NBViewer</a>),\n",
       "  it may mean that your frontend doesn't currently support widgets.\n",
       "</p>\n"
      ],
      "text/plain": [
       "GPAuthWidget()"
      ]
     },
     "metadata": {},
     "output_type": "display_data"
    }
   ],
   "source": [
    "# Requires GenePattern Notebook: pip install genepattern-notebook\n",
    "import gp\n",
    "import genepattern\n",
    "\n",
    "# Username and password removed for security reasons.\n",
    "genepattern.GPAuthWidget(genepattern.register_session(\"https://gp-beta-ami.genepattern.org/gp\", \"\", \"\"))"
   ]
  },
  {
   "cell_type": "markdown",
   "metadata": {},
   "source": [
    "\n",
    "<h3>Begin the analysis</h3>\n",
    "\n",
    "<p>We will use the cell below (MergeHTSeqCounts). This module will take the 40 read count files and the sample info file.  We also tell it which columns of the sample info file have the filename, the sample name we want to use going forward, and a class distinction to use to generate a companion <b>cls</b> file. \n",
    "\n",
    "<p><i>We have prefilled the sample info file and the 40 input file URLs into the next cell to save time.</i></p>\n",
    "\n",
    "<h3>Step 1. Compile multiple read count files into a matrix and a file describing the phenotypes</h3>\n",
    "<p><div class=\"alert alert-info\"><ul><li>Click **Run** in the cell below to generate the compiled read count (<strong>gct</strong>) and phenotype (<strong>cls</strong>) files.</ul></li></div></p>\n",
    "\n",
    "<p>Once you hit run, a new GenePattern output cell will appear. You can watch the job's status change in its top right corner. Once it is complete it will show you links to the output files in the job status cell.</p>"
   ]
  },
  {
   "cell_type": "code",
   "execution_count": 2,
   "metadata": {
    "genepattern": {
     "show_code": true,
     "type": "task"
    }
   },
   "outputs": [
    {
     "data": {
      "application/vnd.jupyter.widget-view+json": {
       "model_id": "94140175ca584f2684c30f27bad9f3b6",
       "version_major": 2,
       "version_minor": 0
      },
      "text/html": [
       "<p>Failed to display Jupyter Widget of type <code>GPTaskWidget</code>.</p>\n",
       "<p>\n",
       "  If you're reading this message in the Jupyter Notebook or JupyterLab Notebook, it may mean\n",
       "  that the widgets JavaScript is still loading. If this message persists, it\n",
       "  likely means that the widgets JavaScript library is either not installed or\n",
       "  not enabled. See the <a href=\"https://ipywidgets.readthedocs.io/en/stable/user_install.html\">Jupyter\n",
       "  Widgets Documentation</a> for setup instructions.\n",
       "</p>\n",
       "<p>\n",
       "  If you're reading this message in another frontend (for example, a static\n",
       "  rendering on GitHub or <a href=\"https://nbviewer.jupyter.org/\">NBViewer</a>),\n",
       "  it may mean that your frontend doesn't currently support widgets.\n",
       "</p>\n"
      ],
      "text/plain": [
       "GPTaskWidget(lsid='urn:lsid:broad.mit.edu:cancer.software.genepattern.module.analysis:00354')"
      ]
     },
     "metadata": {},
     "output_type": "display_data"
    }
   ],
   "source": [
    "mergehtseqcounts_task = gp.GPTask(genepattern.get_session(0), 'urn:lsid:broad.mit.edu:cancer.software.genepattern.module.analysis:00354')\n",
    "mergehtseqcounts_job_spec = mergehtseqcounts_task.make_job_spec()\n",
    "mergehtseqcounts_job_spec.set_parameter(\"input.files\", [\"https://datasets.genepattern.org/data/TCGA_BRCA/BRCA_HTSeqCounts/TCGA-A7-A0CE-01.htseq.counts\", \"https://datasets.genepattern.org/data/TCGA_BRCA/BRCA_HTSeqCounts/TCGA-A7-A0CE-11.htseq.counts\", \"https://datasets.genepattern.org/data/TCGA_BRCA/BRCA_HTSeqCounts/TCGA-A7-A0CH-01.htseq.counts\", \"https://datasets.genepattern.org/data/TCGA_BRCA/BRCA_HTSeqCounts/TCGA-A7-A0CH-11.htseq.counts\", \"https://datasets.genepattern.org/data/TCGA_BRCA/BRCA_HTSeqCounts/TCGA-A7-A0D9-01.htseq.counts\", \"https://datasets.genepattern.org/data/TCGA_BRCA/BRCA_HTSeqCounts/TCGA-A7-A0D9-11.htseq.counts\", \"https://datasets.genepattern.org/data/TCGA_BRCA/BRCA_HTSeqCounts/TCGA-A7-A0DB-01.htseq.counts\", \"https://datasets.genepattern.org/data/TCGA_BRCA/BRCA_HTSeqCounts/TCGA-A7-A0DB-11.htseq.counts\", \"https://datasets.genepattern.org/data/TCGA_BRCA/BRCA_HTSeqCounts/TCGA-A7-A13E-01.htseq.counts\", \"https://datasets.genepattern.org/data/TCGA_BRCA/BRCA_HTSeqCounts/TCGA-A7-A13E-11.htseq.counts\", \"https://datasets.genepattern.org/data/TCGA_BRCA/BRCA_HTSeqCounts/TCGA-A7-A13F-01.htseq.counts\", \"https://datasets.genepattern.org/data/TCGA_BRCA/BRCA_HTSeqCounts/TCGA-A7-A13F-11.htseq.counts\", \"https://datasets.genepattern.org/data/TCGA_BRCA/BRCA_HTSeqCounts/TCGA-A7-A13G-01.htseq.counts\", \"https://datasets.genepattern.org/data/TCGA_BRCA/BRCA_HTSeqCounts/TCGA-A7-A13G-11.htseq.counts\", \"https://datasets.genepattern.org/data/TCGA_BRCA/BRCA_HTSeqCounts/TCGA-AC-A23H-01.htseq.counts\", \"https://datasets.genepattern.org/data/TCGA_BRCA/BRCA_HTSeqCounts/TCGA-AC-A23H-11.htseq.counts\", \"https://datasets.genepattern.org/data/TCGA_BRCA/BRCA_HTSeqCounts/TCGA-AC-A2FB-01.htseq.counts\", \"https://datasets.genepattern.org/data/TCGA_BRCA/BRCA_HTSeqCounts/TCGA-AC-A2FB-11.htseq.counts\", \"https://datasets.genepattern.org/data/TCGA_BRCA/BRCA_HTSeqCounts/TCGA-AC-A2FF-01.htseq.counts\", \"https://datasets.genepattern.org/data/TCGA_BRCA/BRCA_HTSeqCounts/TCGA-AC-A2FF-11.htseq.counts\", \"https://datasets.genepattern.org/data/TCGA_BRCA/BRCA_HTSeqCounts/TCGA-AC-A2FM-01.htseq.counts\", \"https://datasets.genepattern.org/data/TCGA_BRCA/BRCA_HTSeqCounts/TCGA-AC-A2FM-11.htseq.counts\", \"https://datasets.genepattern.org/data/TCGA_BRCA/BRCA_HTSeqCounts/TCGA-BH-A0AU-01.htseq.counts\", \"https://datasets.genepattern.org/data/TCGA_BRCA/BRCA_HTSeqCounts/TCGA-BH-A0AU-11.htseq.counts\", \"https://datasets.genepattern.org/data/TCGA_BRCA/BRCA_HTSeqCounts/TCGA-BH-A0AY-01.htseq.counts\", \"https://datasets.genepattern.org/data/TCGA_BRCA/BRCA_HTSeqCounts/TCGA-BH-A0AY-11.htseq.counts\", \"https://datasets.genepattern.org/data/TCGA_BRCA/BRCA_HTSeqCounts/TCGA-BH-A0AZ-01.htseq.counts\", \"https://datasets.genepattern.org/data/TCGA_BRCA/BRCA_HTSeqCounts/TCGA-BH-A0AZ-11.htseq.counts\", \"https://datasets.genepattern.org/data/TCGA_BRCA/BRCA_HTSeqCounts/TCGA-BH-A0B3-01.htseq.counts\", \"https://datasets.genepattern.org/data/TCGA_BRCA/BRCA_HTSeqCounts/TCGA-BH-A0B3-11.htseq.counts\", \"https://datasets.genepattern.org/data/TCGA_BRCA/BRCA_HTSeqCounts/TCGA-BH-A0B5-01.htseq.counts\", \"https://datasets.genepattern.org/data/TCGA_BRCA/BRCA_HTSeqCounts/TCGA-BH-A0B5-11.htseq.counts\", \"https://datasets.genepattern.org/data/TCGA_BRCA/BRCA_HTSeqCounts/TCGA-BH-A0B7-01.htseq.counts\", \"https://datasets.genepattern.org/data/TCGA_BRCA/BRCA_HTSeqCounts/TCGA-BH-A0B7-11.htseq.counts\", \"https://datasets.genepattern.org/data/TCGA_BRCA/BRCA_HTSeqCounts/TCGA-BH-A0B8-01.htseq.counts\", \"https://datasets.genepattern.org/data/TCGA_BRCA/BRCA_HTSeqCounts/TCGA-BH-A0B8-11.htseq.counts\", \"https://datasets.genepattern.org/data/TCGA_BRCA/BRCA_HTSeqCounts/TCGA-BH-A0BA-01.htseq.counts\", \"https://datasets.genepattern.org/data/TCGA_BRCA/BRCA_HTSeqCounts/TCGA-BH-A0BA-11.htseq.counts\", \"https://datasets.genepattern.org/data/TCGA_BRCA/BRCA_HTSeqCounts/TCGA-BH-A0BC-01.htseq.counts\", \"https://datasets.genepattern.org/data/TCGA_BRCA/BRCA_HTSeqCounts/TCGA-BH-A0BC-11.htseq.counts\"])\n",
    "mergehtseqcounts_job_spec.set_parameter(\"output.prefix\", \"BRCA_with_versioned_ensemble_ids\")\n",
    "mergehtseqcounts_job_spec.set_parameter(\"sampleinfo.file\", \"https://datasets.genepattern.org/data/TCGA_BRCA/BRCA_HTSeqCounts/TCGA_BRCA_SAMPLEINFO.txt\")\n",
    "mergehtseqcounts_job_spec.set_parameter(\"filenames.column\", \"filename\")\n",
    "mergehtseqcounts_job_spec.set_parameter(\"class.division.column\", \"2\")\n",
    "mergehtseqcounts_job_spec.set_parameter(\"sample.name.column\", \"samplename\")\n",
    "genepattern.GPTaskWidget(mergehtseqcounts_task)"
   ]
  },
  {
   "cell_type": "markdown",
   "metadata": {},
   "source": [
    "<h3>Examine your output files</h3>\n",
    "\n",
    "<p><div class=\"alert alert-info\"><ul><li>Click on the <strong>cls</strong> and <strong>gct</strong> files you just generated and select the `Open in new tab` option to view them in your browser.</li></ul></div></p>\n",
    "<p>Alternatively, for the <strong>gct</strong> file you can click on it and select `Send to data frame` to look at the resulting gct file within this Jupyter notebook.</p>\n",
    "\n",
    "<p>&nbsp;</p>\n",
    "\n",
    "<h3>Step 2. Remove version suffix from Ensembl gene ids</h3>\n",
    "<p><div class=\"alert alert-info\">\n",
    "<ol>\n",
    "<li>Click on the `MergeHTSeqCounts gct file` input in the cell below and select <b>BRCA_with_versioned_ensemble_ids.gct</b> as its input.  Leave the output variable unchanged.</li>\n",
    "<li>Run the cell below.</li>\n",
    "</ol>\n",
    "</div></p>\n"
   ]
  },
  {
   "cell_type": "code",
   "execution_count": 6,
   "metadata": {
    "genepattern": {
     "output_variable": "BRCA_with_versioned_ensemble_ids_stripped",
     "param_values": {
      "MergeHTSeqCounts_gct_file": []
     },
     "show_code": false,
     "type": "uibuilder"
    }
   },
   "outputs": [
    {
     "data": {
      "application/vnd.jupyter.widget-view+json": {
       "model_id": "4cb45d07c0db4704b2aeba2196afe670",
       "version_major": 2,
       "version_minor": 0
      },
      "text/html": [
       "<p>Failed to display Jupyter Widget of type <code>GPUIBuilder</code>.</p>\n",
       "<p>\n",
       "  If you're reading this message in the Jupyter Notebook or JupyterLab Notebook, it may mean\n",
       "  that the widgets JavaScript is still loading. If this message persists, it\n",
       "  likely means that the widgets JavaScript library is either not installed or\n",
       "  not enabled. See the <a href=\"https://ipywidgets.readthedocs.io/en/stable/user_install.html\">Jupyter\n",
       "  Widgets Documentation</a> for setup instructions.\n",
       "</p>\n",
       "<p>\n",
       "  If you're reading this message in another frontend (for example, a static\n",
       "  rendering on GitHub or <a href=\"https://nbviewer.jupyter.org/\">NBViewer</a>),\n",
       "  it may mean that your frontend doesn't currently support widgets.\n",
       "</p>\n"
      ],
      "text/plain": [
       "GPUIBuilder(description='Strip out the version from the Ensembl ids in a gct file and save it as  a new gct file on the GenePattern server.  Returns the URL to be used in the next job and also writes it to a notebook variable called \"my_local_url\". The method requires the gct  file from a completed MergeHTSeqCounts job.', function_import='stripEnsembleIdAndGetLocalUrl', name='Strip Ensembl Version and write a new GCT', params=[{'name': 'MergeHTSeqCounts_gct_file', 'label': 'MergeHTSeqCounts_gct_file', 'optional': False, 'default': '', 'description': '', 'hide': False, 'type': 'file', 'kinds': ['gct'], 'choices': []}])"
      ]
     },
     "metadata": {},
     "output_type": "display_data"
    }
   ],
   "source": [
    "import os \n",
    "from gp.data import GCT\n",
    "global my_local_url\n",
    "@genepattern.build_ui( name=\"Strip Ensembl Version and write a new GCT\",\n",
    "                      description=\"Strip out the version from the Ensembl ids in a gct file and save it as \"\n",
    "                      +\" a new gct file on the GenePattern server.  Returns the URL to be used in the next job \"\n",
    "                      +\"and also writes it to a notebook variable called \\\"my_local_url\\\". The method requires the gct \"\n",
    "                      +\" file from a completed MergeHTSeqCounts job.\", parameters={\n",
    "    \"MergeHTSeqCounts_gct_file\": {\n",
    "        \"type\": \"file\",\n",
    "        \"kinds\": [\"gct\"]\n",
    "    }\n",
    "})\n",
    "def stripEnsembleIdAndGetLocalUrl(MergeHTSeqCounts_gct_file):\n",
    "    \n",
    "    output_gct_filename = \"BRCA_unversioned_ensembl_ids.gct\"\n",
    "    \n",
    "    # get the input filename and job number\n",
    "    jobNum = MergeHTSeqCounts_gct_file.split(\"/\")[-2]\n",
    "    input_gct_file_Name = MergeHTSeqCounts_gct_file.split(\"/\")[-1]\n",
    "    \n",
    "    # get the GenePattern input job object and my username\n",
    "    lastJob = gp.GPJob(genepattern.get_session(0), jobNum)\n",
    "    myUserId = genepattern.get_session(0).username\n",
    "    \n",
    "    # this is the part that actually removes the version id\n",
    "    input_gct = GCT(lastJob.get_file(input_gct_file_Name))\n",
    "    df2 = input_gct.dataframe.reset_index()\n",
    "    df2['Name'] = df2['Name'].apply(lambda x: x.split(\".\")[0])\n",
    "    \n",
    "    # reset the index on name and Description in case we want to look at this dataframe later\n",
    "    #df2.set_index(['Name', 'Description'])\n",
    "    \n",
    "    # now save it back as a new file local to the Notebook server\n",
    "    with open(output_gct_filename, 'w') as f:\n",
    "        f.writelines('#1.2\\n{}\\t{}\\n'.format(df2.shape[0], df2.shape[1] - 2))\n",
    "        df2.to_csv(f, sep='\\t', index= False)\n",
    "\n",
    "    # upload the local file onto the GenePattern server so we can use it in the next module\n",
    "    uploaded = genepattern.get_session(0).upload_file(output_gct_filename, output_gct_filename) \n",
    "    my_local_url = uploaded.get_url()  \n",
    "    print(\"Stripped GCT file url is: \"+ my_local_url)\n",
    "    return my_local_url"
   ]
  },
  {
   "cell_type": "markdown",
   "metadata": {},
   "source": [
    "<h3>Step 3. Replace Ensembl gene ids with HUGO symbols and remove duplicates</h3>\n",
    "\n",
    "<p>When you looked into the gct file that was output, you may have noticed that it uses Ensembl IDs for the rows (counts). We would like to change this to HUGO symbols to make this more human-friendly. When we do this, we will end up with multiple Ensembl transcripts that all map to a single HUGO symbol. However the analysis we will do later does not like to see duplicate rows, so we will want to collapse instances of multiple transcripts down to a single row.</p>\n",
    "\n",
    "<p>To do this we will use the CollapseDataset module which can collapse the rows and replace the Ensembl IDs with HUGO symbols in one step.</p>\n",
    "<p><div class=\"alert alert-info\">\n",
    "<ol>\n",
    "<li>Run the CollapeDataset cell below leaving the inputs unchanged.</li></ol>\n",
    "</div></p><br/>"
   ]
  },
  {
   "cell_type": "code",
   "execution_count": 3,
   "metadata": {
    "genepattern": {
     "type": "task"
    }
   },
   "outputs": [
    {
     "data": {
      "application/vnd.jupyter.widget-view+json": {
       "model_id": "1a928937eab74d09ae3b41b93b5659a9",
       "version_major": 2,
       "version_minor": 0
      },
      "text/html": [
       "<p>Failed to display Jupyter Widget of type <code>GPTaskWidget</code>.</p>\n",
       "<p>\n",
       "  If you're reading this message in the Jupyter Notebook or JupyterLab Notebook, it may mean\n",
       "  that the widgets JavaScript is still loading. If this message persists, it\n",
       "  likely means that the widgets JavaScript library is either not installed or\n",
       "  not enabled. See the <a href=\"https://ipywidgets.readthedocs.io/en/stable/user_install.html\">Jupyter\n",
       "  Widgets Documentation</a> for setup instructions.\n",
       "</p>\n",
       "<p>\n",
       "  If you're reading this message in another frontend (for example, a static\n",
       "  rendering on GitHub or <a href=\"https://nbviewer.jupyter.org/\">NBViewer</a>),\n",
       "  it may mean that your frontend doesn't currently support widgets.\n",
       "</p>\n"
      ],
      "text/plain": [
       "GPTaskWidget(lsid='urn:lsid:broad.mit.edu:cancer.software.genepattern.module.analysis:00134')"
      ]
     },
     "metadata": {},
     "output_type": "display_data"
    }
   ],
   "source": [
    "collapsedataset_task = gp.GPTask(genepattern.get_session(0), 'urn:lsid:broad.mit.edu:cancer.software.genepattern.module.analysis:00134')\n",
    "collapsedataset_job_spec = collapsedataset_task.make_job_spec()\n",
    "collapsedataset_job_spec.set_parameter(\"dataset.file\", \"{{BRCA_with_versioned_ensemble_ids_stripped}}\")\n",
    "collapsedataset_job_spec.set_parameter(\"chip.platform\", \"ftp://ftp.broadinstitute.org/pub/gsea/annotations/ENSEMBL_human_gene.chip\")\n",
    "collapsedataset_job_spec.set_parameter(\"collapse.mode\", \"Maximum\")\n",
    "collapsedataset_job_spec.set_parameter(\"output.file.name\", \"<dataset.file_basename>.collapsed\")\n",
    "genepattern.GPTaskWidget(collapsedataset_task)"
   ]
  },
  {
   "cell_type": "markdown",
   "metadata": {},
   "source": [
    "### Step 4. Normalize for downstream analysis\n",
    "\n",
    "Preprocess RNA-Seq count data in a GCT file so that it is suitable for use in GenePattern analyses. \n",
    "\n",
    "* The **PreprocessReadCounts** module is used to preprocess RNA-Seq data into a form suitable for use downstream in other GenePattern analyses such as Gene Set Enrichment Analysis (GSEA), ComparativeMarkerSelection, HierarchicalClustering, as well as visualizers. \n",
    "* Many of these approaches assume that the data is distributed normally, yet this is not true of RNA-seq read count data. The PreprocessReadCounts module provides one approach to accommodate this. It uses a mean-variance modeling technique to transform the dataset to fit an approximation of a normal distribution, with the goal of being able to apply statistical methods and workflows that assume a normal distribution.\n",
    "* Learn more by reading about the [PreprocessReadCounts](http://software.broadinstitute.org/cancer/software/genepattern/modules/docs/PreprocessReadCounts/1) module."
   ]
  },
  {
   "cell_type": "markdown",
   "metadata": {},
   "source": [
    "<div class=\"alert alert-info\">\n",
    "\n",
    "1. Click on the <b>input file*</b> parameter below and select the `BRCA_unversioned_ensembl_ids.collapsed.gct` result file from the analysis you just did.\n",
    "2. Click on the <b>cls file*</b> parameter below and select the <a href=\"https://raw.githubusercontent.com/genepattern/example-notebooks/master/2017-11-07_CCMI_workshop/BRCA_40_samples.cls\">BRCA_with_versioned_ensemble_ids.cls</a> from the MergeHTSeqCounts analysis you performed at the beginning of this notebook.\n",
    "4. Click on the + at the right edge of the *Advanced Parameters* header to display additional parameters.\n",
    "3. Set the <strong><em>expression.value.filter.threshold</em></strong> parameter to 4 (so as to reduce the number of rows, and thus the time for computation)\n",
    "4. Copy and paste the name `BRCA_HUGO_symbols.preprocessed.gct` into the **output file** parameter.\n",
    "5. Click the button <strong><em>Run</em></strong> on the analysis below.</li>\n"
   ]
  },
  {
   "cell_type": "code",
   "execution_count": 4,
   "metadata": {
    "genepattern": {
     "type": "task"
    }
   },
   "outputs": [
    {
     "data": {
      "application/vnd.jupyter.widget-view+json": {
       "model_id": "8490be19b27d4a7da683e16dccfe4466",
       "version_major": 2,
       "version_minor": 0
      },
      "text/html": [
       "<p>Failed to display Jupyter Widget of type <code>GPTaskWidget</code>.</p>\n",
       "<p>\n",
       "  If you're reading this message in the Jupyter Notebook or JupyterLab Notebook, it may mean\n",
       "  that the widgets JavaScript is still loading. If this message persists, it\n",
       "  likely means that the widgets JavaScript library is either not installed or\n",
       "  not enabled. See the <a href=\"https://ipywidgets.readthedocs.io/en/stable/user_install.html\">Jupyter\n",
       "  Widgets Documentation</a> for setup instructions.\n",
       "</p>\n",
       "<p>\n",
       "  If you're reading this message in another frontend (for example, a static\n",
       "  rendering on GitHub or <a href=\"https://nbviewer.jupyter.org/\">NBViewer</a>),\n",
       "  it may mean that your frontend doesn't currently support widgets.\n",
       "</p>\n"
      ],
      "text/plain": [
       "GPTaskWidget(lsid='urn:lsid:broad.mit.edu:cancer.software.genepattern.module.analysis:00355')"
      ]
     },
     "metadata": {},
     "output_type": "display_data"
    }
   ],
   "source": [
    "preprocessreadcounts_task = gp.GPTask(genepattern.get_session(0), 'urn:lsid:broad.mit.edu:cancer.software.genepattern.module.analysis:00355')\n",
    "preprocessreadcounts_job_spec = preprocessreadcounts_task.make_job_spec()\n",
    "preprocessreadcounts_job_spec.set_parameter(\"input.file\", \"\")\n",
    "preprocessreadcounts_job_spec.set_parameter(\"cls.file\", \"\")\n",
    "preprocessreadcounts_job_spec.set_parameter(\"output.file\", \"<input.file_basename>.preprocessed.gct\")\n",
    "preprocessreadcounts_job_spec.set_parameter(\"expression.value.filter.threshold\", \"4\")\n",
    "genepattern.GPTaskWidget(preprocessreadcounts_task)"
   ]
  },
  {
   "cell_type": "markdown",
   "metadata": {},
   "source": [
    "<h3>Review the newly generated file</h3>\n",
    "<div class=\"alert alert-info\"><ol>\n",
    "<li>Click on the output file called `BRCA_HUGO_symbols.preprocessed.gct`. </li>\n",
    "<li>Select `Send to existing GenePattern Cell`. </li>\n",
    "<li>Select `HeatMapViewer` (below).</li>\n",
    "<li>Run the HeatMapViewer cell.</li>\n",
    "</ol></div>\n",
    "\n"
   ]
  },
  {
   "cell_type": "code",
   "execution_count": 5,
   "metadata": {
    "genepattern": {
     "type": "task"
    }
   },
   "outputs": [
    {
     "data": {
      "application/vnd.jupyter.widget-view+json": {
       "model_id": "4c37a3119646465fa74c3beac7fe3475",
       "version_major": 2,
       "version_minor": 0
      },
      "text/html": [
       "<p>Failed to display Jupyter Widget of type <code>GPTaskWidget</code>.</p>\n",
       "<p>\n",
       "  If you're reading this message in the Jupyter Notebook or JupyterLab Notebook, it may mean\n",
       "  that the widgets JavaScript is still loading. If this message persists, it\n",
       "  likely means that the widgets JavaScript library is either not installed or\n",
       "  not enabled. See the <a href=\"https://ipywidgets.readthedocs.io/en/stable/user_install.html\">Jupyter\n",
       "  Widgets Documentation</a> for setup instructions.\n",
       "</p>\n",
       "<p>\n",
       "  If you're reading this message in another frontend (for example, a static\n",
       "  rendering on GitHub or <a href=\"https://nbviewer.jupyter.org/\">NBViewer</a>),\n",
       "  it may mean that your frontend doesn't currently support widgets.\n",
       "</p>\n"
      ],
      "text/plain": [
       "GPTaskWidget(lsid='urn:lsid:broad.mit.edu:cancer.software.genepattern.module.visualizer:00010')"
      ]
     },
     "metadata": {},
     "output_type": "display_data"
    }
   ],
   "source": [
    "heatmapviewer_task = gp.GPTask(genepattern.get_session(0), 'urn:lsid:broad.mit.edu:cancer.software.genepattern.module.visualizer:00010')\n",
    "heatmapviewer_job_spec = heatmapviewer_task.make_job_spec()\n",
    "heatmapviewer_job_spec.set_parameter(\"dataset\", \"\")\n",
    "genepattern.GPTaskWidget(heatmapviewer_task)"
   ]
  },
  {
   "cell_type": "markdown",
   "metadata": {},
   "source": [
    "<h3>Extra Credit</h3>\n",
    "\n",
    "<p>In the example above, we provided the cell with the MergeHTSeqCounts module pre-selected and with all of the files pre-entered as input.&nbsp; If you would like to go through the steps to set this up for yourself, here is what you can do:</p>\n",
    "\n",
    "<ol>\n",
    "\t<li>Create a cell and change its type to &quot;GenePattern&quot;.</li>\n",
    "    <li>When the select module dialog opens, search to find the MergeHTSeqCounts module and select it.</li>\n",
    "\t<li>Open the datasets page from the link below in a seperate window.</li>\n",
    "\t<li>Drag the file, <b>TCGA_BRCA_SAMPLEINFO.txt</b>,  from the datasets page into the <strong>sampleinfo file</strong> parameter.</li>\n",
    "\t<li>Drag all of the the htseq.counts files from datasets page to the <strong>input files</strong> parameter. <strong>You can select and drag all the htseq.counts files as a single block rather than one at a time.</strong></li>\n",
    "\t<li>Set the appropriate values for the columns. Click on the link for the sample info file to see its format. In this file, the columns are <strong>filename</strong>, <strong>samplename</strong> and <strong>primary tumor/normal</strong>. You can use either these names or their column index to identify the columns to the module.</li>\n",
    "\t<li>Run the module and confirm that the results match the example above.</li>\n",
    "\t<li>Repeat the rest of the steps from the example above.</li>\n",
    "</ol>\n",
    "\n",
    "<p>&nbsp;</p>\n",
    "\n",
    "<h3>Input Files:</h3>\n",
    "\n",
    "<p>You can drag and drop the input files from the page at the link below. Do not worry about selecting just the links as the GenePattern file drop parameter will do the right thing if you grab the whole page. Make sure you do differentiate between the <strong>&quot;*.htseq.counts&quot;</strong><em> </em>files and the sample info file<em>, </em><strong>TCGA_BRCA_SAMPLEINFO.txt</strong></p>\n",
    "<p><a href=\"https://datasets.genepattern.org/index.html?prefix=data/ccmi_tutorial/2017-12-15/BRCA_HTSeqCounts/\" target=\"_blank\">https://datasets.genepattern.org/index.html?prefix=data/ccmi_tutorial/2017-12-15/BRCA_HTSeqCounts/</a></p>\n"
   ]
  },
  {
   "cell_type": "code",
   "execution_count": null,
   "metadata": {
    "collapsed": true
   },
   "outputs": [],
   "source": []
  }
 ],
 "metadata": {
  "kernelspec": {
   "display_name": "Python 3.6",
   "language": "python",
   "name": "python3.6"
  },
  "language_info": {
   "codemirror_mode": {
    "name": "ipython",
    "version": 3
   },
   "file_extension": ".py",
   "mimetype": "text/x-python",
   "name": "python",
   "nbconvert_exporter": "python",
   "pygments_lexer": "ipython3",
   "version": "3.6.1"
  }
 },
 "nbformat": 4,
 "nbformat_minor": 2
}
