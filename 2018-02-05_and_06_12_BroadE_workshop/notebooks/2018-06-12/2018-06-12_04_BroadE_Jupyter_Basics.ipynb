{
 "cells": [
  {
   "cell_type": "markdown",
   "metadata": {},
   "source": [
    "# Jupyter Basics\n",
    "\n",
    "This notebook will walk you through some of the basic features and cell types in Jupyter.\n"
   ]
  },
  {
   "cell_type": "markdown",
   "metadata": {},
   "source": [
    "# Markdown Cells \n",
    "Below this cell is an example of a Markdown cell, with the title \"Edit this cell\".\n",
    "\n",
    "<div class=\"alert alert-info\"><ol>\n",
    "<li>Double click the cell below to see its Markdown text.</li>\n",
    "\n",
    "<li>Once you see the Markdown, click inside it to enable the buttons to its left.</li>\n",
    "<li>Switch to the rich text editor by clicking on the File-looking icon next to the cell's <b>Play</b> button.</li>\n",
    "\n",
    "<li>Click the file icon to see this text in the rich text editor instead. Perform some edits to the text using the rich text editor.</li>\n",
    "\n",
    "<li>Finally click on this cell's play button to go close the editor.</li>\n",
    "</div>"
   ]
  },
  {
   "cell_type": "markdown",
   "metadata": {
    "collapsed": true
   },
   "source": [
    "<h1>Edit this cell</h1>\n",
    "\n",
    "<p>Follow the instructions above to edit this cell</p>\n"
   ]
  },
  {
   "cell_type": "markdown",
   "metadata": {},
   "source": [
    "# Create a new Markdown Cell\n",
    "<div class=\"alert alert-info\"><ol>\n",
    "<li>Go to the <b>\"Insert\"</b> menu for this page. Select <b>\"Insert cell below\"</b></li>\n",
    "<li>Change the cell to a Markdown cell.  Go to the <b>\"Cell\"</b> menu and select <b>\"Cell Type\"</b> and then <b>\"Markdown\"</b></li>\n",
    "<li>Put some text in the new cell and <b>\"Play\"</b> it to see your changes</li>\n",
    "</ol></div>\n",
    "Note that the new cell is inserted next to the one that currently has the cursor in it;  not necessarily the one you are looking at."
   ]
  },
  {
   "cell_type": "markdown",
   "metadata": {},
   "source": [
    "# Code Cells\n",
    "\n",
    "Code cells are used to execute code in your kernel.  Since this is a Python notebook we can enter python in a code cell and have the kernel execute it.\n",
    "<div class=\"alert alert-info\">\n",
    "Play the two code cells below\n",
    "</div>\n",
    "\n",
    "The result of playing a code cell is usually displayed right beneath the cell."
   ]
  },
  {
   "cell_type": "code",
   "execution_count": null,
   "metadata": {
    "collapsed": true
   },
   "outputs": [],
   "source": [
    "print(\"Hello World\")"
   ]
  },
  {
   "cell_type": "code",
   "execution_count": null,
   "metadata": {
    "collapsed": true
   },
   "outputs": [],
   "source": [
    "x = 1 + 1\n",
    "x"
   ]
  },
  {
   "cell_type": "markdown",
   "metadata": {},
   "source": [
    "# Cells and Ordering\n",
    "\n",
    "Cells appear in a notebook in a specific order, and generally its best to play them in that same order.  If you jump around a notebook playing cells, the results might be confusing \n",
    "\n",
    "<div class=\"alert alert-info\">Play the following 3 cells one at a time experimenting with different orderings</div>\n",
    "When you start, X probably equals 2 from the cell above..."
   ]
  },
  {
   "cell_type": "code",
   "execution_count": null,
   "metadata": {
    "collapsed": true
   },
   "outputs": [],
   "source": [
    "x = x + 2"
   ]
  },
  {
   "cell_type": "code",
   "execution_count": null,
   "metadata": {
    "collapsed": true
   },
   "outputs": [],
   "source": [
    "print(x)"
   ]
  },
  {
   "cell_type": "code",
   "execution_count": null,
   "metadata": {
    "collapsed": true
   },
   "outputs": [],
   "source": [
    "x = 10"
   ]
  },
  {
   "cell_type": "markdown",
   "metadata": {},
   "source": [
    "# Running cells\n",
    "\n",
    "When a cell is running, you will see a <b>[*]</b> next to it.  Only one cell at a time can be run by the kernel.  If you hit the play button several times for a slow cell while it is already running, it will just run it (slowly) as many times as you clicked the play button.\n",
    "\n",
    "<div class=\"alert alert-info\">Run the cell below. Notice the <b>[*]</b> beside the cell while it is executing.</div>"
   ]
  },
  {
   "cell_type": "code",
   "execution_count": 8,
   "metadata": {
    "genepattern": {
     "output_variable": "",
     "param_values": {
      "column_name": "TCGA-A7-A0CE-11.htseq",
      "dataframe": " ",
      "gct": " "
     },
     "show_code": false,
     "type": "uibuilder"
    }
   },
   "outputs": [
    {
     "name": "stdout",
     "output_type": "stream",
     "text": [
      "Sleeping for 10 seconds\n",
      "Execution complete\n"
     ]
    }
   ],
   "source": [
    "import time\n",
    "print(\"Sleeping for 10 seconds\")\n",
    "time.sleep(10)\n",
    "print(\"Execution complete\")"
   ]
  },
  {
   "cell_type": "code",
   "execution_count": null,
   "metadata": {
    "collapsed": true
   },
   "outputs": [],
   "source": []
  }
 ],
 "metadata": {
  "kernelspec": {
   "display_name": "Python 3.6",
   "language": "python",
   "name": "python3.6"
  },
  "language_info": {
   "codemirror_mode": {
    "name": "ipython",
    "version": 3
   },
   "file_extension": ".py",
   "mimetype": "text/x-python",
   "name": "python",
   "nbconvert_exporter": "python",
   "pygments_lexer": "ipython3",
   "version": "3.6.3"
  }
 },
 "nbformat": 4,
 "nbformat_minor": 2
}
