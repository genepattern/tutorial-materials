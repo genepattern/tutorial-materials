{
 "cells": [
  {
   "cell_type": "markdown",
   "metadata": {
    "collapsed": true
   },
   "source": [
    "# Analyzing HTSeq Data Using Two Different Models With GenePattern\n",
    "The main goals of this project are:\n",
    "- Analyze HTSeq count data with tools that assume an underlying [negative binomial distribution](https://en.wikipedia.org/wiki/Negative_binomial_distribution) on the data.\n",
    "- Analyze HTSeq count data with tools that assume an underlying [normal distribution](https://en.wikipedia.org/wiki/Normal_distribution) on the data.\n",
    "- Analyze [normalized HTSeq count](http://software.broadinstitute.org/cancer/software/genepattern/modules/docs/PreprocessReadCounts/1) data with tools that assume an underlying [normal distribution](https://en.wikipedia.org/wiki/Normal_distribution) on the data.\n",
    "- Compare the results of differential gene expression analysis under the three scenarios above.\n",
    "\n",
    "<img src=\"https://datasets.genepattern.org/data/ccmi_tutorial/2017-12-15/class_project_data/CCMI_workshop_project_overview.png\" width=\"80%\">"
   ]
  },
  {
   "cell_type": "code",
   "execution_count": 36,
   "metadata": {
    "genepattern": {
     "server": "https://gp-beta-ami.genepattern.org/gp",
     "type": "auth"
    }
   },
   "outputs": [
    {
     "data": {
      "application/vnd.jupyter.widget-view+json": {
       "model_id": "e51c86dd6a8c4c398c7bc29bcdf0ce4e",
       "version_major": 2,
       "version_minor": 0
      },
      "text/html": [
       "<p>Failed to display Jupyter Widget of type <code>GPAuthWidget</code>.</p>\n",
       "<p>\n",
       "  If you're reading this message in the Jupyter Notebook or JupyterLab Notebook, it may mean\n",
       "  that the widgets JavaScript is still loading. If this message persists, it\n",
       "  likely means that the widgets JavaScript library is either not installed or\n",
       "  not enabled. See the <a href=\"https://ipywidgets.readthedocs.io/en/stable/user_install.html\">Jupyter\n",
       "  Widgets Documentation</a> for setup instructions.\n",
       "</p>\n",
       "<p>\n",
       "  If you're reading this message in another frontend (for example, a static\n",
       "  rendering on GitHub or <a href=\"https://nbviewer.jupyter.org/\">NBViewer</a>),\n",
       "  it may mean that your frontend doesn't currently support widgets.\n",
       "</p>\n"
      ],
      "text/plain": [
       "GPAuthWidget()"
      ]
     },
     "metadata": {},
     "output_type": "display_data"
    }
   ],
   "source": [
    "# Requires GenePattern Notebook: pip install genepattern-notebook\n",
    "import gp\n",
    "import genepattern\n",
    "\n",
    "# Username and password removed for security reasons.\n",
    "genepattern.display(genepattern.session.register(\"https://gp-beta-ami.genepattern.org/gp\", \"\", \"\"))"
   ]
  },
  {
   "cell_type": "markdown",
   "metadata": {},
   "source": [
    "---\n",
    "## Section 1: Load and Filter the Dataset"
   ]
  },
  {
   "cell_type": "markdown",
   "metadata": {},
   "source": [
    "In brief, the dataset we will use in this notebook is RNA-Seq counts downloaded from TCGA. We have selected 40 samples of Breast Invasive Carcinoma (BRCA), 20 of those samples come from tumor tissue and 20 come from their corresponding normal tissue."
   ]
  },
  {
   "cell_type": "markdown",
   "metadata": {},
   "source": [
    "<h3>1.1 Filter out uninformative genes.</h3>\n",
    "\n",
    "<div class=\"alert alert-info\">\n",
    "\n",
    "<p>In order to remove the uninformative genes from the the HTseq dataset (i.e., the rows in the GCT file with the smallest variance), create a new cell below this one and use the <strong>PreprocessDataset*</strong> GenePattern module with these parameters:</p>\n",
    "\n",
    "<ul>\n",
    "\t<li><strong>input filename</strong>: Drag and drop the link to <a href=\"https://datasets.genepattern.org/data/TCGA_BRCA/WP_0_BRCA_cp_40_samples.gct\" target=\"_blank\">this GCT file</a><br />\n",
    "\t<em>Note: It should display the file&#39;s url after you have done so.</em></li>\n",
    "\t<li><strong>output filename</strong>: <strong>workshop_BRCA_filtered.gct</strong></li>\n",
    "\t<li>The rest of the parameters can be left as default.</li>\n",
    "</ul>"
   ]
  },
  {
   "cell_type": "markdown",
   "metadata": {},
   "source": [
    "### 1.2 Load the CLS file for future use by using the RenameFile GenePattern module.\n",
    "<div class=\"alert alert-info\">\n",
    "In order to make the phenotype labels file (the CLS file) easily accessible in the GenePattern modules on this notebook, we will use the **RenameFile** module. Create a new cell below this one and run the RenameFile GenePattern module with the folowing parameters:\n",
    "+ **input filename**: Drag and drop the link to [this CLS file](https://datasets.genepattern.org/data/TCGA_BRCA/WP_0_BRCA_cp_40_samples.cls)  \n",
    "*Note: It should display the file's url after you have done so.*  \n",
    "*Also: Ignore the \"File may not be an acceptable format\" warning.*\n",
    "+ **output filename**: **workshop_BRCA_labels.cls**\n",
    "+ The rest of the parameters can be left as default."
   ]
  },
  {
   "cell_type": "markdown",
   "metadata": {},
   "source": [
    "---\n",
    "## Section 2: Analyzing HTseq Counts Using a Negative Binomial Model\n",
    "These results will be used as the reference for comparison later in this notebook and will be refered to as **`negative_binomial_results`**."
   ]
  },
  {
   "cell_type": "markdown",
   "metadata": {},
   "source": [
    "### 2.1 Perform differential gene expression using DESeq2 \n",
    "<div class=\"alert alert-info\">\n",
    "Create a new cell bellow this one and use the **DESeq2** GenePattern module using the following parameters:\n",
    "\n",
    "+ **input file**: From the dropdown menu, choose the output from the PreprocessDataset module (i.e., **workshop_BRCA_filtered.gct** if you used the suggested parameters in section 1).\n",
    "+ **cls file**: From the dropdown menu, choose the output from the RenameFile module (i.e., **workshop_BRCA_labels.cls** if you used the suggested parameters in section 1).\n",
    "+ Click on **Run** and move on to step 2.2 of this section once the job is complete.   "
   ]
  },
  {
   "cell_type": "markdown",
   "metadata": {},
   "source": [
    "### 2.2 Extract top 100 differentially expressed genes and save them to a DataFrame for later use.\n",
    "<div class=\"alert alert-info\">\n",
    "We will parse one of the TXT files from the previous cell (**DESeq2**) and extract only the information that we want (i.e., the name and rank of the 100 most differentially expressed genes) and save that list in a python dictionary named **`negative_binomial_results`**. To do so, we are using the GenePattern UI Buildier in the next cell. Feel free to check out the underlying code if you want. Set the input parameters as follows:\n",
    "\n",
    "- Send the **first output** of **DESeq2** to Extract Ranked Gene List From TXT GenePattern Variable { }  \n",
    "    + Hint: the name of the file should be **workshop_BRCA_filtered.normal.vs.tumor.DESeq2_results_report.txt**\n",
    "    + Click the \"i\" icon and on the dropdown menu that appears click under **\"Send to Existing GenePattern Cell\"** from that menu, select **\"Extract Ranked Gene List From TXT GenePattern Variable { }\"**\n",
    "    + Alternatively, choose that TXT file from the dropdown menu of the cell below.\n",
    "\n",
    "- **file var**: the action just before this one should have populated this parameter with a long URL similar to this one: *https://<span></span>gp-beta-ami.genepattern.org/gp/jobResults/1234567/workshop_BRCA_filtered.normal.vs.tumor.DESeq2_results_report.txt*.\n",
    "- **number of genes**: 100 (default)\n",
    "- **verbose**: true (default)\n",
    "- Confirm that the **output variable** is is set to be **negative_binomial_results**\n",
    "- Run the cell.\n"
   ]
  },
  {
   "cell_type": "code",
   "execution_count": 59,
   "metadata": {
    "genepattern": {
     "output_variable": "negative_binomial_results",
     "param_values": {
      "file_var": [],
      "number_of_genes": "100",
      "output_var": "negative_binomial_results"
     },
     "show_code": false,
     "type": "uibuilder"
    }
   },
   "outputs": [
    {
     "data": {
      "application/vnd.jupyter.widget-view+json": {
       "model_id": "985ebaf09b664c53973abcf2470cc270",
       "version_major": 2,
       "version_minor": 0
      },
      "text/html": [
       "<p>Failed to display Jupyter Widget of type <code>GPUIBuilder</code>.</p>\n",
       "<p>\n",
       "  If you're reading this message in the Jupyter Notebook or JupyterLab Notebook, it may mean\n",
       "  that the widgets JavaScript is still loading. If this message persists, it\n",
       "  likely means that the widgets JavaScript library is either not installed or\n",
       "  not enabled. See the <a href=\"https://ipywidgets.readthedocs.io/en/stable/user_install.html\">Jupyter\n",
       "  Widgets Documentation</a> for setup instructions.\n",
       "</p>\n",
       "<p>\n",
       "  If you're reading this message in another frontend (for example, a static\n",
       "  rendering on GitHub or <a href=\"https://nbviewer.jupyter.org/\">NBViewer</a>),\n",
       "  it may mean that your frontend doesn't currently support widgets.\n",
       "</p>\n"
      ],
      "text/plain": [
       "GPUIBuilder(function_import='extract_genes_from_txt', name='Extract Ranked Gene List From TXT GenePattern Variable', params=[{'name': 'file_var', 'label': 'file_var', 'optional': False, 'default': '', 'description': 'URL of the results_report_txt file from DESeq2', 'hide': False, 'type': 'file', 'kinds': ['txt'], 'choices': []}, {'name': 'number_of_genes', 'label': 'number_of_genes', 'optional': True, 'default': 100, 'description': 'How many genes to extract', 'hide': False, 'type': 'number', 'kinds': None, 'choices': []}, {'name': 'verbose', 'label': 'verbose', 'optional': True, 'default': True, 'description': 'Whether or not to print the gene list', 'hide': False, 'type': 'choice', 'kinds': None, 'choices': {'True': 'true', 'False': 'false'}}])"
      ]
     },
     "metadata": {},
     "output_type": "display_data"
    }
   ],
   "source": [
    "import genepattern\n",
    "def extract_genes_from_txt(file_var:'URL of the results_report_txt file from DESeq2', \n",
    "                           number_of_genes:'How many genes to extract'=100, \n",
    "                           verbose:'Whether or not to print the gene list'=True):\n",
    "    \n",
    "    genes_dict = {}  # Initializing the dictionary of genes and rankings\n",
    "    \n",
    "    # Get the job number and name of the file\n",
    "    temp = file_var.split('/')\n",
    "    # programatically access that job to open the file\n",
    "    gp_file = eval('job'+temp[5]+'.get_file(\"'+temp[6]+'\")')\n",
    "    py_file = gp_file.open()\n",
    "    py_file.readline()\n",
    "    \n",
    "    rank = 1\n",
    "    for line in py_file.readlines():\n",
    "        formatted_line = str(line,'utf-8').strip('\\n').split('\\t')\n",
    "        genes_dict[formatted_line[0]] = rank\n",
    "        if rank >= number_of_genes:\n",
    "            break\n",
    "        rank += 1\n",
    "    \n",
    "    if verbose:\n",
    "        # For display only\n",
    "        for gene in genes_dict:\n",
    "            print(\"{}: {}\".format(genes_dict[gene],gene))\n",
    "    \n",
    "    return genes_dict\n",
    "\n",
    "genepattern.GPUIBuilder(extract_genes_from_txt,\n",
    "                        name=\"Extract Ranked Gene List From TXT GenePattern Variable\",\n",
    "                        parameters={\n",
    "                                    \"file_var\": {\n",
    "                                                 \"type\": \"file\",\n",
    "                                                 \"kinds\": [\"txt\"],\n",
    "                                    }\n",
    "                        })"
   ]
  },
  {
   "cell_type": "markdown",
   "metadata": {},
   "source": [
    "---\n",
    "## Section 3: Analyzing HTSeq Counts Using a Naive Normal Model\n",
    "These results will be used for comparison later in this notebook and will be refered to as **`naive_normal_results`**"
   ]
  },
  {
   "cell_type": "markdown",
   "metadata": {},
   "source": [
    "### 3.1. Perform differential gene expression analysis using ComparativeMarkerSelection\n",
    "<div class=\"alert alert-info\">\n",
    "Create a new cell bellow this one and use the **ComparativeMarkerSelection** GenePattern module with the following parameters:\n",
    "+ **input file**: The output from the **PreprocessDataset** module (i.e., **Workshop_BRCA_filtered.gct** if you used the suggested parameters in section 1).\n",
    "+ **cls file**: The output from the **RenameFile** module (i.e., **Workshop_BRCA_labels.cls** is you used the suggested parameters in section 1).\n",
    "+ The rest of the parameters can be left as default."
   ]
  },
  {
   "cell_type": "markdown",
   "metadata": {},
   "source": [
    "### 3.2 Extract top 100 genes and save to a dictionary for later use.\n",
    "<div class=\"alert alert-info\">\n",
    "We will parse the ODF file from the previous cell (**ComparativeMarkerSelection**) and extract only the information that we want (i.e., the name and rank of the 100 most differentially expressed genes) and save that list in a python dictionary named **`naive_normal_results`**. To do so, we are using the GenePattern UI Buildier in the next cell. Feel free to check out the underlying code if you want. Set the input parameters as follows:\n",
    "\n",
    "- Send the output of **ComparativeMarkerSelection** to Extract Ranked Gene List From ODF GenePattern Variable { }  \n",
    "    + Click the \"i\" icon and on the dropdown menu that appears click under **\"Send to Existing GenePattern Cell\"** from that menu, select **\"Extract Ranked Gene List From ODF GenePattern Variable { }\"**\n",
    "    + Alternatively, choose that ODF file from the dropdown menu of the cell below.\n",
    "\n",
    "- **GP ODF**: the action just before this one should have populated this parameter with a long URL similar to this one: *https://<span></span>gp-beta-ami.genepattern.org/gp/jobResults/1234567/workshop_BRCA_filtered.preprocessed.comp.marker.odf*.\n",
    "- **number of genes**: 100 (default)\n",
    "- **verbose**: true (default)\n",
    "- Confirm that the **output variable** is is set to be **naive_normal_results**\n",
    "- Run the cell."
   ]
  },
  {
   "cell_type": "code",
   "execution_count": 55,
   "metadata": {
    "genepattern": {
     "output_variable": "naive_normal_results",
     "param_values": {
      "GP_ODF": [],
      "number_of_genes": "100",
      "output_var": "naive_normal_results"
     },
     "show_code": false,
     "type": "uibuilder"
    }
   },
   "outputs": [
    {
     "data": {
      "application/vnd.jupyter.widget-view+json": {
       "model_id": "49295ce155ed426ab1b5b0a1aebb8a9c",
       "version_major": 2,
       "version_minor": 0
      },
      "text/html": [
       "<p>Failed to display Jupyter Widget of type <code>GPUIBuilder</code>.</p>\n",
       "<p>\n",
       "  If you're reading this message in the Jupyter Notebook or JupyterLab Notebook, it may mean\n",
       "  that the widgets JavaScript is still loading. If this message persists, it\n",
       "  likely means that the widgets JavaScript library is either not installed or\n",
       "  not enabled. See the <a href=\"https://ipywidgets.readthedocs.io/en/stable/user_install.html\">Jupyter\n",
       "  Widgets Documentation</a> for setup instructions.\n",
       "</p>\n",
       "<p>\n",
       "  If you're reading this message in another frontend (for example, a static\n",
       "  rendering on GitHub or <a href=\"https://nbviewer.jupyter.org/\">NBViewer</a>),\n",
       "  it may mean that your frontend doesn't currently support widgets.\n",
       "</p>\n"
      ],
      "text/plain": [
       "GPUIBuilder(function_import='custom_CMSreader', name='Extract Ranked Gene List From ODF GenePattern Variable', params=[{'name': 'GP_ODF', 'label': 'GP_ODF', 'optional': False, 'default': '', 'description': 'URL of the ODF output from ComparativeMarkerSelection', 'hide': False, 'type': 'file', 'kinds': ['Comparative Marker Selection'], 'choices': []}, {'name': 'number_of_genes', 'label': 'number_of_genes', 'optional': True, 'default': 100, 'description': 'How many genes to extract', 'hide': False, 'type': 'number', 'kinds': None, 'choices': []}, {'name': 'verbose', 'label': 'verbose', 'optional': True, 'default': True, 'description': 'Whether or not to print the gene list', 'hide': False, 'type': 'choice', 'kinds': None, 'choices': {'True': 'true', 'False': 'false'}}])"
      ]
     },
     "metadata": {},
     "output_type": "display_data"
    }
   ],
   "source": [
    "from gp.data import ODF\n",
    "def custom_CMSreader(GP_ODF:'URL of the ODF output from ComparativeMarkerSelection',\n",
    "                     number_of_genes:'How many genes to extract'=100, \n",
    "                     verbose:'Whether or not to print the gene list'=True):\n",
    "    \n",
    "    # Get the job number and name of the file\n",
    "    temp = GP_ODF.split('/')\n",
    "    # programatically access that job to open the file\n",
    "    GP_ODF = eval('ODF(job'+temp[5]+'.get_file(\"'+temp[6]+'\"))')\n",
    "#     GP_ODF = GP_ODF.dataframe\n",
    "    GP_ODF = GP_ODF.ix[GP_ODF['Rank']<=number_of_genes,['Rank','Feature']]\n",
    "    GP_ODF.set_index('Feature', inplace=True)\n",
    "    to_return = GP_ODF.to_dict()['Rank']\n",
    "    if verbose:\n",
    "        # For display only\n",
    "        genes_list = sorted([[v,k] for k,v in to_return.items()])\n",
    "        for gene in genes_list:\n",
    "            print(\"{}: {}\".format(gene[0],gene[1]))\n",
    "    return to_return\n",
    "\n",
    "\n",
    "genepattern.GPUIBuilder(custom_CMSreader, \n",
    "                        name=\"Extract Ranked Gene List From ODF GenePattern Variable\",\n",
    "                        parameters={\n",
    "                                    \"GP_ODF\": {\n",
    "                                                 \"type\": \"file\",\n",
    "                                                 \"kinds\": [\"Comparative Marker Selection\"],\n",
    "                                    }\n",
    "                        })\n",
    "# naive_normal_results = custom_CMSreader(**INSERT_THE_VALUE_YOU_COPIED_IN_THE_PREVIOUS_CELL_HERE**, number_of_genes=100)"
   ]
  },
  {
   "cell_type": "markdown",
   "metadata": {},
   "source": [
    "---\n",
    "## Section 4: Comparing Results of the Negative Bionmial and Naive Normal Models\n",
    "In this section we define a fuction to compare the dictionaries which contain the lists of top differentially expressed genes and their ranks. This function takes into consideration the overlap between the **`negative_binomial_results`** and the **`naive_normal_results`** and the ranking of genes present in both lists."
   ]
  },
  {
   "cell_type": "markdown",
   "metadata": {},
   "source": [
    "<div class=\"alert alert-info\">\n",
    "Run the cell below this one and analyze the output of the **`compare_dictionaries()`** function. Use the following parameters:  \n",
    "- **reference list**: negative_binomial_results\n",
    "- **new list**: naive_normal_results"
   ]
  },
  {
   "cell_type": "code",
   "execution_count": 56,
   "metadata": {
    "genepattern": {
     "param_values": {
      "new_list": "naive_normal_results",
      "reference_list": "negative_binomial_results"
     },
     "show_code": false,
     "type": "uibuilder"
    }
   },
   "outputs": [
    {
     "data": {
      "application/vnd.jupyter.widget-view+json": {
       "model_id": "3c70ddf2bf0d49febb89f75667817d9e",
       "version_major": 2,
       "version_minor": 0
      },
      "text/html": [
       "<p>Failed to display Jupyter Widget of type <code>GPUIBuilder</code>.</p>\n",
       "<p>\n",
       "  If you're reading this message in the Jupyter Notebook or JupyterLab Notebook, it may mean\n",
       "  that the widgets JavaScript is still loading. If this message persists, it\n",
       "  likely means that the widgets JavaScript library is either not installed or\n",
       "  not enabled. See the <a href=\"https://ipywidgets.readthedocs.io/en/stable/user_install.html\">Jupyter\n",
       "  Widgets Documentation</a> for setup instructions.\n",
       "</p>\n",
       "<p>\n",
       "  If you're reading this message in another frontend (for example, a static\n",
       "  rendering on GitHub or <a href=\"https://nbviewer.jupyter.org/\">NBViewer</a>),\n",
       "  it may mean that your frontend doesn't currently support widgets.\n",
       "</p>\n"
      ],
      "text/plain": [
       "GPUIBuilder(function_import='compare_dictionaries', name='Compare Two Ranked Lists', params=[{'name': 'reference_list', 'label': 'reference_list', 'optional': False, 'default': '', 'description': '', 'hide': False, 'type': 'text', 'kinds': None, 'choices': []}, {'name': 'new_list', 'label': 'new_list', 'optional': False, 'default': '', 'description': '', 'hide': False, 'type': 'text', 'kinds': None, 'choices': []}])"
      ]
     },
     "metadata": {},
     "output_type": "display_data"
    }
   ],
   "source": [
    "from scipy.stats import kendalltau as kTau\n",
    "\n",
    "def compare_dictionaries(reference_list, new_list):\n",
    "    # compute how many of the genes in ref are in new\n",
    "    common = (list(set(reference_list) & set(new_list)))\n",
    "    \n",
    "    ref_common = [reference_list[temp] for temp in common]\n",
    "    new_common = [new_list[temp] for temp in common]\n",
    "    kendall_tau = kTau(ref_common,new_common)[0]  # Kendall's Tau measures the similarity between to ordered lists.\n",
    "    metric = kendall_tau * len(common)/len(reference_list)  # Penalizing low overlap between lists.\n",
    "    \n",
    "    print(\"There is a {:.3g}% overlap.\".format(100*len(common)/len(reference_list)),\n",
    "          \"Custom metric is {:.3g} (metric range [0,1])\".format(metric))\n",
    "    return metric\n",
    "\n",
    "# compare_dictionaries(negative_binomial_results, naive_normal_results)\n",
    "genepattern.GPUIBuilder(compare_dictionaries, name=\"Compare Two Ranked Lists\")"
   ]
  },
  {
   "cell_type": "markdown",
   "metadata": {},
   "source": [
    "---\n",
    "## Section 5: Analyzing Transformed HTSeq Counts Using a Normal Model\n",
    "These results will be used for comparison later in this notebook and will be refered to as **`transformed_normal_results`**"
   ]
  },
  {
   "cell_type": "markdown",
   "metadata": {},
   "source": [
    "### 5.1 Transform HTSeq counts by fitting them with a normal distribution\n",
    "<div class=\"alert alert-info\">\n",
    "Create a new cell bellow this one and use the **PreprocessReadCounts** GenePattern module with the following parameters:\n",
    "\n",
    "+ **input file**: The output from the **PreprocessDataset** module (i.e., **workshop_BRCA_filtered.gct** if you used the suggested parameters in section 1).\n",
    "+ **cls file**: The output from the **RenameFile** module (i.e., **workshop_BRCA_labels.cls** is you used the suggested parameters in section 1).\n",
    "+ **output file**: leave as default."
   ]
  },
  {
   "cell_type": "markdown",
   "metadata": {},
   "source": [
    "### 5.2 Perform differential gene expression analysis on transformed counts using ComparativeMarkerSelection\n",
    "<div class=\"alert alert-info\">\n",
    "Create a new cell bellow this one and use the **ComparativeMarkerSelection** GenePattern module with the following parameters:\n",
    "\n",
    "+ **input file**: The output from the **PreprocessReadCounts** module (i.e., **workshop_BRCA_filtered.preprocessed.gct** if you used the suggested parameters in step 5.1 of this section).\n",
    "+ **cls file**: The output from the **RenameFile** module (i.e., **workshop_BRCA_labels.cls** is you used the suggested parameters in section 1).\n",
    "+ The rest of the parameters can be left as default."
   ]
  },
  {
   "cell_type": "markdown",
   "metadata": {},
   "source": [
    "### 5.3 Extract top 100 genes and save to a dictionary for later use.\n",
    "<div class=\"alert alert-info\">\n",
    "\n",
    "We will parse the ODF file from the previous cell (**ComparativeMarkerSelection**) and extract only the information that we want (i.e., the name and rank of the 100 most differentially expressed genes) and save that list in a python dictionary named **`transformed_normal_results`**. To do so, we are using the GenePattern UI Buildier in the next cell. Feel free to check out the underlying code if you want. Set the input parameters as follows:\n",
    "\n",
    "- Send the output of **ComparativeMarkerSelection** to Extract Ranked Gene List From ODF GenePattern Variable { }  \n",
    "    + Click the \"i\" icon and on the dropdown menu that appears click under **\"Send to Existing GenePattern Cell\"** from that menu, select **\"Extract Ranked Gene List From ODF GenePattern Variable { }\"**\n",
    "    + Alternatively, choose that ODF file from the dropdown menu of the cell below.\n",
    "\n",
    "- **GP ODF**: the action just before this one should have populated this parameter with a long URL similar to this one: *https://<span></span>gp-beta-ami.genepattern.org/gp/jobResults/1234567/workshop_BRCA_filtered.preprocessed.comp.marker.odf*.\n",
    "- **number of genes**: 100 (default)\n",
    "- **verbose**: true (default)\n",
    "- Confirm that the **output variable** is is set to be **transformed_normal_results**\n",
    "- Run the cell."
   ]
  },
  {
   "cell_type": "code",
   "execution_count": 57,
   "metadata": {
    "genepattern": {
     "output_variable": "transformed_normal_results",
     "param_values": {
      "GP_ODF": [
       "https://gp-beta-ami.genepattern.org/gp/jobResults/27959/workshop_BRCA_filtered.preprocessed.comp.marker.odf"
      ],
      "number_of_genes": "100",
      "output_var": "transformed_normal_results"
     },
     "show_code": false,
     "type": "uibuilder"
    }
   },
   "outputs": [
    {
     "data": {
      "application/vnd.jupyter.widget-view+json": {
       "model_id": "5711a86f75f34a0c97ffb4b2fd8d7d04",
       "version_major": 2,
       "version_minor": 0
      },
      "text/html": [
       "<p>Failed to display Jupyter Widget of type <code>GPUIBuilder</code>.</p>\n",
       "<p>\n",
       "  If you're reading this message in the Jupyter Notebook or JupyterLab Notebook, it may mean\n",
       "  that the widgets JavaScript is still loading. If this message persists, it\n",
       "  likely means that the widgets JavaScript library is either not installed or\n",
       "  not enabled. See the <a href=\"https://ipywidgets.readthedocs.io/en/stable/user_install.html\">Jupyter\n",
       "  Widgets Documentation</a> for setup instructions.\n",
       "</p>\n",
       "<p>\n",
       "  If you're reading this message in another frontend (for example, a static\n",
       "  rendering on GitHub or <a href=\"https://nbviewer.jupyter.org/\">NBViewer</a>),\n",
       "  it may mean that your frontend doesn't currently support widgets.\n",
       "</p>\n"
      ],
      "text/plain": [
       "GPUIBuilder(function_import='custom_CMSreader', name='Extract Ranked Gene List From ODF GenePattern Variable', params=[{'name': 'GP_ODF', 'label': 'GP_ODF', 'optional': False, 'default': '', 'description': 'URL of the ODF output from ComparativeMarkerSelection', 'hide': False, 'type': 'file', 'kinds': ['Comparative Marker Selection'], 'choices': []}, {'name': 'number_of_genes', 'label': 'number_of_genes', 'optional': True, 'default': 100, 'description': 'How many genes to extract', 'hide': False, 'type': 'number', 'kinds': None, 'choices': []}, {'name': 'verbose', 'label': 'verbose', 'optional': True, 'default': True, 'description': 'Whether or not to print the gene list', 'hide': False, 'type': 'choice', 'kinds': None, 'choices': {'True': 'true', 'False': 'false'}}])"
      ]
     },
     "metadata": {},
     "output_type": "display_data"
    }
   ],
   "source": [
    "#transformed_normal_results = custom_CMSreader(**INSERT_THE_VALUE_YOU_COPIED_IN_THE_PREVIOUS_CELL_HERE**, number_of_genes=100)\n",
    "\n",
    "genepattern.GPUIBuilder(custom_CMSreader, \n",
    "                        name=\"Extract Ranked Gene List From ODF GenePattern Variable\",\n",
    "                        parameters={\n",
    "                                    \"GP_ODF\": {\n",
    "                                                 \"type\": \"file\",\n",
    "                                                 \"kinds\": [\"Comparative Marker Selection\"],\n",
    "                                    }\n",
    "                        })"
   ]
  },
  {
   "cell_type": "markdown",
   "metadata": {},
   "source": [
    "---\n",
    "## Section 6: Comparing Results of the Negative Bionmial and Transformed Normal Models\n",
    "In this short section we use the fuction we defined in section 4 to compare the dictionaries which contain the lists of top differentially expressed genes and their ranks. Use the following parameters:  \n",
    "- **reference list**: negative_binomial_results\n",
    "- **new list**: transformed_normal_results"
   ]
  },
  {
   "cell_type": "code",
   "execution_count": 58,
   "metadata": {
    "genepattern": {
     "param_values": {
      "new_list": "transformed_normal_results",
      "reference_list": "negative_binomial_results"
     },
     "show_code": false,
     "type": "uibuilder"
    }
   },
   "outputs": [
    {
     "data": {
      "application/vnd.jupyter.widget-view+json": {
       "model_id": "993682ba5e1a410d973d9fa4936a68d3",
       "version_major": 2,
       "version_minor": 0
      },
      "text/html": [
       "<p>Failed to display Jupyter Widget of type <code>GPUIBuilder</code>.</p>\n",
       "<p>\n",
       "  If you're reading this message in the Jupyter Notebook or JupyterLab Notebook, it may mean\n",
       "  that the widgets JavaScript is still loading. If this message persists, it\n",
       "  likely means that the widgets JavaScript library is either not installed or\n",
       "  not enabled. See the <a href=\"https://ipywidgets.readthedocs.io/en/stable/user_install.html\">Jupyter\n",
       "  Widgets Documentation</a> for setup instructions.\n",
       "</p>\n",
       "<p>\n",
       "  If you're reading this message in another frontend (for example, a static\n",
       "  rendering on GitHub or <a href=\"https://nbviewer.jupyter.org/\">NBViewer</a>),\n",
       "  it may mean that your frontend doesn't currently support widgets.\n",
       "</p>\n"
      ],
      "text/plain": [
       "GPUIBuilder(function_import='compare_dictionaries', name='Compare Two Ranked Lists', params=[{'name': 'reference_list', 'label': 'reference_list', 'optional': False, 'default': '', 'description': '', 'hide': False, 'type': 'text', 'kinds': None, 'choices': []}, {'name': 'new_list', 'label': 'new_list', 'optional': False, 'default': '', 'description': '', 'hide': False, 'type': 'text', 'kinds': None, 'choices': []}])"
      ]
     },
     "metadata": {},
     "output_type": "display_data"
    }
   ],
   "source": [
    "genepattern.GPUIBuilder(compare_dictionaries, name=\"Compare Two Ranked Lists\")\n",
    "# compare_dictionaries(negative_binomial_results, transformed_normal_results)"
   ]
  },
  {
   "cell_type": "markdown",
   "metadata": {},
   "source": [
    "<div class=\"alert alert-success\">\n",
    "*Note:* Why do we get better results after using PreprocessReadCounts? From the module's documentation:\n",
    "\n",
    ">Many of these tools were originally designed to handle microarray data - particularly from Affymetrix arrays - and so we must be mindful of that origin when preprocessing data for use with them.\n",
    ">\n",
    ">The module does this by using a mean-variance modeling technique [1] to transform the dataset to fit an approximation of a normal distribution, with the goal of thus being able to apply classic normal-based microarray-oriented statistical methods and workflows.\n"
   ]
  },
  {
   "cell_type": "markdown",
   "metadata": {},
   "source": [
    "---\n",
    "## Extra credit: Cluster samples before before and after transforming HTSeq counts"
   ]
  },
  {
   "cell_type": "markdown",
   "metadata": {},
   "source": [
    "## EC 1 Cluster samples using HTSeq counts\n",
    "In this section we will build upon the results from section 3 and perform some manual checks on the results from that section. It is a good scientific practice to check the results of your analyses. The maroon elements in the following schematic represent what this section will accomplish:\n",
    "\n",
    "<img src=\"https://datasets.genepattern.org/data/ccmi_tutorial/2017-12-15/class_project_data/CCMI_workshop_project_ec1.png\" width=\"80%\">"
   ]
  },
  {
   "cell_type": "markdown",
   "metadata": {},
   "source": [
    "### EC 1.1 Display results of ComparativeMarkerSelection\n",
    "<div class=\"alert alert-info\">\n",
    "Use **ComparativeMarkerSelectionViewer** to verify the output of **ComparativeMarkerSelection** from section 3 does not show any major problems. Use the following parameters:\n",
    "- **comparative marker selection filename**: Select the output from **ComparativeMarkerSelection** from section 3 (i.e., **workshop_BRCA_filtered.comp.marker.odf** if you used the suggested parameters).\n",
    "- **dataset filename**: Select the output from the PreprocessDataset module (i.e., **workshop_BRCA_filtered.gct** if you used the suggested parameters).\n",
    "- Run the module."
   ]
  },
  {
   "cell_type": "markdown",
   "metadata": {},
   "source": [
    "### EC 1.2 Perform clustering on RNASeq samples\n",
    "<div class=\"alert alert-info\">\n",
    "Use **KMeansClustering** to see if data can be clustered easily. Use the following parameters:\n",
    "- input filename: The output from the **PreprocessDataset** module (i.e., **workshop_BRCA_filtered.gct** if you used the suggested parameters).\n",
    "- number of clusters: 2.\n",
    "- cluster by: columns.\n",
    "- The rest of the parameters can be left as default.\n",
    "- Run the module."
   ]
  },
  {
   "cell_type": "markdown",
   "metadata": {},
   "source": [
    "### EC 1.3 Manually Review  results of clustering\n",
    "<div class=\"alert alert-info\">\n",
    "Open both of the *first two* GCT files created by **KMeansClustering**. These files show which samples have been clustered together.\n",
    "+ Click the \"i\" icon and on the dropdown menu that appears choose \"Open in New Tab.\"  \n",
    "\n",
    "Do the two clusters correspond to the tumor tissue samples (\"TCGA-xx-xxxx-**01**\") and the normal tissue samples (\"TCGA-xx-xxxx-**11**\")?"
   ]
  },
  {
   "cell_type": "markdown",
   "metadata": {},
   "source": [
    "## EC 2 Cluster samples using transformed HTSeq counts\n",
    "In this section we will build upon the results from section 5 and perform some manual checks on the results from that section. It is a good scientific practice to check the results of your analyses. The maroon elements in the following schematic represent what this section will accomplish:\n",
    "\n",
    "<img src=\"https://datasets.genepattern.org/data/ccmi_tutorial/2017-12-15/class_project_data/CCMI_workshop_project_ec2.png\" width=\"80%\">"
   ]
  },
  {
   "cell_type": "markdown",
   "metadata": {},
   "source": [
    "### EC 2.1 Display results of ComparativeMarkerSelection\n",
    "\n",
    "<div class=\"alert alert-info\">\n",
    "Use **ComparativeMarkerSelectionViewer** to verify the output of **ComparativeMarkerSelection** from section 5 does not show any major problems. Use the following parameters:\n",
    "- **comparative marker selection filename**: Select the output from **ComparativeMarkerSelection** from section 5 (i.e., **workshop_BRCA_filtered.preprocessed.comp.marker.odf** if you used the suggested parameters).\n",
    "- **dataset filename**: Select the output from the PreprocessDataset module (i.e., **workshop_BRCA_filtered.preprocessed.gct** if you used the suggested parameters).\n",
    "- Run the module."
   ]
  },
  {
   "cell_type": "markdown",
   "metadata": {},
   "source": [
    "### EC 2.2 Perform clustering on RNASeq samples\n",
    "<div class=\"alert alert-info\">\n",
    "Use **KMeansClustering** to see if data can be clustered easily. Use the following parameters:\n",
    "- input filename: The output from the **PreprocessReadCounts** module (i.e., **workshop_BRCA_filtered.preprocessed.gct** if you used the suggested parameters in step 5.1 from section 5).\n",
    "- number of clusters: 2.\n",
    "- cluster by: columns.\n",
    "- The rest of the parameters can be left as default.\n",
    "- Run the module."
   ]
  },
  {
   "cell_type": "markdown",
   "metadata": {},
   "source": [
    "### EC 2.3 Manually Review  results of clustering\n",
    "<div class=\"alert alert-info\">\n",
    "Open both of the first two GCT files created by **KMeansClustering**. These files show which samples have been clustered together.\n",
    "+ Click the \"i\" icon and on the dropdown menu that appears choose \"Open in New Tab.\"\n",
    "\n",
    "Do the two clusters correspond to the tumor tissue samples (\"TCGA-xx-xxxx-**01**\") and the normal tissue samples (\"TCGA-xx-xxxx-**11**\")?"
   ]
  }
 ],
 "metadata": {
  "kernelspec": {
   "display_name": "Python 3.6",
   "language": "python",
   "name": "python3.6"
  },
  "language_info": {
   "codemirror_mode": {
    "name": "ipython",
    "version": 3
   },
   "file_extension": ".py",
   "mimetype": "text/x-python",
   "name": "python",
   "nbconvert_exporter": "python",
   "pygments_lexer": "ipython3",
   "version": "3.6.3"
  }
 },
 "nbformat": 4,
 "nbformat_minor": 2
}
