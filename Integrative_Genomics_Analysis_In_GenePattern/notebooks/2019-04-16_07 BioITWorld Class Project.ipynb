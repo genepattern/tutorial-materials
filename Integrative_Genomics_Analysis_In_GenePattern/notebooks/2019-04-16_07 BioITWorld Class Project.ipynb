{
 "cells": [
  {
   "cell_type": "markdown",
   "metadata": {},
   "source": [
    "# Analyzing HTSeq Data Using Two Differential Expression Modules"
   ]
  },
  {
   "cell_type": "markdown",
   "metadata": {
    "collapsed": true
   },
   "source": [
    "<p>The main goals of this project are:</p>\n",
    "\n",
    "<ul>\n",
    "\t<li>Analyze HTSeq count data with tools that assume an underlying <a href=\"https://en.wikipedia.org/wiki/Negative_binomial_distribution\" target=\"_blank\">negative binomial distribution</a> on the data</li>\n",
    "\t<li>Analyze <a href=\"http://software.broadinstitute.org/cancer/software/genepattern/modules/docs/PreprocessReadCounts/1\" target=\"_blank\">normalized HTSeq count</a> data with tools that assume an underlying <a href=\"https://en.wikipedia.org/wiki/Normal_distribution\" target=\"_blank\">normal distribution</a> on the data.</li>\n",
    "\t<li>Compare the results of differential gene expression analysis under the two scenarios above.</li>\n",
    "</ul>\n",
    "\n",
    "<p><img alt=\"2019-04-16_07_BioITWorld_Class-Project.jpg\" src=\"https://datasets.genepattern.org/data/BioITWorld/2019-04-16_07_BioITWorld_Class-Project.jpg\" /></p>\n"
   ]
  },
  {
   "cell_type": "code",
   "execution_count": 1,
   "metadata": {
    "genepattern": {
     "name": "Login",
     "server": "https://cloud.genepattern.org/gp",
     "show_code": false,
     "type": "auth"
    },
    "scrolled": true
   },
   "outputs": [
    {
     "data": {
      "application/vnd.jupyter.widget-view+json": {
       "model_id": "d3687f10eae845539b1105a3b357c897",
       "version_major": 2,
       "version_minor": 0
      },
      "text/plain": [
       "GPAuthWidget()"
      ]
     },
     "metadata": {},
     "output_type": "display_data"
    }
   ],
   "source": [
    "# Requires GenePattern Notebook: pip install genepattern-notebook\n",
    "import gp\n",
    "import genepattern\n",
    "\n",
    "# Username and password removed for security reasons.\n",
    "genepattern.display(genepattern.session.register(\"https://cloud.genepattern.org/gp\", \"\", \"\"))"
   ]
  },
  {
   "cell_type": "markdown",
   "metadata": {},
   "source": [
    "## Section 1: Load and Filter the Dataset"
   ]
  },
  {
   "cell_type": "markdown",
   "metadata": {},
   "source": [
    "In brief, the dataset we will use in this notebook is RNA-Seq counts downloaded from TCGA. We have selected 40 samples of Breast Invasive Carcinoma (BRCA), 20 of those samples come from tumor tissue and 20 come from their corresponding normal tissue."
   ]
  },
  {
   "cell_type": "markdown",
   "metadata": {},
   "source": [
    "### 1.1 Load the CLS file for future use by using the Python function below. "
   ]
  },
  {
   "cell_type": "markdown",
   "metadata": {},
   "source": [
    "In order to make the phenotype labels file (the CLS file) easily accessible in the GenePattern modules in this notebook, we will use a Python function wrapped in a GenePattern UIBuilder cell titled **`Load URL Into Notebook {}`** using this function is as simple as typing the url which contains the data we want to load.\n",
    "<div class=\"alert alert-info\">  \n",
    "<ul>\n",
    "<li><b>url</b>: Drag and drop the link to <a href=\"https://datasets.genepattern.org/data/TCGA_BRCA/WP_0_BRCA_cp_40_samples.cls\">this CLS file</a><br>\n",
    "    <em>Note: It should display the file's url after you have done so.</em>  \n",
    "</ul>\n",
    "</div>"
   ]
  },
  {
   "cell_type": "code",
   "execution_count": 6,
   "metadata": {
    "genepattern": {
     "description": "This simple function ",
     "name": "Load URL Into Notebook",
     "param_values": {
      "output_var": "loaded_url",
      "url": "https://datasets.genepattern.org/data/TCGA_BRCA/WP_0_BRCA_cp_40_samples.cls"
     },
     "show_code": false,
     "type": "uibuilder"
    },
    "nbtools": {
     "description": "This simple function ",
     "name": "Load URL Into Notebook",
     "param_values": {
      "output_var": "",
      "url": "https://datasets.genepattern.org/data/TCGA_BRCA/WP_0_BRCA_cp_40_samples.cls"
     },
     "show_code": false,
     "type": "uibuilder"
    }
   },
   "outputs": [
    {
     "data": {
      "application/vnd.jupyter.widget-view+json": {
       "model_id": "b179af1f514f47a6843d59433dcf338b",
       "version_major": 2,
       "version_minor": 0
      },
      "text/plain": [
       "UIBuilder(description='This simple function ', function_import='load_data_from_url', name='Load URL Into Noteb…"
      ]
     },
     "metadata": {},
     "output_type": "display_data"
    }
   ],
   "source": [
    "@genepattern.build_ui(name=\"Load URL Into Notebook\",\n",
    "                      parameters={\n",
    "                          \"url\": {\"default\":\"https://datasets.genepattern.org/data/TCGA_BRCA/WP_0_BRCA_cp_40_samples.cls\"},\n",
    "                          \"output_var\":{\"default\":\"\", \"hide\":True}\n",
    "                                 })\n",
    "def load_data_from_url(url):\n",
    "    \"\"\"This simple function \"\"\"\n",
    "    return genepattern.GPUIOutput(files=[url])"
   ]
  },
  {
   "cell_type": "markdown",
   "metadata": {},
   "source": [
    "<div class=\"well\">\n",
    "    <em>Note:</em> you can use this function to load data from an URL in any of your notebooks\n",
    "</div>"
   ]
  },
  {
   "cell_type": "markdown",
   "metadata": {},
   "source": [
    "### 1.2 Filter out uninformative genes"
   ]
  },
  {
   "cell_type": "markdown",
   "metadata": {},
   "source": [
    "<div class=\"alert alert-info\">\n",
    "\n",
    "<p>In order to remove the uninformative genes from the the HTseq dataset (i.e., the rows in the GCT file with the smallest variance), create a new cell below this one and use the <strong>PreprocessDataset*</strong> GenePattern module with these parameters:</p>\n",
    "\n",
    "<ul>\n",
    "\t<li><strong>input filename</strong>: Drag and drop the link to <a href=\"https://datasets.genepattern.org/data/TCGA_BRCA/WP_0_BRCA_cp_40_samples.gct\" target=\"_blank\">this GCT file</a><br />\n",
    "\t<em>Note: It should display the file&#39;s url after you have done so.</em></li>\n",
    "\t<li><strong>output filename: workshop_BRCA_filtered.gct</strong></li>\n",
    "    <li><strong>ceiling: </strong> 20000000.\n",
    "    <br />\n",
    "\t<em>Note: The default value is 20,000 we are changing this value to 20,000,000.</em></li>\n",
    "\t<li>The rest of the parameters can be left as default.</li>\n",
    "</ul>\n",
    "</div>"
   ]
  },
  {
   "cell_type": "code",
   "execution_count": 2,
   "metadata": {
    "genepattern": {
     "description": "Performs several preprocessing steps on a res, gct, or odf input file",
     "name": "PreprocessDataset",
     "param_values": {
      "ceiling": null,
      "floor": null,
      "input.filename": [],
      "job.cpuCount": null,
      "job.memory": null,
      "job.walltime": null,
      "log2.transform": null,
      "min.delta": null,
      "min.fold.change": null,
      "num.outliers.to.exclude": null,
      "number.of.columns.above.threshold": null,
      "output.file": null,
      "output.file.format": null,
      "row.normalization": null,
      "row.sampling.rate": null,
      "threshold.and.filter": null,
      "threshold.for.removing.rows": null
     },
     "show_code": false,
     "type": "task"
    }
   },
   "outputs": [
    {
     "data": {
      "application/vnd.jupyter.widget-view+json": {
       "model_id": "f3a2af81e18348d9904fe83ff9e22cfd",
       "version_major": 2,
       "version_minor": 0
      },
      "text/plain": [
       "GPTaskWidget(lsid='urn:lsid:broad.mit.edu:cancer.software.genepattern.module.analysis:00020')"
      ]
     },
     "metadata": {},
     "output_type": "display_data"
    }
   ],
   "source": [
    "preprocessdataset_task = gp.GPTask(genepattern.session.get(0), 'urn:lsid:broad.mit.edu:cancer.software.genepattern.module.analysis:00020')\n",
    "preprocessdataset_job_spec = preprocessdataset_task.make_job_spec()\n",
    "preprocessdataset_job_spec.set_parameter(\"input.filename\", \"\")\n",
    "preprocessdataset_job_spec.set_parameter(\"threshold.and.filter\", \"1\")\n",
    "preprocessdataset_job_spec.set_parameter(\"floor\", \"20\")\n",
    "preprocessdataset_job_spec.set_parameter(\"ceiling\", \"20000000\")\n",
    "preprocessdataset_job_spec.set_parameter(\"min.fold.change\", \"3\")\n",
    "preprocessdataset_job_spec.set_parameter(\"min.delta\", \"100\")\n",
    "preprocessdataset_job_spec.set_parameter(\"num.outliers.to.exclude\", \"0\")\n",
    "preprocessdataset_job_spec.set_parameter(\"row.normalization\", \"0\")\n",
    "preprocessdataset_job_spec.set_parameter(\"row.sampling.rate\", \"1\")\n",
    "preprocessdataset_job_spec.set_parameter(\"threshold.for.removing.rows\", \"\")\n",
    "preprocessdataset_job_spec.set_parameter(\"number.of.columns.above.threshold\", \"\")\n",
    "preprocessdataset_job_spec.set_parameter(\"log2.transform\", \"0\")\n",
    "preprocessdataset_job_spec.set_parameter(\"output.file.format\", \"3\")\n",
    "preprocessdataset_job_spec.set_parameter(\"output.file\", \"workshop_BRCA_filtered.gct\")\n",
    "preprocessdataset_job_spec.set_parameter(\"job.memory\", \"2 Gb\")\n",
    "preprocessdataset_job_spec.set_parameter(\"job.walltime\", \"02:00:00\")\n",
    "preprocessdataset_job_spec.set_parameter(\"job.cpuCount\", \"1\")\n",
    "genepattern.display(preprocessdataset_task)"
   ]
  },
  {
   "cell_type": "markdown",
   "metadata": {},
   "source": [
    "---"
   ]
  },
  {
   "cell_type": "markdown",
   "metadata": {},
   "source": [
    "## Section 2: Analyzing HTseq Counts Using DESeq2"
   ]
  },
  {
   "cell_type": "markdown",
   "metadata": {},
   "source": [
    "The results you generate in this section will be used as the reference for comparison later in this notebook and will be refered to as **`DESeq2_results`**."
   ]
  },
  {
   "cell_type": "markdown",
   "metadata": {},
   "source": [
    "### 2.1 Perform differential gene expression using DESeq2 "
   ]
  },
  {
   "cell_type": "markdown",
   "metadata": {},
   "source": [
    "<div class=\"alert alert-info\">\n",
    "    Create a new cell bellow this one and use the <b>DESeq2</b> GenePattern module using the following parameters:\n",
    "<ul>\n",
    "    <li><b>input file</b>: From the dropdown menu, choose the output from the PreprocessDataset module (i.e., <b>workshop_BRCA_filtered.gct</b> if you used the suggested parameters in section 1).</li>\n",
    "    <li><b>cls file</b>: From the dropdown menu, choose the output from the <b>`Load URL Into Notebook {}`</b>> UIBuilder cell (i.e., <b>WP_0_BRCA_cp_40_samples.cls</b> if you used the suggested parameters in section 1).</li>\n",
    "    <li>Click on <b>Run</b> and move on to step 2.2 of this section once the job is complete.   </li></ul>\n",
    "</div>"
   ]
  },
  {
   "cell_type": "code",
   "execution_count": 3,
   "metadata": {
    "genepattern": {
     "description": "A Differential Expression workflow for RNA-Seq data based on the DESeq2 package from Bioconductor ",
     "name": "DESeq2",
     "param_values": {
      "cls.file": [],
      "confounding.variable.cls.file": null,
      "fdr.threshold": null,
      "input.file": [],
      "job.cpuCount": null,
      "job.memory": null,
      "job.walltime": null,
      "output.file.base": null,
      "qc.plot.format": null,
      "random.seed": null,
      "top.N.count": null
     },
     "show_code": false,
     "type": "task"
    }
   },
   "outputs": [
    {
     "data": {
      "application/vnd.jupyter.widget-view+json": {
       "model_id": "7b6c56061a0f4853a73cb239ae928dab",
       "version_major": 2,
       "version_minor": 0
      },
      "text/plain": [
       "GPTaskWidget(lsid='urn:lsid:broad.mit.edu:cancer.software.genepattern.module.analysis:00362')"
      ]
     },
     "metadata": {},
     "output_type": "display_data"
    }
   ],
   "source": [
    "deseq2_task = gp.GPTask(genepattern.session.get(0), 'urn:lsid:broad.mit.edu:cancer.software.genepattern.module.analysis:00362')\n",
    "deseq2_job_spec = deseq2_task.make_job_spec()\n",
    "deseq2_job_spec.set_parameter(\"input.file\", \"\")\n",
    "deseq2_job_spec.set_parameter(\"cls.file\", \"\")\n",
    "deseq2_job_spec.set_parameter(\"confounding.variable.cls.file\", \"\")\n",
    "deseq2_job_spec.set_parameter(\"output.file.base\", \"<input.file_basename>\")\n",
    "deseq2_job_spec.set_parameter(\"qc.plot.format\", \"skip\")\n",
    "deseq2_job_spec.set_parameter(\"fdr.threshold\", \"0.1\")\n",
    "deseq2_job_spec.set_parameter(\"top.N.count\", \"20\")\n",
    "deseq2_job_spec.set_parameter(\"random.seed\", \"779948241\")\n",
    "deseq2_job_spec.set_parameter(\"job.memory\", \"2 Gb\")\n",
    "deseq2_job_spec.set_parameter(\"job.walltime\", \"02:00:00\")\n",
    "deseq2_job_spec.set_parameter(\"job.cpuCount\", \"1\")\n",
    "genepattern.display(deseq2_task)"
   ]
  },
  {
   "cell_type": "markdown",
   "metadata": {},
   "source": [
    "### 2.2 Extract top 25 differentially expressed genes and save them to a DataFrame for later use"
   ]
  },
  {
   "cell_type": "markdown",
   "metadata": {},
   "source": [
    "<div class=\"alert alert-info\">We will parse the one of the TXT files from the previous cell (<strong>DESeq2</strong>) and extract only the information that we want (i.e., the name and rank of the 100 most differentially expressed genes) and save that list in a python dictionary named <strong><code>DESeq2_results</code></strong>. To do so, we are using the GenePattern UI Builder in the next cell. Feel free to check out the underlying code if you want. Set the input parameters as follows:\n",
    "\n",
    "<ul>\n",
    "\t<li>Send the <strong>first output</strong> of <strong>DESeq2</strong> to Extract Ranked Gene List From TXT GenePattern Variable { }\n",
    "\t<ul>\n",
    "\t\t<li>Hint: the name of the file should be <strong>workshop_BRCA_filtered.normal.vs.tumor.DESeq2_results_report.txt</strong></li>\n",
    "\t\t<li>From the dropdown menu, choose the output from the DESeq2 module (i.e., <b>...results_report.txt</b> if you used the suggested parameters in section 1)</li>\n",
    "\t</ul>\n",
    "\t</li>\n",
    "\t<li><strong>file var</strong>: the action just before this one should have populated this parameter with a long URL similar to this one: <em>https://gp-beta-ami.genepattern.org/gp/jobResults/1234567/workshop_BRCA_filtered.normal.vs.tumor.DESeq2_results_report.txt</em>.</li>\n",
    "\t<li><strong>number of genes</strong>: 25 (default)</li>\n",
    "\t<li><strong>verbose</strong>: true (default)</li>\n",
    "\t<li>Confirm that the <strong>output variable</strong> is is set to be <strong>DESeq2_results</strong></li>\n",
    "\t<li>Run the cell.</li>\n",
    "</ul>\n",
    "</div>\n"
   ]
  },
  {
   "cell_type": "code",
   "execution_count": 7,
   "metadata": {
    "genepattern": {
     "description": "",
     "name": "Extract Ranked Gene List From TXT GenePattern Variable",
     "param_values": {
      "file_var": null,
      "number_of_genes": "25",
      "output_var": "negative_binomial_results",
      "verbose": "true"
     },
     "show_code": false,
     "type": "uibuilder"
    },
    "nbtools": {
     "description": "",
     "name": "Extract Ranked Gene List From TXT GenePattern Variable",
     "param_values": {
      "file_var": [],
      "number_of_genes": "25",
      "output_var": "DESeq2_results",
      "verbose": "true"
     },
     "show_code": false,
     "type": "uibuilder"
    }
   },
   "outputs": [
    {
     "data": {
      "application/vnd.jupyter.widget-view+json": {
       "model_id": "6f5bb06609314739b8edc82e0bee5039",
       "version_major": 2,
       "version_minor": 0
      },
      "text/plain": [
       "UIBuilder(function_import='extract_genes_from_txt', name='Extract Ranked Gene List From TXT GenePattern Variab…"
      ]
     },
     "metadata": {},
     "output_type": "display_data"
    }
   ],
   "source": [
    "import genepattern\n",
    "@genepattern.build_ui(name=\"Extract Ranked Gene List From TXT GenePattern Variable\",\n",
    "                       parameters={\n",
    "                                    \"file_var\": {\n",
    "                                                 \"type\": \"file\",\n",
    "                                                 \"kinds\": [\"txt\"],\n",
    "                                    },\n",
    "                                   \"number_of_genes\": {\"default\":25},\n",
    "                                   \"output_var\": {\"default\":\"DESeq2_results\"},\n",
    "                        })\n",
    "def extract_genes_from_txt(file_var:'URL of the results_report_txt file from DESeq2', \n",
    "                           number_of_genes:'How many genes to extract'=100, \n",
    "                           verbose:'Whether or not to print the gene list'=True):\n",
    "    \n",
    "    genes_dict = {}  # Initializing the dictionary of genes and rankings\n",
    "    \n",
    "    # Get the job number and name of the file\n",
    "    temp = file_var.split('/')\n",
    "    # programatically access that job to open the file\n",
    "    gp_file = eval('job'+temp[5]+'.get_file(\"'+temp[6]+'\")')\n",
    "    py_file = gp_file.open()\n",
    "    py_file.readline()\n",
    "    \n",
    "    rank = 1\n",
    "    for line in py_file.readlines():\n",
    "        formatted_line = str(line,'utf-8').strip('\\n').split('\\t')\n",
    "        genes_dict[formatted_line[0]] = rank\n",
    "        if rank >= number_of_genes:\n",
    "            break\n",
    "        rank += 1\n",
    "    \n",
    "    if verbose:\n",
    "        # For display only\n",
    "        for gene in genes_dict:\n",
    "            print(\"{}: {}\".format(genes_dict[gene],gene))\n",
    "    \n",
    "    return genes_dict"
   ]
  },
  {
   "cell_type": "markdown",
   "metadata": {},
   "source": [
    "---"
   ]
  },
  {
   "cell_type": "markdown",
   "metadata": {},
   "source": [
    "## Section 3: Analyzing HTSeq Counts Using ComparativeMarkerSelection"
   ]
  },
  {
   "cell_type": "markdown",
   "metadata": {},
   "source": [
    "These results will be used for comparison later in this notebook and will be refered to as **`CMS_results`**"
   ]
  },
  {
   "cell_type": "markdown",
   "metadata": {},
   "source": [
    "### 3.1 Transform HTSeq counts by using VoomNormalize"
   ]
  },
  {
   "cell_type": "markdown",
   "metadata": {},
   "source": [
    "<div class=\"alert alert-info\">\n",
    "<h3 style=\"margin-top: 0;\"> Instructions <i class=\"fa fa-info-circle\"></i></h3>\n",
    "Create a new cell bellow this one and use the <strong>VoomNormalize</strong> GenePattern module with the following parameters:\n",
    "\n",
    "<ul>\n",
    "\t<li><strong>input file</strong>: The output from the <strong>PreprocessDataset</strong> module (i.e., <strong>workshop_BRCA_filtered.gct</strong> if you used the suggested parameters in section 1).</li>\n",
    "\t<li><strong>cls file</strong>: The output from the <strong>`Load URL Into Notebook {}`</strong> UIBuilder cell (i.e., <strong>WP_0_BRCA_cp_40_samples.cls</strong> is you used the suggested parameters in section 1).</li>\n",
    "\t<li><strong>output file</strong>: leave as default.</li>\n",
    "</ul>\n",
    "</div>"
   ]
  },
  {
   "cell_type": "code",
   "execution_count": 4,
   "metadata": {
    "genepattern": {
     "description": "Preprocess RNA-Seq count data in a GCT file so that it is suitable for use in GenePattern analyses. Formerly called \"PreprocessReadCounts\"",
     "name": "VoomNormalize",
     "param_values": {
      "cls.file": [],
      "expression.value.filter.threshold": null,
      "input.file": [],
      "job.cpuCount": null,
      "job.memory": null,
      "job.walltime": null,
      "output.file": null
     },
     "type": "task"
    }
   },
   "outputs": [
    {
     "data": {
      "application/vnd.jupyter.widget-view+json": {
       "model_id": "f7e95aeb9a9d4ab2aa65b478fd51c83f",
       "version_major": 2,
       "version_minor": 0
      },
      "text/plain": [
       "GPTaskWidget(lsid='urn:lsid:broad.mit.edu:cancer.software.genepattern.module.analysis:00355')"
      ]
     },
     "metadata": {},
     "output_type": "display_data"
    }
   ],
   "source": [
    "voomnormalize_task = gp.GPTask(genepattern.session.get(0), 'urn:lsid:broad.mit.edu:cancer.software.genepattern.module.analysis:00355')\n",
    "voomnormalize_job_spec = voomnormalize_task.make_job_spec()\n",
    "voomnormalize_job_spec.set_parameter(\"input.file\", \"\")\n",
    "voomnormalize_job_spec.set_parameter(\"cls.file\", \"\")\n",
    "voomnormalize_job_spec.set_parameter(\"output.file\", \"<input.file_basename>.preprocessed.gct\")\n",
    "voomnormalize_job_spec.set_parameter(\"expression.value.filter.threshold\", \"1\")\n",
    "voomnormalize_job_spec.set_parameter(\"job.memory\", \"2 Gb\")\n",
    "voomnormalize_job_spec.set_parameter(\"job.walltime\", \"02:00:00\")\n",
    "voomnormalize_job_spec.set_parameter(\"job.cpuCount\", \"1\")\n",
    "genepattern.display(voomnormalize_task)"
   ]
  },
  {
   "cell_type": "markdown",
   "metadata": {},
   "source": [
    "### 3.2 Perform differential gene expression analysis on transformed counts using ComparativeMarkerSelection"
   ]
  },
  {
   "cell_type": "markdown",
   "metadata": {},
   "source": [
    "<div class=\"alert alert-info\">Create a new cell bellow this one and use the <strong>ComparativeMarkerSelection</strong> GenePattern module with the following parameters:\n",
    "\n",
    "<ul>\n",
    "\t<li><strong>input file</strong>: The output from the <strong>PreprocessReadCounts</strong> module (i.e., <strong>workshop_BRCA_filtered.preprocessed.gct</strong> if you used the suggested parameters in step 5.1 of this section).</li>\n",
    "\t<li><strong>cls file</strong>: The output from the <strong>`Load URL Into Notebook {}`</strong> UIBuilder cell (i.e., <strong>WP_0_BRCA_cp_40_samples.cls</strong> is you used the suggested parameters in section 1).</li>\n",
    "\t<li>The rest of the parameters can be left as default.</li>\n",
    "</ul>\n",
    "</div>\n"
   ]
  },
  {
   "cell_type": "code",
   "execution_count": 5,
   "metadata": {
    "genepattern": {
     "description": "Identify differentially expressed genes that can discriminate between distinct classes of samples.",
     "name": "ComparativeMarkerSelection",
     "param_values": {
      "balanced": null,
      "cls.file": [],
      "complete": null,
      "confounding.variable.cls.file": null,
      "input.file": [],
      "job.cpuCount": null,
      "job.memory": null,
      "job.walltime": null,
      "log.transformed.data": null,
      "min.std": null,
      "number.of.permutations": null,
      "output.filename": null,
      "phenotype.test": null,
      "random.seed": null,
      "smooth.p.values": null,
      "test.direction": null,
      "test.statistic": null
     },
     "type": "task"
    }
   },
   "outputs": [
    {
     "data": {
      "application/vnd.jupyter.widget-view+json": {
       "model_id": "7f2079191684408687ef4d1290163522",
       "version_major": 2,
       "version_minor": 0
      },
      "text/plain": [
       "GPTaskWidget(lsid='urn:lsid:broad.mit.edu:cancer.software.genepattern.module.analysis:00044')"
      ]
     },
     "metadata": {},
     "output_type": "display_data"
    }
   ],
   "source": [
    "comparativemarkerselection_task = gp.GPTask(genepattern.session.get(0), 'urn:lsid:broad.mit.edu:cancer.software.genepattern.module.analysis:00044')\n",
    "comparativemarkerselection_job_spec = comparativemarkerselection_task.make_job_spec()\n",
    "comparativemarkerselection_job_spec.set_parameter(\"input.file\", \"\")\n",
    "comparativemarkerselection_job_spec.set_parameter(\"cls.file\", \"\")\n",
    "comparativemarkerselection_job_spec.set_parameter(\"confounding.variable.cls.file\", \"\")\n",
    "comparativemarkerselection_job_spec.set_parameter(\"test.direction\", \"2\")\n",
    "comparativemarkerselection_job_spec.set_parameter(\"test.statistic\", \"0\")\n",
    "comparativemarkerselection_job_spec.set_parameter(\"min.std\", \"\")\n",
    "comparativemarkerselection_job_spec.set_parameter(\"number.of.permutations\", \"10000\")\n",
    "comparativemarkerselection_job_spec.set_parameter(\"log.transformed.data\", \"false\")\n",
    "comparativemarkerselection_job_spec.set_parameter(\"complete\", \"false\")\n",
    "comparativemarkerselection_job_spec.set_parameter(\"balanced\", \"false\")\n",
    "comparativemarkerselection_job_spec.set_parameter(\"random.seed\", \"779948241\")\n",
    "comparativemarkerselection_job_spec.set_parameter(\"smooth.p.values\", \"true\")\n",
    "comparativemarkerselection_job_spec.set_parameter(\"phenotype.test\", \"one versus all\")\n",
    "comparativemarkerselection_job_spec.set_parameter(\"output.filename\", \"<input.file_basename>.comp.marker.odf\")\n",
    "comparativemarkerselection_job_spec.set_parameter(\"job.memory\", \"2 Gb\")\n",
    "comparativemarkerselection_job_spec.set_parameter(\"job.walltime\", \"02:00:00\")\n",
    "comparativemarkerselection_job_spec.set_parameter(\"job.cpuCount\", \"1\")\n",
    "genepattern.display(comparativemarkerselection_task)"
   ]
  },
  {
   "cell_type": "markdown",
   "metadata": {},
   "source": [
    "### 3.3 Extract top 100 genes and save to a dictionary for later use."
   ]
  },
  {
   "cell_type": "markdown",
   "metadata": {},
   "source": [
    "<div class=\"alert alert-info\">\n",
    "<p>We will parse the ODF file from the <strong>ComparativeMarkerSelection</strong> you just ran (using the <strong>preprocessed</strong> data) and extract only the information that we want (i.e., the name and rank of the 100 most differentially expressed genes) and save that list in a python dictionary named <strong><code>transformed_normal_results</code></strong>. To do so, we are using the GenePattern UI Builder in the next cell. Feel free to check out the underlying code if you want. Set the input parameters as follows:</p>\n",
    "\n",
    "<ul>\n",
    "    <li>Choose the <em>workshop_BRCA_filtered.preprocessed.comp.marker.odf</em> from the dropdown menu of the cell below.</li>\n",
    "\tThe action just before this one should have populated this parameter with a long URL similar to this one: <em>https://gp-beta-ami.genepattern.org/gp/jobResults/1234567/workshop_BRCA_filtered.preprocessed.comp.marker.odf</em>.\n",
    "\t<li><strong>number of genes</strong>: 100 (default)</li>\n",
    "\t<li><strong>verbose</strong>: true (default)</li>\n",
    "\t<li>Confirm that the <strong>output variable</strong> is is set to be <strong>CMS_results</strong></li>\n",
    "\t<li>Run the cell.</li>\n",
    "</ul>\n",
    "\n",
    "<em>The Pandas warning can be ignored</em>\n",
    "\n",
    "</div>\n"
   ]
  },
  {
   "cell_type": "code",
   "execution_count": 11,
   "metadata": {
    "genepattern": {
     "description": "",
     "name": "Extract Ranked Gene List From ODF GenePattern Variable",
     "output_variable": "transformed_normal_results",
     "param_values": {
      "GP_ODF": null,
      "number_of_genes": "25",
      "output_var": "transformed_normal_results",
      "verbose": "true"
     },
     "show_code": false,
     "type": "uibuilder"
    },
    "nbtools": {
     "description": "",
     "name": "Extract Ranked Gene List From ODF GenePattern Variable",
     "param_values": {
      "GP_ODF": "",
      "number_of_genes": "100",
      "output_var": "CMS_results",
      "verbose": "true"
     },
     "show_code": false,
     "type": "uibuilder"
    }
   },
   "outputs": [
    {
     "data": {
      "application/vnd.jupyter.widget-view+json": {
       "model_id": "605fe8b5f21449158ca4524768612f30",
       "version_major": 2,
       "version_minor": 0
      },
      "text/plain": [
       "UIBuilder(function_import='custom_CMSreader', name='Extract Ranked Gene List From ODF GenePattern Variable', p…"
      ]
     },
     "metadata": {},
     "output_type": "display_data"
    }
   ],
   "source": [
    "import warnings\n",
    "warnings.filterwarnings('ignore')\n",
    "\n",
    "from gp.data import ODF\n",
    "#transformed_normal_results = custom_CMSreader(**INSERT_THE_VALUE_YOU_COPIED_IN_THE_PREVIOUS_CELL_HERE**, number_of_genes=100)\n",
    "def custom_CMSreader(GP_ODF:'URL of the ODF output from ComparativeMarkerSelection',\n",
    "                     number_of_genes:'How many genes to extract'=100, \n",
    "                     verbose:'Whether or not to print the gene list'=True):\n",
    "    \n",
    "    # Get the job number and name of the file\n",
    "    temp = GP_ODF.split('/')\n",
    "    # programatically access that job to open the file\n",
    "    GP_ODF = eval('ODF(job'+temp[5]+'.get_file(\"'+temp[6]+'\"))')\n",
    "#     GP_ODF = GP_ODF.dataframe\n",
    "    GP_ODF = GP_ODF.loc[GP_ODF['Rank']<=number_of_genes,['Rank','Feature']]\n",
    "    GP_ODF.set_index('Feature', inplace=True)\n",
    "    to_return = GP_ODF.to_dict()['Rank']\n",
    "    if verbose:\n",
    "        # For display only\n",
    "        genes_list = sorted([[v,k] for k,v in to_return.items()])\n",
    "        for gene in genes_list:\n",
    "            print(\"{}: {}\".format(gene[0],gene[1]))\n",
    "    return to_return\n",
    "# naive_normal_results = custom_CMSreader(**INSERT_THE_VALUE_YOU_COPIED_IN_THE_PREVIOUS_CELL_HERE**, number_of_genes=100)\n",
    "\n",
    "genepattern.GPUIBuilder(custom_CMSreader, \n",
    "                        name=\"Extract Ranked Gene List From ODF GenePattern Variable\",\n",
    "                        parameters={\n",
    "                                    \"GP_ODF\": {  \"name\": \"Comparative Marker Selection ODF filename\",\n",
    "                                                 \"type\": \"file\",\n",
    "                                                 \"kinds\": [\"Comparative Marker Selection\", \"odf\",\"ODF\"],\n",
    "                                                 \"description\":\"The output from ComparativeMarkerSelection\",\n",
    "                                            },\n",
    "                                   \"number_of_genes\": {\"default\":25},\n",
    "                                   \"output_var\": {\"default\":\"CMS_results\"},\n",
    "                        })"
   ]
  },
  {
   "cell_type": "markdown",
   "metadata": {},
   "source": [
    "---"
   ]
  },
  {
   "cell_type": "markdown",
   "metadata": {},
   "source": [
    "## Section 4: Comparing Results of the Negative Binomial and Transformed Normal Models"
   ]
  },
  {
   "cell_type": "markdown",
   "metadata": {},
   "source": [
    "In this short section we compare the dictionaries which contain the lists of top differentially expressed genes and their ranks. Use the following parameters:  \n",
    "- **reference list**: DESeq2_results\n",
    "- **new list**: CMS_results"
   ]
  },
  {
   "cell_type": "code",
   "execution_count": 9,
   "metadata": {
    "genepattern": {
     "description": "",
     "name": "Compare Two Ranked Lists",
     "param_values": {
      "new_list": "transformed_normal_results",
      "output_var": "temp_result_1",
      "reference_list": "negative_binomial_results"
     },
     "show_code": false,
     "type": "uibuilder"
    },
    "nbtools": {
     "description": "",
     "name": "Compare Two Ranked Lists",
     "param_values": {
      "new_list": "",
      "output_var": "temp_result_1",
      "reference_list": ""
     },
     "show_code": false,
     "type": "uibuilder"
    },
    "scrolled": true
   },
   "outputs": [
    {
     "data": {
      "application/vnd.jupyter.widget-view+json": {
       "model_id": "6519f8f54e7f4c8fabb869acca8e39cc",
       "version_major": 2,
       "version_minor": 0
      },
      "text/plain": [
       "UIBuilder(function_import='compare_dictionaries', name='Compare Two Ranked Lists', params=[{'name': 'reference…"
      ]
     },
     "metadata": {},
     "output_type": "display_data"
    }
   ],
   "source": [
    "from scipy.stats import kendalltau as kTau\n",
    "\n",
    "def compare_dictionaries(reference_list, new_list):\n",
    "#     print(reference_list)\n",
    "#     print(new_list)\n",
    "    # compute how many of the genes in ref are in new\n",
    "    common = (list(set(reference_list) & set(new_list)))\n",
    "    \n",
    "    ref_common = [reference_list[temp] for temp in common]\n",
    "    new_common = [new_list[temp] for temp in common]\n",
    "    kendall_tau = kTau(ref_common,new_common)[0]  # Kendall's Tau measures the similarity between to ordered lists.\n",
    "    \n",
    "    metric = 0.5*(1+kendall_tau) * len(common)/len(reference_list)  # Penalizing low overlap between lists.\n",
    "    \n",
    "    \n",
    "    print(\"There is a {:.3g}% overlap.\".format(100*len(common)/len(reference_list)),\n",
    "          \"Custom metric is {:.3g} (simmilarity metric range [0,1])\".format(metric),\n",
    "          \"Kendall's tau is {:.3g}\".format(kendall_tau))\n",
    "    print(\"---\")\n",
    "    print(f'Here are the ranks of the new the {len(ref_common)} genes which overlap:')  \n",
    "    print(ref_common)\n",
    "    print(new_common)\n",
    "#     print( len(common)/len(reference_list))\n",
    "    return metric\n",
    "\n",
    "# compare_dictionaries(negative_binomial_results, naive_normal_results)\n",
    "\n",
    "genepattern.GPUIBuilder(compare_dictionaries, name=\"Compare Two Ranked Lists\",\n",
    "                        parameters={\n",
    "                            \"output_var\":{\"default\":\"temp_result_1\",\n",
    "                                          \"hide\":True}\n",
    "                        })\n",
    "# compare_dictionaries(negative_binomial_results, transformed_normal_results)"
   ]
  },
  {
   "cell_type": "markdown",
   "metadata": {},
   "source": [
    "---"
   ]
  }
 ],
 "metadata": {
  "genepattern": {
   "repository_url": "http://notebook.genepattern.org/services/sharing/notebooks/342/"
  },
  "kernelspec": {
   "display_name": "Python 3.7",
   "language": "python",
   "name": "python3.7"
  },
  "language_info": {
   "codemirror_mode": {
    "name": "ipython",
    "version": 3
   },
   "file_extension": ".py",
   "mimetype": "text/x-python",
   "name": "python",
   "nbconvert_exporter": "python",
   "pygments_lexer": "ipython3",
   "version": "3.7.3"
  }
 },
 "nbformat": 4,
 "nbformat_minor": 2
}
