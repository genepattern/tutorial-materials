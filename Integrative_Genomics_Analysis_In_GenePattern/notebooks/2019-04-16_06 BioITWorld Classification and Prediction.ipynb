{
 "cells": [
  {
   "cell_type": "markdown",
   "metadata": {},
   "source": [
    "# Classification and Prediction in GenePattern Notebook\n",
    "\n",
    "This notebook will show you how to use k-Nearest Neighbors (kNN) to build a predictor, use it to classify leukemia subtypes, and assess its accuracy in cross-validation."
   ]
  },
  {
   "cell_type": "markdown",
   "metadata": {},
   "source": [
    "### K-nearest-neighbors (KNN)\n",
    "KNN classifies an unknown sample by assigning it the phenotype label most frequently represented among the k nearest known samples. \n",
    "\n",
    "Additionally, you can select a weighting factor for the 'votes' of the nearest neighbors. For example, one might weight the votes by the reciprocal of the distance between neighbors to give closer neighors a greater vote."
   ]
  },
  {
   "cell_type": "markdown",
   "metadata": {},
   "source": [
    "<h2>1. Log in to GenePattern</h2>"
   ]
  },
  {
   "cell_type": "markdown",
   "metadata": {},
   "source": [
    "<div class=\"alert alert-info\">\n",
    "<h3 style=\"margin-top: 0;\"> Instructions <i class=\"fa fa-info-circle\"></i></h3>\n",
    "<ul>\n",
    "\t<li>Enter your username and password <i>(if needed)</i> in the GenePattern login cell below.</li>\n",
    "\t<li>Click <em>Log into GenePattern</em>.</li>\n",
    "\t<li>Alternatively, if you are prompted to Login as your username, just click that button and give it a couple seconds to authenticate.</li>\n",
    "</ul>\n",
    "</div>"
   ]
  },
  {
   "cell_type": "code",
   "execution_count": 8,
   "metadata": {
    "genepattern": {
     "name": "Login",
     "server": "https://cloud.genepattern.org/gp",
     "type": "auth"
    }
   },
   "outputs": [
    {
     "data": {
      "application/vnd.jupyter.widget-view+json": {
       "model_id": "d173cb6376344605ba150debf56a4463",
       "version_major": 2,
       "version_minor": 0
      },
      "text/plain": [
       "GPAuthWidget()"
      ]
     },
     "metadata": {},
     "output_type": "display_data"
    }
   ],
   "source": [
    "# Requires GenePattern Notebook: pip install genepattern-notebook\n",
    "import gp\n",
    "import genepattern\n",
    "\n",
    "# Username and password removed for security reasons.\n",
    "genepattern.display(genepattern.session.register(\"https://cloud.genepattern.org/gp\", \"\", \"\"))"
   ]
  },
  {
   "cell_type": "markdown",
   "metadata": {},
   "source": [
    "## 2. Run k-Nearest Neighbors Cross Validation"
   ]
  },
  {
   "cell_type": "markdown",
   "metadata": {},
   "source": [
    "<div class=\"alert alert-info\">\n",
    "<h3 style=\"margin-top: 0;\"> Instructions <i class=\"fa fa-info-circle\"></i></h3>\n",
    "<ol>\n",
    "<li>Select <a class=\"nbtools-markdown-file\" href=\"https://datasets.genepattern.org/data/ccmi_tutorial/2017-12-15/BRCA_HUGO_symbols.preprocessed.gct\">BRCA_HUGO_symbols.preprocessed.gct</a> in the <strong>data filename</strong> field below.\n",
    "</li><li>Select <a class=\"nbtools-markdown-file\" href=\"https://datasets.genepattern.org/data/ccmi_tutorial/2017-12-15/BRCA_HUGO_symbols.preprocessed.cls\">BRCA_HUGO_symbols.preprocessed.cls</a> in the <strong>class filename</strong> field.\n",
    "    </li><li>Click <strong>Run</strong>.</li>\n",
    "</ol>\n",
    "</div>"
   ]
  },
  {
   "cell_type": "code",
   "execution_count": 9,
   "metadata": {
    "genepattern": {
     "param_values": {
      "class.filename": null,
      "data.filename": null,
      "distance.measure": null,
      "feature.selection.statistic": null,
      "feature.summary.file": null,
      "job.cpuCount": null,
      "job.memory": null,
      "job.queue": null,
      "job.walltime": null,
      "min.std": null,
      "num.features": null,
      "num.neighbors": null,
      "pred.results.file": null,
      "weighting.type": null
     },
     "show_code": false,
     "type": "task"
    }
   },
   "outputs": [
    {
     "data": {
      "application/vnd.jupyter.widget-view+json": {
       "model_id": "c21950bb669e425a91614e276e62a8c0",
       "version_major": 2,
       "version_minor": 0
      },
      "text/plain": [
       "GPTaskWidget(lsid='urn:lsid:broad.mit.edu:cancer.software.genepattern.module.analysis:00013')"
      ]
     },
     "metadata": {},
     "output_type": "display_data"
    }
   ],
   "source": [
    "import warnings\n",
    "warnings.filterwarnings('ignore')\n",
    "\n",
    "knnxvalidation_task = gp.GPTask(genepattern.get_session(0), 'urn:lsid:broad.mit.edu:cancer.software.genepattern.module.analysis:00013')\n",
    "knnxvalidation_job_spec = knnxvalidation_task.make_job_spec()\n",
    "knnxvalidation_job_spec.set_parameter(\"data.filename\", \"\")\n",
    "knnxvalidation_job_spec.set_parameter(\"class.filename\", \"\")\n",
    "knnxvalidation_job_spec.set_parameter(\"num.features\", \"10\")\n",
    "knnxvalidation_job_spec.set_parameter(\"feature.selection.statistic\", \"0\")\n",
    "knnxvalidation_job_spec.set_parameter(\"min.std\", \"\")\n",
    "knnxvalidation_job_spec.set_parameter(\"num.neighbors\", \"3\")\n",
    "knnxvalidation_job_spec.set_parameter(\"weighting.type\", \"1\")\n",
    "knnxvalidation_job_spec.set_parameter(\"distance.measure\", \"1\")\n",
    "knnxvalidation_job_spec.set_parameter(\"pred.results.file\", \"<data.filename_basename>.pred.odf\")\n",
    "knnxvalidation_job_spec.set_parameter(\"feature.summary.file\", \"<data.filename_basename>.feat.odf\")\n",
    "genepattern.display(knnxvalidation_task)"
   ]
  },
  {
   "cell_type": "markdown",
   "metadata": {},
   "source": [
    "## 3. View a list of features used in the prediction model"
   ]
  },
  {
   "cell_type": "markdown",
   "metadata": {},
   "source": [
    "<div class=\"alert alert-info\">\n",
    "<h3 style=\"margin-top: 0;\"> Instructions <i class=\"fa fa-info-circle\"></i></h3>\n",
    "<ol>\n",
    "    <li>Select the <em>KNNXvalidation</em> job result cell by clicking anywhere in it.\n",
    "    </li><li>Click on the <i class=\"fa fa-info-circle\"></i> icon next to the <q>&lt;filename>.feat.odf</q> file.\n",
    "    </li><li>Select <q>Send to DataFrame</q>.\n",
    "</li><li>You will see a new cell created below the job result cell.\n",
    "</li><li>You will see a table of features, descriptions, and the number of times each feature was included in a model in a cross-validation loop.\n",
    "</li></ol></div>"
   ]
  },
  {
   "cell_type": "markdown",
   "metadata": {},
   "source": [
    "## 4. View prediction results"
   ]
  },
  {
   "cell_type": "markdown",
   "metadata": {},
   "source": [
    "<div class=\"alert alert-info\">\n",
    "<h3 style=\"margin-top: 0;\"> Instructions <i class=\"fa fa-info-circle\"></i></h3>\n",
    "<ol>\n",
    "    <li>For the <q>prediction results file</q> parameter below, click the down arrow in the file input box.\n",
    "    </li><li>Right click the <q>BRCA_HUGO_symbols.preprocessed.pred.odf</q> above and select <q>Copy link address</q>.</li>\n",
    "    <li>Paste the link into the <q>Prediction Results File</q> parameter.</li>\n",
    "    <li>Click <strong><em>Run</em></strong>.</li>\n",
    "    <li>You will see the prediction results in an interactive viewer.</li>\n",
    "</ol>\n",
    "</div>\n"
   ]
  },
  {
   "cell_type": "code",
   "execution_count": 10,
   "metadata": {
    "genepattern": {
     "description": "Visualizes prediction results in JavaScript",
     "name": "PredictionResultsViewer",
     "param_values": {
      "job.cpuCount": null,
      "job.memory": null,
      "job.queue": null,
      "job.walltime": null,
      "prediction.results.file": null
     },
     "type": "task"
    }
   },
   "outputs": [
    {
     "data": {
      "application/vnd.jupyter.widget-view+json": {
       "model_id": "50b6e907ae3e4b88934d53386f5ef458",
       "version_major": 2,
       "version_minor": 0
      },
      "text/plain": [
       "GPTaskWidget(lsid='urn:lsid:broad.mit.edu:cancer.software.genepattern.module.visualizer:00019')"
      ]
     },
     "metadata": {},
     "output_type": "display_data"
    }
   ],
   "source": [
    "predictionresultsviewer_task = gp.GPTask(genepattern.session.get(0), 'urn:lsid:broad.mit.edu:cancer.software.genepattern.module.visualizer:00019')\n",
    "predictionresultsviewer_job_spec = predictionresultsviewer_task.make_job_spec()\n",
    "predictionresultsviewer_job_spec.set_parameter(\"prediction.results.file\", \"\")\n",
    "genepattern.display(predictionresultsviewer_task)"
   ]
  },
  {
   "cell_type": "markdown",
   "metadata": {},
   "source": [
    "<h2>Part 2, Compare classification of Preprocessed data to non-preprocessed data</h2>\n",
    "<p>\n",
    "Back in the Data Preparation section at the beginning of the workshop, we ran the RNA-Seq read counts data through the VoomNormalize module to preprocess RNA-Seq data into a form suitable for use downstream in other GenePattern analyses originally designed for microarray data.  Many of these approaches assume that the data is distributed normally, yet this is not true of RNA-seq read count data. The PreprocessReadCounts module provides one approach to accommodate this. It uses a mean-variance modeling technique ('voom' from the limma Bioconductor package) to transform the dataset to fit an approximation of a normal distribution, with the goal of being able to apply statistical methods and workflows that assume a normal distribution.\n",
    "</p>\n",
    "<p>\n",
    "Now lets take a look at how well our KNNXValidation classifier works if we provide it with the RNA-Seq matrix from before this processing step.\n",
    "</p>\n",
    "\n",
    "<h2>5. Run KNNXValidation on the non-normalized data</h2>\n",
    "For this exercise we want you to compare the results of the classifier we used above to using the same classifier and  settings on the BRCA data that has not been run through VoomNormalize to normalize it first."
   ]
  },
  {
   "cell_type": "markdown",
   "metadata": {},
   "source": [
    "<div class=\"alert alert-info\">\n",
    "<h3 style=\"margin-top: 0;\"> Instructions <i class=\"fa fa-info-circle\"></i></h3>\n",
    "<ol>\n",
    "    <li>Select the blank cell below.</li> \n",
    "    <li>Click the <q><i class=\"fa fa-th\"></i> Tools</q> button in the toolbar above and select the <em>KNNXValidation</em> module to insert the analysis.</li>\n",
    "\t<li>Select <a class=\"nbtools-markdown-file\" href=\"https://datasets.genepattern.org/data/ccmi_tutorial/2018-09-20/BRCA_Dataset.collapsed.gct\" target=\"_blank\">BRCA_Dataset.collapsed.gct</a> in the <strong>data filename</strong> field below.  This is the version of the data that has been collapsed to HUGO symbols, but not run through VoomNormalize</li>\n",
    "\t<li>Select <a class=\"nbtools-markdown-file\" href=\"https://datasets.genepattern.org/data/ccmi_tutorial/2018-09-20/BRCA_Dataset.cls\" target=\"_blank\">BRCA_Dataset.cls</a> in the <strong>class filename</strong> field.</li>\n",
    "\t<li>Click <strong>Run</strong>.</li>\n",
    "    <li>Examine the results using the PredictionResultsViewer module.</li>\n",
    "</ol>\n",
    "</div>"
   ]
  },
  {
   "cell_type": "code",
   "execution_count": null,
   "metadata": {},
   "outputs": [],
   "source": []
  },
  {
   "cell_type": "markdown",
   "metadata": {},
   "source": [
    "<h3>Discussion</h3>\n",
    "\n",
    "<p>As you can see, the KNNXvalidation classifier works just as well for the non-normalized data, though there is slightly less confidence in one of the calls.&nbsp; This is a reflection of the fact that from a gene-expression point of view, seperating tumor cells from normal cells is actually a fairly easy distinction to make which is why we us it in these exercises.&nbsp;&nbsp;</p>\n"
   ]
  },
  {
   "cell_type": "markdown",
   "metadata": {},
   "source": [
    "## 6. Compare the selected features\n",
    "\n",
    "We saw above that using the euclidean distance metric with the pre-normalized BRCA data, that KNNXValidation does not do as good a job classifying our tumor/normal samples.  Here we will examine why that might be.\n",
    "\n",
    "<div class=\"alert alert-info\">\n",
    "<h3 style=\"margin-top: 0;\"> Instructions <i class=\"fa fa-info-circle\"></i></h3>\n",
    "<ol>\n",
    "    <li>From Step 5 above, click on <strong>BRCA_Dataset.collapsed.feat.odf</strong> and choose <Strong>Send to Dataframe</Strong></li> \n",
    "    <li>Move the resulting cell below this one using the down arrow (<i class=\"fa-arrow-down fa\"></i>) in the toolbar.</li>\n",
    "\t<li>Repeat these 2 steps for the <strong>BRCA_HUGO_symbols.preprocessed.feat.odf</strong> from the beginning of this notebook.</li>\n",
    "\t<li>Compare the lists of features.  How many features are in both runs?</li>\n",
    "</ol>\n",
    "</div>\n",
    "\n"
   ]
  },
  {
   "cell_type": "markdown",
   "metadata": {
    "heading_collapsed": true
   },
   "source": [
    "### The Answer (spoiler warning)"
   ]
  },
  {
   "cell_type": "markdown",
   "metadata": {
    "hidden": true
   },
   "source": [
    "<p class=\"lead\">'MATN2',\n",
    " 'COMP',\n",
    " 'KLHL29',\n",
    " 'SPRY2',\n",
    " 'TMEM220',\n",
    " 'MME',\n",
    " 'INHBA',\n",
    " 'SLC50A1',\n",
    " 'TNFRSF10D',\n",
    " 'NTRK2'</p>"
   ]
  },
  {
   "cell_type": "markdown",
   "metadata": {},
   "source": [
    "### Discussion\n",
    "\n",
    "<p>As you can see, the lists of features for the classifiers for the unprocessed and preprocessed data are not identical, but there is some overlap.&nbsp; Nonetheless each of the classifiers was able to perfectly classify the samples.&nbsp; As mentioned before, this is a reflection of the fact that this is a pretty easy classification problem and there are many genes that could be used to make the class distinction.</p>\n",
    "\n",
    "<p>&nbsp;</p>\n"
   ]
  },
  {
   "cell_type": "markdown",
   "metadata": {},
   "source": [
    "<h3 id=\"Bonus-Content---comparing-the-processed-and-unprocessed-data\">Bonus Content - comparing the processed and unprocessed data</h3>\n",
    "\n",
    "<p><span style=\"color: inherit ; font-family: inherit\">To try to see the differences in the data sets, you can use the cell below to generate X-Y plots of genes from the two datasets to see how they differ.</span></p>\n",
    "\n",
    "<p>The cell below will use the pre-computed results from the spoilers above.&nbsp; In addition there is a third plot that shows the unprocessed dataset after it has been log transformed as a third refernce point.</p>\n",
    "\n",
    "<p>&nbsp;</p>\n"
   ]
  },
  {
   "cell_type": "code",
   "execution_count": 4,
   "metadata": {
    "nbtools": {
     "description": "",
     "name": "show_X_Y_plots",
     "param_values": {
      "gene_1": "MME",
      "gene_2": "SPRY2",
      "output_var": ""
     },
     "show_code": false,
     "type": "uibuilder"
    }
   },
   "outputs": [
    {
     "data": {
      "application/vnd.jupyter.widget-view+json": {
       "model_id": "7bb7ca7f922f40939c92047df55d7f27",
       "version_major": 2,
       "version_minor": 0
      },
      "text/plain": [
       "UIBuilder(function_import='show_X_Y_plots', name='show_X_Y_plots', params=[{'name': 'gene_1', 'label': 'Gene 1…"
      ]
     },
     "metadata": {},
     "output_type": "display_data"
    }
   ],
   "source": [
    "%matplotlib inline\n",
    "%load_ext autoreload\n",
    "%autoreload 2\n",
    "\n",
    "import numpy as np\n",
    "from gp.data import GCT\n",
    "import matplotlib.pyplot as plt\n",
    "\n",
    "@genepattern.build_ui(parameters={\n",
    "    \"gene_1\": {\n",
    "        \"name\": \"Gene 1\",\n",
    "        \"description\": \"First gene for X-Y plots\",\n",
    "        \"default\": \"MME\",\n",
    "        \"type\": \"choice\",\n",
    "        \"choices\":{\"ADAM33\":\"ADAM33\",\n",
    "\"ANXA1\":\"ANXA1\",\n",
    "\"CCNE2\":\"CCNE2\",\n",
    "\"CDCA8\":\"CDCA8\",\n",
    "\"CERS2\":\"CERS2\",\n",
    "\"COL10A1\":\"COL10A1\",\n",
    "\"COMP\":\"COMP\",\n",
    "\"CXCL2\":\"CXCL2\",\n",
    "\"DMD\":\"DMD\",\n",
    "\"EIF2AK1\":\"EIF2AK1\",\n",
    "\"FAXDC2\":\"FAXDC2\",\n",
    "\"FLVCR1\":\"FLVCR1\",\n",
    "\"GGTA1P\":\"GGTA1P\",\n",
    "\"HSD17B6\":\"HSD17B6\",\n",
    "\"IL11RA\":\"IL11RA\",\n",
    "\"INHBA\":\"INHBA\",\n",
    "\"KIF26B\":\"KIF26B\",\n",
    "\"KLHL29\":\"KLHL29\",\n",
    "\"LINC02408\":\"LINC02408\",\n",
    "\"LMOD1\":\"LMOD1\",\n",
    "\"MAMDC2\":\"MAMDC2\",\n",
    "\"MATN2\":\"MATN2\",\n",
    "\"MIR3153\":\"MIR3153\",\n",
    "\"MME\":\"MME\",\n",
    "\"MMP11\":\"MMP11\",\n",
    "\"NTRK2\":\"NTRK2\",\n",
    "                \"RGN\":\"RGN\",\n",
    "\"ROBO3\":\"ROBO3\",\n",
    "\"SCN4B\":\"SCN4B\",\n",
    "\"SLC50A1\":\"SLC50A1\",\n",
    "\"SPRY2\":\"SPRY2\",\n",
    "\"TDRD10\":\"TDRD10\",\n",
    "\"TMEM220\":\"TMEM220\",\n",
    "\"TNFRSF10D\":\"TNFRSF10D\",\n",
    "\"TSLP\":\"TSLP\",\n",
    "\"UBE2T\":\"UBE2T\",\n",
    "\"UNC5B\":\"UNC5B\",\n",
    "\"VEGFD\":\"VEGFD\",\n",
    "\"WISP1\":\"WISP1\"}\n",
    "    },\n",
    "    \"gene_2\": {\n",
    "        \"name\": \"Gene 2\",\n",
    "        \"description\": \"Second gene for X-Y plots\",\n",
    "        \"default\": \"SPRY2\",\n",
    "        \"type\": \"choice\",\n",
    "        \"choices\":{\"ADAM33\":\"ADAM33\",\n",
    "\"ANXA1\":\"ANXA1\",\n",
    "\"CCNE2\":\"CCNE2\",\n",
    "\"CDCA8\":\"CDCA8\",\n",
    "\"CERS2\":\"CERS2\",\n",
    "\"COL10A1\":\"COL10A1\",\n",
    "\"COMP\":\"COMP\",\n",
    "\"CXCL2\":\"CXCL2\",\n",
    "\"DMD\":\"DMD\",\n",
    "\"EIF2AK1\":\"EIF2AK1\",\n",
    "\"FAXDC2\":\"FAXDC2\",\n",
    "\"FLVCR1\":\"FLVCR1\",\n",
    "\"GGTA1P\":\"GGTA1P\",\n",
    "\"HSD17B6\":\"HSD17B6\",\n",
    "\"IL11RA\":\"IL11RA\",\n",
    "\"INHBA\":\"INHBA\",\n",
    "\"KIF26B\":\"KIF26B\",\n",
    "\"KLHL29\":\"KLHL29\",\n",
    "\"LINC02408\":\"LINC02408\",\n",
    "\"LMOD1\":\"LMOD1\",\n",
    "\"MAMDC2\":\"MAMDC2\",\n",
    "\"MATN2\":\"MATN2\",\n",
    "\"MIR3153\":\"MIR3153\",\n",
    "\"MME\":\"MME\",\n",
    "\"MMP11\":\"MMP11\",\n",
    "\"NTRK2\":\"NTRK2\",\n",
    "                \"RGN\":\"RGN\",\n",
    "\"ROBO3\":\"ROBO3\",\n",
    "\"SCN4B\":\"SCN4B\",\n",
    "\"SLC50A1\":\"SLC50A1\",\n",
    "\"SPRY2\":\"SPRY2\",\n",
    "\"TDRD10\":\"TDRD10\",\n",
    "\"TMEM220\":\"TMEM220\",\n",
    "\"TNFRSF10D\":\"TNFRSF10D\",\n",
    "\"TSLP\":\"TSLP\",\n",
    "\"UBE2T\":\"UBE2T\",\n",
    "\"UNC5B\":\"UNC5B\",\n",
    "\"VEGFD\":\"VEGFD\",\n",
    "\"WISP1\":\"WISP1\"}\n",
    "    },\n",
    "    \"output_var\": {\n",
    "        \"hide\": True,\n",
    "    }\n",
    "})\n",
    "def show_X_Y_plots(gene_1, gene_2):\n",
    "\n",
    "    processedInput_GCT = GCT(gp.GPFile(genepattern.get_session(0), \"https://datasets.genepattern.org/data/ccmi_tutorial/2018-09-20/BRCA_HUGO_symbols.preprocessed.gct\"))\n",
    "    UNprocessedInput_GCT = GCT(gp.GPFile(genepattern.get_session(0), \"https://datasets.genepattern.org/data/ccmi_tutorial/2018-09-20/BRCA_Dataset.collapsed.gct\"))\n",
    "    ltgct = GCT(gp.GPFile(genepattern.get_session(0), \"https://cloud.genepattern.org/gp/jobResults/82746/BRCA_HUGO_symbols.preprocessed.gct \"))\n",
    "\n",
    "\n",
    "    # drop the description from the index\n",
    "    processedInput_GCT.reset_index(inplace=True)\n",
    "    processedInput_GCT.set_index('Name', inplace=True)\n",
    "    del processedInput_GCT['Description']\n",
    "\n",
    "    UNprocessedInput_GCT.reset_index(inplace=True)\n",
    "    UNprocessedInput_GCT.set_index('Name', inplace=True)\n",
    "    del UNprocessedInput_GCT['Description']\n",
    "\n",
    "    ltgct.reset_index(inplace=True)\n",
    "    ltgct.set_index('Name', inplace=True)\n",
    "    del ltgct['Description']\n",
    "    ltgct = ltgct.astype(float)\n",
    "\n",
    "    cls2 = gp.GPFile(genepattern.get_session(0), \"https://datasets.genepattern.org/data/ccmi_tutorial/2018-09-20/BRCA_Dataset.cls\")\n",
    "\n",
    "    clsLines =  cls2.read().splitlines()\n",
    "    labels = np.asarray(clsLines[1].split(), dtype=str)[1:] \n",
    "    classes = np.asarray(clsLines[2].strip('\\n').split(' '), dtype=int)\n",
    "\n",
    "\n",
    "    dft = processedInput_GCT.transpose()\n",
    "    dft['classes'] = [labels[i] for i in classes]\n",
    "\n",
    "    UNdft = UNprocessedInput_GCT.transpose()\n",
    "    UNdft['classes'] = [labels[i] for i in classes]\n",
    "\n",
    "    lgdft = ltgct.transpose()\n",
    "    lgdft['classes'] = [labels[i] for i in classes]\n",
    "\n",
    "\n",
    "    # First 2 plots are for 2 of the top genes for the preprocessed data\n",
    "    groups = dft.groupby('classes')\n",
    "    fig = plt.figure()\n",
    "    fig.set_size_inches(18,6)\n",
    "    ax = fig.add_subplot(132)\n",
    "    #plt.subplots()\n",
    "    #fig.set_size_inches(12,8)\n",
    "    ax.margins(0.05) # Optional, just adds 5% padding to the autoscaling\n",
    "    for name, group in groups:\n",
    "        ax.plot(group[gene_1], group[gene_2], marker='o', linestyle='', ms=5, label=name)\n",
    "    ax.legend()\n",
    "    plt.title(\"Preprocessed Data\")\n",
    "\n",
    "    UNgroups = UNdft.groupby('classes')\n",
    "\n",
    "    #fig2, ax2 = plt.subplots()\n",
    "    #fig2.set_size_inches(12,8)\n",
    "    ax2 = fig.add_subplot(131)\n",
    "    ax2.margins(0.05) # Optional, just adds 5% padding to the autoscaling\n",
    "    for name, group in UNgroups:\n",
    "        ax2.plot(group[gene_1], group[gene_2], marker='o', linestyle='', ms=5, label=name)\n",
    "    ax2.legend()\n",
    "    plt.title(\"Un-preprocessed Data\")\n",
    "\n",
    "    LGgroups = lgdft.groupby('classes')\n",
    "\n",
    "    #fig3, ax3 = plt.subplots()\n",
    "    #fig3.set_size_inches(12,8)\n",
    "    ax3 = fig.add_subplot(133)\n",
    "    ax3.margins(0.05) # Optional, just adds 5% padding to the autoscaling\n",
    "    for name, group in LGgroups:\n",
    "        ax3.plot(group[gene_1], group[gene_2], marker='o', linestyle='', ms=5, label=name)\n",
    "    ax3.legend()\n",
    "    \n",
    "\n",
    "    ax.set_xlabel(gene_1)\n",
    "    ax.set_ylabel(gene_2)\n",
    "    ax2.set_xlabel(gene_1)\n",
    "    ax2.set_ylabel(gene_2)\n",
    "    ax3.set_xlabel(gene_1)\n",
    "    ax3.set_ylabel(gene_2)\n",
    "\n",
    "    ax.set_title(\"Preprocessed Data\")\n",
    "    ax2.set_title(\"Unprocessed\")\n",
    "\n",
    "    ax3.set_title(\"Unprocessed - log transformed\")\n",
    "    \n",
    "    plt.show()\n"
   ]
  },
  {
   "cell_type": "markdown",
   "metadata": {},
   "source": [
    "<h3>Bonus - Discussion</h3>\n",
    "\n",
    "<p>As you can see from the plots, the processed (voom) data seperates the classes much more cleanly than the unprocessed data for most gene sets.&nbsp; Comparing it to the log-transformed unprocessed data we see that for many genes, the clusters on the X-Y plots appear a bit tighter, probably due to voom&#39;s variance correction.</p>\n"
   ]
  },
  {
   "cell_type": "markdown",
   "metadata": {},
   "source": [
    "## References\n",
    "\n",
    "Breiman, L., Friedman, J. H., Olshen, R. A., & Stone, C. J. 1984. [Classification and regression trees](https://www.amazon.com/Classification-Regression-Wadsworth-Statistics-Probability/dp/0412048418?ie=UTF8&*Version*=1&*entries*=0). Wadsworth & Brooks/Cole Advanced Books & Software, Monterey, CA.\n",
    "\n",
    "Golub, T.R., Slonim, D.K., Tamayo, P., Huard, C., Gaasenbeek, M., Mesirov, J.P., Coller, H., Loh, M., Downing, J.R., Caligiuri, M.A., Bloomfield, C.D., and Lander, E.S. 1999. Molecular Classification of Cancer: Class Discovery and Class Prediction by Gene Expression. [Science 286:531-537](http://science.sciencemag.org/content/286/5439/531.long).\n",
    "\n",
    "Lu, J., Getz, G., Miska, E.A., Alvarez-Saavedra, E., Lamb, J., Peck, D., Sweet-Cordero, A., Ebert, B.L., Mak, R.H., Ferrando, A.A, Downing, J.R., Jacks, T., Horvitz, H.R., Golub, T.R. 2005. MicroRNA expression profiles classify human cancers. [Nature 435:834-838](http://www.nature.com/nature/journal/v435/n7043/full/nature03702.html).\n",
    "\n",
    "Rifkin, R., Mukherjee, S., Tamayo, P., Ramaswamy, S., Yeang, C-H, Angelo, M., Reich, M., Poggio, T., Lander, E.S., Golub, T.R., Mesirov, J.P. 2003. An Analytical Method for Multiclass Molecular Cancer Classification. [SIAM Review 45(4):706-723](http://epubs.siam.org/doi/abs/10.1137/S0036144502411986).\n",
    "\n",
    "Slonim, D.K., Tamayo, P., Mesirov, J.P., Golub, T.R., Lander, E.S. 2000. Class prediction and discovery using gene expression data. In [Proceedings of the Fourth Annual International Conference on Computational Molecular Biology (RECOMB)](http://dl.acm.org/citation.cfm?id=332564). ACM Press, New York. pp. 263-272."
   ]
  }
 ],
 "metadata": {
  "anaconda-cloud": {},
  "genepattern": {
   "repository_url": "http://notebook.genepattern.org/services/sharing/notebooks/339/"
  },
  "kernelspec": {
   "display_name": "Python 3.7",
   "language": "python",
   "name": "python3.7"
  },
  "language_info": {
   "codemirror_mode": {
    "name": "ipython",
    "version": 3
   },
   "file_extension": ".py",
   "mimetype": "text/x-python",
   "name": "python",
   "nbconvert_exporter": "python",
   "pygments_lexer": "ipython3",
   "version": "3.7.3"
  },
  "widgets": {
   "state": {
    "4f07490870de4bc288ac9aa5a97520c1": {
     "views": [
      {
       "cell_index": 5
      }
     ]
    },
    "5095e18fe6bc4af99f4a77dec05a3e4d": {
     "views": [
      {
       "cell_index": 3
      }
     ]
    },
    "f8b01462103f45fea177a69b9e2390f7": {
     "views": [
      {
       "cell_index": 7
      }
     ]
    }
   },
   "version": "1.2.0"
  }
 },
 "nbformat": 4,
 "nbformat_minor": 1
}
