{
 "cells": [
  {
   "cell_type": "markdown",
   "metadata": {
    "collapsed": true
   },
   "source": [
    "# Analyzing HTseq Data Using GenePattern\n",
    "The goal of this project is twofold:\n",
    "- Analyze HTseq count data with tools that were designed for count data.\n",
    "- Process count data to be analyzed with tools designed for microarray data.\n",
    "\n",
    "<img src=\"./CCMI_workshop_project_overview.png\" width=\"80%\">"
   ]
  },
  {
   "cell_type": "markdown",
   "metadata": {},
   "source": [
    "---\n",
    "## Section 1: Load and Filter the Dataset"
   ]
  },
  {
   "cell_type": "markdown",
   "metadata": {},
   "source": [
    "### 1.1 Filter out uninformative genes.\n",
    "In order to remove the uninformative genes from the the HTseq dataset (i.e., the rows in the GCT file with the smallest variance), create a new cell below this one and use PreprocessDataset GenePattern module with these parameters:\n",
    "+ input filename: Drag and drop the link to [this GCT file](./BRCA_40_samples.gct)  \n",
    "*Note: It should display the file's url after you have done so.*  \n",
    "+ output filename: **Workshop_BRCA_filtered.< input.file_extension >**  \n",
    "  *Note: make sure you remove spaces after the \"<\" and before the \">\" characters.*    \n",
    "+ The rest of the parameters can be left as default."
   ]
  },
  {
   "cell_type": "markdown",
   "metadata": {},
   "source": [
    "### 1.2 Load the CLS file for future use by using the RenameFile GenePattern module.\n",
    "+ input filename: Drag and drop the link to [this CLS file](./BRCA_40_samples.cls)  \n",
    "*Note: It should display the file's url after you have done so.*  \n",
    "+ output filename: **Workshop_BRCA_labels.< input.file_extension >**  \n",
    "  *Note: make sure you remove spaces after the \"<\" and before the \">\" characters.*  \n",
    "+ The rest of the parameters can be left as default."
   ]
  },
  {
   "cell_type": "markdown",
   "metadata": {},
   "source": [
    "---\n",
    "## Section 2: Process HTseq Data Directly\n",
    "These results will be used as the ground truth for this notebook."
   ]
  },
  {
   "cell_type": "markdown",
   "metadata": {},
   "source": [
    "### 2.1 Perform differential gene expression using the DESeq2 GenePattern module using the followigng parameters:\n",
    "+ input file: From the dropdown menu, choose the output from the PreprocessDataset module (i.e., **Workshop_BRCA_filtered.gct** if you used the suggested parameters in Section 1).\n",
    "+ cls file: From the dropdown menu, choose the output from the RenameFile module (i.e., **Workshop_BRCA_labels.cls** is you used the suggested parameters in Section 1).\n",
    "+ Click on **Run** and move on to Step 2 of this section once the job is complete.   "
   ]
  },
  {
   "cell_type": "markdown",
   "metadata": {},
   "source": [
    "### 2.2 Extract top 100 differentially expressed genes and save them to a DataFrame for later use.\n",
    "+ Send the first output of DEseq2 to COde (e.g., **Workshop_BRCA_filtered.normal.vs.tumor.DEseq2_results_report.txt**)\n",
    "+ Copy the name of the variable name which was created.\n",
    "    - *Note: it should be a name simirlar to **workshop_brca_filtered_normal_vs_tumor_deseq2_results_report_txt_1234567** *\n",
    "+ We will parse this text file and extract only the information that we want (i.e., the name and rank of the 100 most differentially expressed genes) by running the code in the next cell"
   ]
  },
  {
   "cell_type": "code",
   "execution_count": null,
   "metadata": {},
   "outputs": [],
   "source": [
    "def extract_genes_from_txt(file_var, number_of_genes, verbose=True):\n",
    "    genes_dict = {}  # Initializing the dictionary of genes and rankings\n",
    "    py_file = file_var.open()\n",
    "    py_file.readline()\n",
    "    \n",
    "    rank = 1\n",
    "    for line in py_file.readlines():\n",
    "        formatted_line = str(line,'utf-8').strip('\\n').split('\\t')\n",
    "        genes_dict[formatted_line[0]] = rank\n",
    "        if rank >= number_of_genes:\n",
    "            break\n",
    "        rank += 1\n",
    "    \n",
    "    if verbose:\n",
    "        print(sorted([[v,k] for k,v in genes_dict.items()]))  # For display only\n",
    "    \n",
    "    return genes_dict\n",
    "\n",
    "ground_truth = extract_genes_from_txt(INSERT_THE_VALUE_YOU_COPIED_IN_THE_PREVIOUS_CELL_HERE, number_of_genes=100)"
   ]
  },
  {
   "cell_type": "markdown",
   "metadata": {},
   "source": [
    "---\n",
    "## Section 3: Naively Using HTseq Data with GenePattern"
   ]
  },
  {
   "cell_type": "markdown",
   "metadata": {},
   "source": [
    "### 3.1. Use the CompartiveMarkerSelection GenePattern module with the following parameters:\n",
    "+ input file: The output from the PreprocessDataset module (i.e., **Workshop_BRCA_filtered.gct** if you used the suggested parameters in Section 1).\n",
    "+ cls file: The output from the RenameFile module (i.e., **Workshop_BRCA_labels.cls** is you used the suggested parameters in Section 1).\n",
    "+ The rest of the parameters can be left as default."
   ]
  },
  {
   "cell_type": "markdown",
   "metadata": {},
   "source": [
    "### 3.2 Extract top 500 genes and save to a dictionary for later use.\n",
    "+ Send the ODF file from ComparativeMarkerSelection to a DataFrame.\n",
    "+ Copy the name of that variable and use it in the code below."
   ]
  },
  {
   "cell_type": "code",
   "execution_count": null,
   "metadata": {},
   "outputs": [],
   "source": [
    "def custom_CMSreader(GP_ODF, number_of_genes=20, verbose=True):\n",
    "    GP_ODF = GP_ODF.dataframe.ix[GP_ODF['Rank']<=number_of_genes,['Rank','Feature']]\n",
    "    GP_ODF.set_index('Feature', inplace=True)\n",
    "    to_return = GP_ODF.to_dict()['Rank']\n",
    "    if verbose:\n",
    "        print(sorted([[v,k] for k,v in to_return.items()]))  # For display only\n",
    "    return to_return\n",
    "\n",
    "naive = custom_CMSreader(INSERT_THE_VALUE_YOU_COPIED_IN_THE_PREVIOUS_CELL_HERE, number_of_genes=100)"
   ]
  },
  {
   "cell_type": "markdown",
   "metadata": {},
   "source": [
    "---\n",
    "## Section 4: Comparing Ground Truth to Naive Approach\n",
    "In this section we define a fuction to compare the dictionaries which contain the lists of top differentially expressed genes and their ranks. This function takes into consideration the overlap between the \"ground truth\" and the \"naive\" lists and the ranking of those common genes. "
   ]
  },
  {
   "cell_type": "code",
   "execution_count": null,
   "metadata": {},
   "outputs": [],
   "source": [
    "from scipy.stats import kendalltau as kTau\n",
    "def compare_dictionaries(ref, new):\n",
    "    # compute how many of the genes in ref are in new\n",
    "    common = (list(set(ref) & set(new)))\n",
    "    \n",
    "    ref_common = [ref[temp] for temp in common]\n",
    "    new_common = [new[temp] for temp in common]\n",
    "    kendall_tau = kTau(ref_common,new_common)[0]  # Kendall's Tau measures the similarity between to ordered lists.\n",
    "    metric = kendall_tau * len(common)/len(ref)  # Penalizing low overlap between lists.\n",
    "    \n",
    "    print(\"There is a {:.3g}% overlap.\".format(100*len(common)/len(ref)),\n",
    "          \"Custom metric is {:.3g} (metric range [0,1])\".format(metric))\n",
    "    return metric"
   ]
  },
  {
   "cell_type": "code",
   "execution_count": null,
   "metadata": {},
   "outputs": [],
   "source": [
    "compare_dictionaries(ground_truth, naive)"
   ]
  },
  {
   "cell_type": "markdown",
   "metadata": {},
   "source": [
    "---\n",
    "## Section 5: Process HTseq Counts to Before Performing Differential Expression"
   ]
  },
  {
   "cell_type": "markdown",
   "metadata": {},
   "source": [
    "### 5.1 Use the PreprocessReadCounts GenePattern module with the followibg parameters:\n",
    "+ input file: The output from the PreprocessDataset module (i.e., **Workshop_BRCA_filtered.gct** if you used the suggested parameters in Section 1).\n",
    "+ cls file: The output from the RenameFile module (i.e., **Workshop_BRCA_labels.cls** is you used the suggested parameters in Section 1).\n",
    "+ output file: leave as default."
   ]
  },
  {
   "cell_type": "markdown",
   "metadata": {},
   "source": [
    "### 5.2 Use the CompartiveMarkerSelection GenePattern module with the following parameters:\n",
    "+ input file: The output from the PreprocessReadCounts module (i.e., **Workshop_BRCA_filtered.preprocessed.gct** if you used the suggested parameters in Step 1 of this section).\n",
    "+ cls file: The output from the RenameFile module (i.e., **Workshop_BRCA_labels.cls** is you used the suggested parameters in Section 1).\n",
    "+ The rest of the parameters can be left as default."
   ]
  },
  {
   "cell_type": "markdown",
   "metadata": {},
   "source": [
    "### 5.3 Extract top 500 genes and save to a dictionary for later use.\n",
    "+ Send the ODF file from ComparativeMarkerSelection to a DataFrame.\n",
    "+ Copy the name of that variable and use it in the code below."
   ]
  },
  {
   "cell_type": "code",
   "execution_count": null,
   "metadata": {},
   "outputs": [],
   "source": [
    "preprocessed = custom_CMSreader(INSERT_THE_VALUE_YOU_COPIED_IN_THE_PREVIOUS_CELL_HERE, number_of_genes=100)"
   ]
  },
  {
   "cell_type": "markdown",
   "metadata": {},
   "source": [
    "---\n",
    "## Section 6: Comparing Ground Truth to New Approach\n",
    "In this short section we use the fuction we defined in Section 4 to compare the dictionaries which contain the lists of top differentially expressed genes and their ranks. "
   ]
  },
  {
   "cell_type": "code",
   "execution_count": null,
   "metadata": {},
   "outputs": [],
   "source": [
    "compare_dictionaries(ground_truth, preprocessed)"
   ]
  },
  {
   "cell_type": "markdown",
   "metadata": {},
   "source": [
    "*Note:* Why do we get better results after using PreprocessReadCounts? From the module's documentation:\n",
    "\n",
    ">Many of these tools were originally designed to handle microarray data - particularly from Affymetrix arrays - and so we must be mindful of that origin when preprocessing data for use with them.\n",
    ">\n",
    ">The module does this by using a mean-variance modeling technique [1] to transform the dataset to fit an approximation of a normal distribution, with the goal of thus being able to apply classic normal-based microarray-oriented statistical methods and workflows.\n"
   ]
  },
  {
   "cell_type": "markdown",
   "metadata": {},
   "source": [
    "## Extra Credit:"
   ]
  },
  {
   "cell_type": "markdown",
   "metadata": {},
   "source": [
    "\n",
    "2. Optional but encouraged:\n",
    "    + Use ComparativeMarkerSelectionViewer to verify the output of ComparativeMarkerSelection does not show any major problems.\n",
    "    + Use KMeansClustering to see if data can be clustered easily. Use the following parameters:\n",
    "        - input filename: The output from the PreprocessDataset module (i.e., **Workshop_BRCA_filtered.gct** if you used the suggested parameters in Section 1).\n",
    "        - number of clusters: 2.\n",
    "        - cluster by: columns.\n",
    "        - The rest of the parameters can be left as default.\n",
    "        - Do the two clusters correspond to the tumor tissue samples (\"TCGA-xx-xxxx-**01**\") and the normal tissue samples (\"TCGA-xx-xxxx-**11**\")?\n",
    "\n",
    "3. Optional but encouraged:\n",
    "    + Use ComparativeMarkerSelectionViewer to verify the output of ComparativeMarkerSelection does not show any major problems.\n",
    "    + Use KMeansClustering to see if data can be clustered easily. Use the following parameters:\n",
    "        - input filename: The output from the PreprocessDataset module (i.e., **Workshop_BRCA_filtered.preprocessed.gct** if you used the suggested parameters in Step 1 from this section).\n",
    "        - number of clusters: 2.\n",
    "        - cluster by: columns.\n",
    "        - The rest of the parameters can be left as default.\n",
    "        - Do the two clusters correspond to the tumor tissue samples (\"TCGA-xx-xxxx-**01**\") and the normal tissue samples (\"TCGA-xx-xxxx-**11**\")?"
   ]
  },
  {
   "cell_type": "code",
   "execution_count": null,
   "metadata": {},
   "outputs": [],
   "source": []
  }
 ],
 "metadata": {
  "kernelspec": {
   "display_name": "Python 3",
   "language": "python",
   "name": "python3"
  },
  "language_info": {
   "codemirror_mode": {
    "name": "ipython",
    "version": 3
   },
   "file_extension": ".py",
   "mimetype": "text/x-python",
   "name": "python",
   "nbconvert_exporter": "python",
   "pygments_lexer": "ipython3",
   "version": "3.6.1"
  }
 },
 "nbformat": 4,
 "nbformat_minor": 2
}
