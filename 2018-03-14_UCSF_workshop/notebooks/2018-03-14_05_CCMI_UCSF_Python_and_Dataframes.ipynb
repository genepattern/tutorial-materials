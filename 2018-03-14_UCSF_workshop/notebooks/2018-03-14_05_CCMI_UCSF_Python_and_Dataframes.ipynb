{
 "cells": [
  {
   "cell_type": "markdown",
   "metadata": {},
   "source": [
    "<h1 id=\"Using-Python-code-and-Dataframes\">Using Python code and Dataframes</h1>\n",
    "\n",
    "<p>This notebook will walk you through some of the programmatic features available in the GenePattern Notebook Environment. The <a href=\"http://www.genepattern-notebook.org/programmatic/\">GenePattern Notebook Programmatic Features Guide</a> contains information and examples about additional features not covered here.</p>\n",
    "\n",
    "<div class=\"alert alert-info\">First, sign in below.</div>\n"
   ]
  },
  {
   "cell_type": "code",
   "execution_count": 1,
   "metadata": {
    "genepattern": {
     "server": "https://gp-beta-ami.genepattern.org/gp",
     "type": "auth"
    }
   },
   "outputs": [
    {
     "data": {
      "application/vnd.jupyter.widget-view+json": {
       "model_id": "10f5dcfb25f44c4f9d91170957eface4",
       "version_major": 2,
       "version_minor": 0
      },
      "text/html": [
       "<p>Failed to display Jupyter Widget of type <code>GPAuthWidget</code>.</p>\n",
       "<p>\n",
       "  If you're reading this message in the Jupyter Notebook or JupyterLab Notebook, it may mean\n",
       "  that the widgets JavaScript is still loading. If this message persists, it\n",
       "  likely means that the widgets JavaScript library is either not installed or\n",
       "  not enabled. See the <a href=\"https://ipywidgets.readthedocs.io/en/stable/user_install.html\">Jupyter\n",
       "  Widgets Documentation</a> for setup instructions.\n",
       "</p>\n",
       "<p>\n",
       "  If you're reading this message in another frontend (for example, a static\n",
       "  rendering on GitHub or <a href=\"https://nbviewer.jupyter.org/\">NBViewer</a>),\n",
       "  it may mean that your frontend doesn't currently support widgets.\n",
       "</p>\n"
      ],
      "text/plain": [
       "GPAuthWidget()"
      ]
     },
     "metadata": {},
     "output_type": "display_data"
    }
   ],
   "source": [
    "# Requires GenePattern Notebook: pip install genepattern-notebook\n",
    "import gp\n",
    "import genepattern\n",
    "\n",
    "# Username and password removed for security reasons.\n",
    "genepattern.GPAuthWidget(genepattern.register_session(\"https://gp-beta-ami.genepattern.org/gp\", \"\", \"\"))"
   ]
  },
  {
   "cell_type": "markdown",
   "metadata": {},
   "source": [
    "# Toggle Code View <a id=\"toggle_code\"/>\n",
    "\n",
    "We will start by looking at the code for running a simple GenePattern module (ConvertLineEndings: it just makes sure that the way a line is finished is correct for the GenePattern server). We will also run it just so that we can use its output file later. \n",
    "\n",
    "<div class=\"alert alert-info\"><ol>\n",
    "<li>Click the gear icon for the cell below and select <b>Toggle Code View</b></li>\n",
    "<li>Run the module</li>\n",
    "</ol></div>\n"
   ]
  },
  {
   "cell_type": "code",
   "execution_count": 2,
   "metadata": {
    "genepattern": {
     "show_code": false,
     "type": "task"
    }
   },
   "outputs": [
    {
     "data": {
      "application/vnd.jupyter.widget-view+json": {
       "model_id": "d36fc3cadeaf43bc85a3f25899e3bf21",
       "version_major": 2,
       "version_minor": 0
      },
      "text/html": [
       "<p>Failed to display Jupyter Widget of type <code>GPTaskWidget</code>.</p>\n",
       "<p>\n",
       "  If you're reading this message in the Jupyter Notebook or JupyterLab Notebook, it may mean\n",
       "  that the widgets JavaScript is still loading. If this message persists, it\n",
       "  likely means that the widgets JavaScript library is either not installed or\n",
       "  not enabled. See the <a href=\"https://ipywidgets.readthedocs.io/en/stable/user_install.html\">Jupyter\n",
       "  Widgets Documentation</a> for setup instructions.\n",
       "</p>\n",
       "<p>\n",
       "  If you're reading this message in another frontend (for example, a static\n",
       "  rendering on GitHub or <a href=\"https://nbviewer.jupyter.org/\">NBViewer</a>),\n",
       "  it may mean that your frontend doesn't currently support widgets.\n",
       "</p>\n"
      ],
      "text/plain": [
       "GPTaskWidget(lsid='urn:lsid:broad.mit.edu:cancer.software.genepattern.module.analysis:00002')"
      ]
     },
     "metadata": {},
     "output_type": "display_data"
    }
   ],
   "source": [
    "convertlineendings_task = gp.GPTask(genepattern.get_session(0), 'urn:lsid:broad.mit.edu:cancer.software.genepattern.module.analysis:00002')\n",
    "convertlineendings_job_spec = convertlineendings_task.make_job_spec()\n",
    "convertlineendings_job_spec.set_parameter(\"input.filename\", \"https://datasets.genepattern.org/data/ccmi_tutorial/2017-12-15/BRCA_HUGO_symbols.preprocessed.gct\")\n",
    "convertlineendings_job_spec.set_parameter(\"output.file\", \"BRCA_40_samples.cvt.gct\")\n",
    "genepattern.GPTaskWidget(convertlineendings_task)"
   ]
  },
  {
   "cell_type": "markdown",
   "metadata": {},
   "source": [
    "# Send to Code\n",
    "\n",
    "The GenePattern Python Library seamlessly integrates with GenePattern cells. Code examples of how to call GenePattern jobs or GenePattern result files are available in GenePattern Job Cells by clicking a job result and selecting “Send to Code” in the menu.\n",
    "\n",
    "<div class=\"alert alert-info\">Once the above job is completed, click on the *BRCA_40_samples.cvt.gct* output and select *Send to Code.* This will create a code cell immediately below the job cell.</div>"
   ]
  },
  {
   "cell_type": "markdown",
   "metadata": {},
   "source": [
    "# Send to Dataframe\n",
    "\n",
    "The GenePattern Python Library also provides functionality for common GenePattern file formats, allowing them seamlessly integrate with [Pandas](http://pandas.pydata.org/), a popular Python data analysis library.\n",
    "\n",
    "Both the [GCT and ODF file formats](http://software.broadinstitute.org/cancer/software/genepattern/file-formats-guide) are easily loaded as Pandas Dataframes. Code examples of how to load these files are available in GenePattern Job Cells by clicking a GCT or ODF job result and selecting “Send to Dataframe” in the menu.\n",
    "\n",
    "<div class=\"alert alert-info\">Scroll up and click on the same <a href=\"#toggle_code\">*BRCA_40_samples.cvt.gct*</a> output you clicked on before and then select *Send to Dataframe.* This will generate a code cell which loads the output data into a pandas Dataframe. Execute this code and the Dataframe will display as a table in your notebook.</div>"
   ]
  },
  {
   "cell_type": "markdown",
   "metadata": {},
   "source": [
    "# UI Builder\n",
    "\n",
    "The UI Builder is a way to display any Python function as an interactive widget. This will render the parameters of the function as a web form.\n",
    "\n",
    "The UI Builder also makes use of many Python features. It will display the docstring as the function description, will infer parameter types from default values and will display parameter annotations as helpful text near each input.\n",
    "\n",
    "Python variables may be used as input when filling out a UI Builder form. To do this, simply type the name of the variable into the input field. When the form is submitted, the widget will pass a reference to the variable to the resulting function call.\n",
    "\n",
    "The simplest way to render a function using the UI Builder is to import the *genepattern* package and then attach the *build_ui* decorator to the function's definition.\n",
    "\n",
    "<div class=\"alert alert-info\"><ol>\n",
    "<li>Click the gear icon and select <b>Toggle Code View</b> in the cell below to see how the code was rendered using the UI Builder.</li>\n",
    "</ol></div>\n",
    "\n",
    "Inputs for any GenePattern cell can optionally take Python variable names.  For example, from your <B>Send to Dataframe</B> example above you should have a variable that looks something like this:  <pre>brca_40_samples_cvt_gct_1595725</pre> (The number at the end will be different for each run of the module. We can give the value of this variable (i.e. the Dataframe) by putting the variable name into the UI input for dataframe below.  Make sure that you have run the cell that creates the dataframe before this next step.\n",
    "<div class=\"alert alert-info\"><ol start=2>\n",
    "<li>Copy the Dataframe variable name from your cell above and paste it into the <b>dataframe</b> variable in the <b>sort_results</b> cell below</li>\n",
    "<li>Run the cell</li>\n",
    "</ol></div>\n"
   ]
  },
  {
   "cell_type": "code",
   "execution_count": 3,
   "metadata": {
    "genepattern": {
     "output_variable": "",
     "param_values": {
      "column_name": "TCGA-A7-A0CE-11.htseq",
      "dataframe": " ",
      "gct": " "
     },
     "show_code": false,
     "type": "uibuilder"
    }
   },
   "outputs": [
    {
     "data": {
      "application/vnd.jupyter.widget-view+json": {
       "model_id": "60865bfc59c24b63adc84fc300186884",
       "version_major": 2,
       "version_minor": 0
      },
      "text/html": [
       "<p>Failed to display Jupyter Widget of type <code>GPUIBuilder</code>.</p>\n",
       "<p>\n",
       "  If you're reading this message in the Jupyter Notebook or JupyterLab Notebook, it may mean\n",
       "  that the widgets JavaScript is still loading. If this message persists, it\n",
       "  likely means that the widgets JavaScript library is either not installed or\n",
       "  not enabled. See the <a href=\"https://ipywidgets.readthedocs.io/en/stable/user_install.html\">Jupyter\n",
       "  Widgets Documentation</a> for setup instructions.\n",
       "</p>\n",
       "<p>\n",
       "  If you're reading this message in another frontend (for example, a static\n",
       "  rendering on GitHub or <a href=\"https://nbviewer.jupyter.org/\">NBViewer</a>),\n",
       "  it may mean that your frontend doesn't currently support widgets.\n",
       "</p>\n"
      ],
      "text/plain": [
       "GPUIBuilder(description='Sort the samples in the dataframe by the specified column.', function_import='sort_results', name='sort_results', params=[{'name': 'dataframe', 'label': 'dataframe', 'optional': False, 'default': '', 'description': 'The variable name of the GCT dataframe', 'hide': False, 'type': 'text', 'kinds': None, 'choices': []}, {'name': 'column_name', 'label': 'column_name', 'optional': True, 'default': 'TCGA-A7-A0CE-11.htseq', 'description': 'The name of the column by which to sort.', 'hide': False, 'type': 'text', 'kinds': None, 'choices': []}, {'name': 'output_var', 'label': 'results', 'optional': True, 'default': '', 'description': 'There are the results', 'hide': True, 'type': 'text', 'kinds': None, 'choices': []}])"
      ]
     },
     "metadata": {},
     "output_type": "display_data"
    }
   ],
   "source": [
    "from IPython.display import display\n",
    "\n",
    "@genepattern.build_ui(parameters={\n",
    "\n",
    "    # use this to hide the output variable on the UIBuilder form if you don't want users of this\n",
    "    # notebook to see it\n",
    "    \"output_var\": {\n",
    "        \"name\": \"results\",\n",
    "        \"description\": \"There are the results\",\n",
    "        \"hide\": True\n",
    "    }\n",
    "})\n",
    "def sort_results(dataframe: \"The variable name of the GCT dataframe\", \n",
    "                 column_name: \"The name of the column by which to sort.\" = 'TCGA-A7-A0CE-11.htseq'):\n",
    "    \"\"\"\n",
    "    Sort the samples in the dataframe by the specified column.\n",
    "    \"\"\"\n",
    "    display(dataframe.dataframe.sort_values('TCGA-A7-A0CE-11.htseq', ascending=False))"
   ]
  },
  {
   "cell_type": "markdown",
   "metadata": {},
   "source": [
    "## Parameter Types\n",
    "The function below has defined its input as a <b>file parameter</b> type.  This allows you to use this in the 'Send to' from GenePattern job cells or to do the reverse and 'pull' results from previously executed Genepattern jobs. This is done by adding a parameter type definition to the UIBuilder definition.\n",
    "<pre>\n",
    "   parameters={\n",
    "    \"url\": {\n",
    "        \"type\": \"file\",\n",
    "        \"kinds\": [\"gct\"]\n",
    "    }\n",
    "</pre>\n",
    "You can also optionally define what kind of files it accepts.  These are defined by their three letter extensions (i.e. the bit after the period at the end of a filename, usually 3 letters long).  In the example above, it states that the <b>url</b> parameter accepts only files of the type <b>gct</b> which we saw in the Data Preparation section.\n",
    "\n",
    "<div class=\"alert alert-info\"><ol>\n",
    "<li>Click the gear icon and select <b>Toggle Code View</b> to see how the parameter definition is added</li>\n",
    "<li>Click on the \"url\" parameter and select the result file from the ConvertLineEndings job above.</li>\n",
    "<li>Run the <b>print_url</b> cell.</li>\n",
    "</ol></div>"
   ]
  },
  {
   "cell_type": "code",
   "execution_count": 4,
   "metadata": {
    "genepattern": {
     "output_variable": "x",
     "param_values": {
      "url": []
     },
     "show_code": false,
     "type": "uibuilder"
    }
   },
   "outputs": [
    {
     "data": {
      "application/vnd.jupyter.widget-view+json": {
       "model_id": "577f653d3dce4f8bb5b8899e539daf95",
       "version_major": 2,
       "version_minor": 0
      },
      "text/html": [
       "<p>Failed to display Jupyter Widget of type <code>GPUIBuilder</code>.</p>\n",
       "<p>\n",
       "  If you're reading this message in the Jupyter Notebook or JupyterLab Notebook, it may mean\n",
       "  that the widgets JavaScript is still loading. If this message persists, it\n",
       "  likely means that the widgets JavaScript library is either not installed or\n",
       "  not enabled. See the <a href=\"https://ipywidgets.readthedocs.io/en/stable/user_install.html\">Jupyter\n",
       "  Widgets Documentation</a> for setup instructions.\n",
       "</p>\n",
       "<p>\n",
       "  If you're reading this message in another frontend (for example, a static\n",
       "  rendering on GitHub or <a href=\"https://nbviewer.jupyter.org/\">NBViewer</a>),\n",
       "  it may mean that your frontend doesn't currently support widgets.\n",
       "</p>\n"
      ],
      "text/plain": [
       "GPUIBuilder(function_import='print_url', name='print_url', params=[{'name': 'url', 'label': 'url', 'optional': False, 'default': '', 'description': '', 'hide': False, 'type': 'file', 'kinds': ['gct'], 'choices': []}, {'name': 'output_var', 'label': 'results', 'optional': True, 'default': '', 'description': 'There are the results', 'hide': True, 'type': 'text', 'kinds': None, 'choices': []}])"
      ]
     },
     "metadata": {},
     "output_type": "display_data"
    }
   ],
   "source": [
    "import genepattern\n",
    "import gp.data\n",
    "\n",
    "@genepattern.build_ui(parameters={\n",
    "    \"url\": {\n",
    "        \"type\": \"file\",\n",
    "        \"kinds\": [\"gct\"]\n",
    "    },\n",
    "    # use this to hide the output variable on the UIBuilder form if you don't want users of this\n",
    "    # notebook to see it\n",
    "    \"output_var\": {\n",
    "        \"name\": \"results\",\n",
    "        \"description\": \"There are the results\",\n",
    "        \"hide\": True\n",
    "    }\n",
    "})\n",
    "def print_url(url):\n",
    "    return print(\"The result file URL is: \" + url)"
   ]
  },
  {
   "cell_type": "markdown",
   "metadata": {},
   "source": [
    "## The Tool Menu\n",
    "By virtue of using the GenePattern UI Builder, the two functions we defined above (sort_results and print_url) have been added to the Tool menu. This allows you to reuse them, and their new UI, again elswhere in the notebook.\n",
    "\n",
    "<div class=\"alert alert-info\"><ol>\n",
    "<li>Click the <b>Insert</b> menu item and select <b>Insert Cell Below</b> to add a cell to the notebook.</li>\n",
    "<li>Click the <b>Cell</b> menu item and select <b>Cell Type</b> and then <B>GenePattern</B> to make it a GenePattern cell.  This should also cause the Tool Manager to appear at the left of your page.</li>\n",
    "<li>Click on the Tool Manager and select the <b>Notebook</b> tab at the top.</li>\n",
    "<li>Click on <b>print_url</b> tool to make this new cell another instance of the print_url function we used earlier.</li>\n",
    "\n",
    "</ol></div>"
   ]
  },
  {
   "cell_type": "markdown",
   "metadata": {},
   "source": [
    "<h1 id=\"Extra-Credit\">Extra Credit</h1>\n",
    "\n",
    "<p>Below extra credit exercises to complete if you have time.</p>\n",
    "\n",
    "<h3 id=\"1.-Change-UI-Builder-Description\">1. Change UI Builder Description</h3>\n",
    "\n",
    "<div class=\"alert alert-info\">View the code for the UI Builder <b>sort_results</b> cell above, change the function&#39;s description to specify whether the sorting is ascending or descending, then execute the cell to see the new description take effect.</div>\n",
    "\n",
    "<h3 id=\"2.-Custom-Code\">2. Custom Code</h3>\n",
    "\n",
    "<div class=\"alert alert-info\">Write a simple Python function and insert <b>@genepattern.build_ui</b>on the line above the function definition to tell GenePattern to wrap it with a user interface.</div>\n",
    "\n",
    "<h3 id=\"3.-Installing libraries\">3. Installing Libraries</h3>\n",
    "\n",
    "\n",
    "<p >Most PIP-installable libraries can be added to your notebook server.  Try installing one of your favorite libraries with the following in a code cell, replace <a href=\"https://pythontips.com/2013/07/30/20-python-libraries-you-cant-live-without/\">\"Pillow\"</a> with a library of your choice. </p>\n",
    "<div class=\"alert alert-info\">!pip install Pillow --target='/home/jovyan/.ipython'</div>\n",
    "<br/>\n",
    "<p>Then</p>\n",
    "<div class=\"alert alert-info\">import Pillow</div>\n",
    "\n",
    "\n"
   ]
  }
 ],
 "metadata": {
  "kernelspec": {
   "display_name": "Python 3.6",
   "language": "python",
   "name": "python3.6"
  },
  "language_info": {
   "codemirror_mode": {
    "name": "ipython",
    "version": 3
   },
   "file_extension": ".py",
   "mimetype": "text/x-python",
   "name": "python",
   "nbconvert_exporter": "python",
   "pygments_lexer": "ipython3",
   "version": "3.6.3"
  }
 },
 "nbformat": 4,
 "nbformat_minor": 2
}
