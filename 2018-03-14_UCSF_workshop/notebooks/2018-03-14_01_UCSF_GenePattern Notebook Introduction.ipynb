{
 "cells": [
  {
   "cell_type": "markdown",
   "metadata": {
    "collapsed": true
   },
   "source": [
    "# Introduction to GenePattern Notebook\n",
    "\n",
    "This document should help you understand how to run an analysis in the GenePattern Notebook environment. In it you will perform a simple preprocessing step and then view the results in a heat map. \n",
    "\n",
    "**Instructions are given in blue boxes, such as with the one below.**\n",
    "\n",
    "<div class=\"alert alert-info\">Sign in to GenePattern by clicking the login button or entering your username and password into the form below.</div>"
   ]
  },
  {
   "cell_type": "markdown",
   "metadata": {},
   "source": [
    "## Dataset information\n",
    "In this example we will preprocess a dataset of 38 samples of leukemia, 27 of subtype ALL and 11 of subtype AML. The data was created on a microarray platform, but the resulting [GCT](http://software.broadinstitute.org/cancer/software/genepattern/file-formats-guide#GCT) file is compatible with RNA-Seq, as well as any other data type that can be expressed with samples as columns and features as rows."
   ]
  },
  {
   "cell_type": "code",
   "execution_count": 1,
   "metadata": {
    "genepattern": {
     "server": "https://gp-beta-ami.genepattern.org/gp",
     "type": "auth"
    },
    "scrolled": true
   },
   "outputs": [
    {
     "data": {
      "application/vnd.jupyter.widget-view+json": {
       "model_id": "6e4146b94d244e51b4fa3fd4c5627484",
       "version_major": 2,
       "version_minor": 0
      },
      "text/html": [
       "<p>Failed to display Jupyter Widget of type <code>GPAuthWidget</code>.</p>\n",
       "<p>\n",
       "  If you're reading this message in the Jupyter Notebook or JupyterLab Notebook, it may mean\n",
       "  that the widgets JavaScript is still loading. If this message persists, it\n",
       "  likely means that the widgets JavaScript library is either not installed or\n",
       "  not enabled. See the <a href=\"https://ipywidgets.readthedocs.io/en/stable/user_install.html\">Jupyter\n",
       "  Widgets Documentation</a> for setup instructions.\n",
       "</p>\n",
       "<p>\n",
       "  If you're reading this message in another frontend (for example, a static\n",
       "  rendering on GitHub or <a href=\"https://nbviewer.jupyter.org/\">NBViewer</a>),\n",
       "  it may mean that your frontend doesn't currently support widgets.\n",
       "</p>\n"
      ],
      "text/plain": [
       "GPAuthWidget()"
      ]
     },
     "metadata": {},
     "output_type": "display_data"
    }
   ],
   "source": [
    "# Requires GenePattern Notebook: pip install genepattern-notebook\n",
    "import gp\n",
    "import genepattern\n",
    "\n",
    "# Username and password removed for security reasons.\n",
    "genepattern.GPAuthWidget(genepattern.register_session(\"https://gp-beta-ami.genepattern.org/gp\", \"\", \"\"))"
   ]
  },
  {
   "cell_type": "markdown",
   "metadata": {},
   "source": [
    "## Step 1: Remove non-varying (noise) genes from dataset (PreprocessDataset)\n",
    "\n",
    "Preprocess gene expression data to remove platform noise and genes that have little variation. You can test this step by starting a job using parameters entered into the form below.\n",
    "\n",
    "### Considerations\n",
    "\n",
    "* PreprocessDataset can preprocess the data in one or more ways (in this order):\n",
    "    1. Set threshold and ceiling values. Any value lower/higher than the threshold/ceiling value is reset to the threshold/ceiling value.\n",
    "    2. Convert each expression value to the log base 2 of the value.\n",
    "    3. Remove genes (rows) if a given number of its sample values are less than a given threshold.\n",
    "    4. Remove genes (rows) that do not have a minimum fold change or expression variation.\n",
    "    5. Discretize or normalize the data.\n",
    "* If you did not generate the expression data, check whether preprocessing steps have already been taken before running the PreprocessDataset module.\n",
    "* Learn more by reading about the [PreprocessDataset](https://genepattern.broadinstitute.org/gp/getTaskDoc.jsp?name=PreprocessDataset) module."
   ]
  },
  {
   "cell_type": "markdown",
   "metadata": {},
   "source": [
    "<div class=\"alert alert-info\">\n",
    "- Change the *min fold change* parameter to 10\n",
    "- Execute the cell by doing **one** of the following:\n",
    "    - Type `Shift-Enter`\n",
    "    - Choose the Cell &#x2192; Run Cells menu option\n",
    "    - <img align=\"left\" src=\"https://datasets.genepattern.org/images/jupyter-run.png\"> &#x2190; Click the Run icon  on the navigation bar under the menu."
   ]
  },
  {
   "cell_type": "code",
   "execution_count": 2,
   "metadata": {
    "genepattern": {
     "type": "task"
    }
   },
   "outputs": [
    {
     "data": {
      "application/vnd.jupyter.widget-view+json": {
       "model_id": "8f2c6a6c140f45b6bc3139cf19ce58ab",
       "version_major": 2,
       "version_minor": 0
      },
      "text/html": [
       "<p>Failed to display Jupyter Widget of type <code>GPTaskWidget</code>.</p>\n",
       "<p>\n",
       "  If you're reading this message in the Jupyter Notebook or JupyterLab Notebook, it may mean\n",
       "  that the widgets JavaScript is still loading. If this message persists, it\n",
       "  likely means that the widgets JavaScript library is either not installed or\n",
       "  not enabled. See the <a href=\"https://ipywidgets.readthedocs.io/en/stable/user_install.html\">Jupyter\n",
       "  Widgets Documentation</a> for setup instructions.\n",
       "</p>\n",
       "<p>\n",
       "  If you're reading this message in another frontend (for example, a static\n",
       "  rendering on GitHub or <a href=\"https://nbviewer.jupyter.org/\">NBViewer</a>),\n",
       "  it may mean that your frontend doesn't currently support widgets.\n",
       "</p>\n"
      ],
      "text/plain": [
       "GPTaskWidget(lsid='urn:lsid:broad.mit.edu:cancer.software.genepattern.module.analysis:00020')"
      ]
     },
     "metadata": {},
     "output_type": "display_data"
    }
   ],
   "source": [
    "preprocessdataset_task = gp.GPTask(genepattern.get_session(0), 'urn:lsid:broad.mit.edu:cancer.software.genepattern.module.analysis:00020')\n",
    "preprocessdataset_job_spec = preprocessdataset_task.make_job_spec()\n",
    "preprocessdataset_job_spec.set_parameter(\"input.filename\", \"https://datasets.genepattern.org/data/all_aml/all_aml_train.gct\")\n",
    "preprocessdataset_job_spec.set_parameter(\"threshold.and.filter\", \"1\")\n",
    "preprocessdataset_job_spec.set_parameter(\"floor\", \"100\")\n",
    "preprocessdataset_job_spec.set_parameter(\"ceiling\", \"20000\")\n",
    "preprocessdataset_job_spec.set_parameter(\"min.fold.change\", \"3\")\n",
    "preprocessdataset_job_spec.set_parameter(\"min.delta\", \"100\")\n",
    "preprocessdataset_job_spec.set_parameter(\"num.outliers.to.exclude\", \"0\")\n",
    "preprocessdataset_job_spec.set_parameter(\"row.normalization\", \"0\")\n",
    "preprocessdataset_job_spec.set_parameter(\"row.sampling.rate\", \"1\")\n",
    "preprocessdataset_job_spec.set_parameter(\"threshold.for.removing.rows\", \"\")\n",
    "preprocessdataset_job_spec.set_parameter(\"number.of.columns.above.threshold\", \"\")\n",
    "preprocessdataset_job_spec.set_parameter(\"log2.transform\", \"0\")\n",
    "preprocessdataset_job_spec.set_parameter(\"output.file.format\", \"3\")\n",
    "preprocessdataset_job_spec.set_parameter(\"output.file\", \"<input.filename_basename>.preprocessed\")\n",
    "genepattern.GPTaskWidget(preprocessdataset_task)"
   ]
  },
  {
   "cell_type": "markdown",
   "metadata": {},
   "source": [
    "## Step 2: View results in heat map format (HeatMapViewer)\n",
    "\n",
    "Display a heat map of the preprocessed gene expression data. Since the *min fold change* was stringent in the previous step, this will show only the genes that vary highly in expression.\n",
    "\n",
    "### Considerations\n",
    "\n",
    "* HeatMapViewer displays gene expression data as a heat map, which makes it easier to see patterns in the numeric data. Gene names are row labels and sample names are column labels.\n",
    "* Notebooks may contain any number of visualizers.\n",
    "* The features displayed here use Ensembl IDs. In the next section we will convert these IDs to gene names.\n",
    "* Learn more by reading about the [HeatMapViewer](https://genepattern.broadinstitute.org/gp/getTaskDoc.jsp?name=HeatMapViewer) module.\n",
    "\n",
    "### Note on instructions\n",
    "- Many result files have similar names and differ only in their suffixes. When we indicate a file as `<filename>.gct` for example, we mean the result file that has the extension `.gct`."
   ]
  },
  {
   "cell_type": "markdown",
   "metadata": {},
   "source": [
    "<div class=\"alert alert-info\">\n",
    "- When the job above shows that it is completed (status in the upper right corner of the job cell displays **Completed**):\n",
    "- Click the link for the `<filename>.preprocessed.gct` result file.\n",
    "- You will see a list of choices.\n",
    "- Select **Send to Existing GenePattern Cell**.\n",
    "- You will see a list of available cells.\n",
    "- Select the **HeatMapViewer** cell.\n",
    "- You will see the file populated in the *dataset* parameter of the **HeatMapViewer** cell below.\n",
    "- Launch the **HeatMapViewer** job by clicking **Run**."
   ]
  },
  {
   "cell_type": "code",
   "execution_count": 3,
   "metadata": {
    "genepattern": {
     "type": "task"
    }
   },
   "outputs": [
    {
     "data": {
      "application/vnd.jupyter.widget-view+json": {
       "model_id": "5bbfcad8c18a4d16bf6a983de5074431",
       "version_major": 2,
       "version_minor": 0
      },
      "text/html": [
       "<p>Failed to display Jupyter Widget of type <code>GPTaskWidget</code>.</p>\n",
       "<p>\n",
       "  If you're reading this message in the Jupyter Notebook or JupyterLab Notebook, it may mean\n",
       "  that the widgets JavaScript is still loading. If this message persists, it\n",
       "  likely means that the widgets JavaScript library is either not installed or\n",
       "  not enabled. See the <a href=\"https://ipywidgets.readthedocs.io/en/stable/user_install.html\">Jupyter\n",
       "  Widgets Documentation</a> for setup instructions.\n",
       "</p>\n",
       "<p>\n",
       "  If you're reading this message in another frontend (for example, a static\n",
       "  rendering on GitHub or <a href=\"https://nbviewer.jupyter.org/\">NBViewer</a>),\n",
       "  it may mean that your frontend doesn't currently support widgets.\n",
       "</p>\n"
      ],
      "text/plain": [
       "GPTaskWidget(lsid='urn:lsid:broad.mit.edu:cancer.software.genepattern.module.visualizer:00010')"
      ]
     },
     "metadata": {},
     "output_type": "display_data"
    }
   ],
   "source": [
    "heatmapviewer_task = gp.GPTask(genepattern.get_session(0), 'urn:lsid:broad.mit.edu:cancer.software.genepattern.module.visualizer:00010')\n",
    "heatmapviewer_job_spec = heatmapviewer_task.make_job_spec()\n",
    "heatmapviewer_job_spec.set_parameter(\"dataset\", \"\")\n",
    "genepattern.GPTaskWidget(heatmapviewer_task)"
   ]
  },
  {
   "cell_type": "markdown",
   "metadata": {},
   "source": [
    "## Step 3: Convert feature identifiers to gene names (CollapseDataset)\n",
    "\n",
    "You can see that the dataset that was created uses an identifier system from [Ensembl](https://uswest.ensembl.org/index.html) to name each gene (really transcript). We would like to convert these to more easily understandable gene names. The standard identification system used for genes is the [HUGO (HUman Genome Organization)](https://www.genenames.org/) standard. "
   ]
  },
  {
   "cell_type": "markdown",
   "metadata": {},
   "source": [
    "<div class=\"alert alert-info\">\n",
    "- In the cell below, for the *dataset file* parameter, click the dropdown arrow on the right side of the input box.\n",
    "- You will see all of the available result files in this notebook that can be sent to this input.\n",
    "- Select `<filename>.preprocessed.gct`\n",
    "- Click **Run**."
   ]
  },
  {
   "cell_type": "code",
   "execution_count": 4,
   "metadata": {
    "genepattern": {
     "type": "task"
    }
   },
   "outputs": [
    {
     "data": {
      "application/vnd.jupyter.widget-view+json": {
       "model_id": "d5b809206b9340e2aa10eff8be7dd665",
       "version_major": 2,
       "version_minor": 0
      },
      "text/html": [
       "<p>Failed to display Jupyter Widget of type <code>GPTaskWidget</code>.</p>\n",
       "<p>\n",
       "  If you're reading this message in the Jupyter Notebook or JupyterLab Notebook, it may mean\n",
       "  that the widgets JavaScript is still loading. If this message persists, it\n",
       "  likely means that the widgets JavaScript library is either not installed or\n",
       "  not enabled. See the <a href=\"https://ipywidgets.readthedocs.io/en/stable/user_install.html\">Jupyter\n",
       "  Widgets Documentation</a> for setup instructions.\n",
       "</p>\n",
       "<p>\n",
       "  If you're reading this message in another frontend (for example, a static\n",
       "  rendering on GitHub or <a href=\"https://nbviewer.jupyter.org/\">NBViewer</a>),\n",
       "  it may mean that your frontend doesn't currently support widgets.\n",
       "</p>\n"
      ],
      "text/plain": [
       "GPTaskWidget(lsid='urn:lsid:broad.mit.edu:cancer.software.genepattern.module.analysis:00134')"
      ]
     },
     "metadata": {},
     "output_type": "display_data"
    }
   ],
   "source": [
    "collapsedataset_task = gp.GPTask(genepattern.get_session(0), 'urn:lsid:broad.mit.edu:cancer.software.genepattern.module.analysis:00134')\n",
    "collapsedataset_job_spec = collapsedataset_task.make_job_spec()\n",
    "collapsedataset_job_spec.set_parameter(\"dataset.file\", \"\")\n",
    "collapsedataset_job_spec.set_parameter(\"chip.platform\", \"ftp://ftp.broadinstitute.org/pub/gsea/annotations/HU6800.chip\")\n",
    "collapsedataset_job_spec.set_parameter(\"collapse.mode\", \"Maximum\")\n",
    "collapsedataset_job_spec.set_parameter(\"output.file.name\", \"<dataset.file_basename>.collapsed\")\n",
    "genepattern.GPTaskWidget(collapsedataset_task)"
   ]
  }
 ],
 "metadata": {
  "kernelspec": {
   "display_name": "Python 3.6",
   "language": "python",
   "name": "python3.6"
  },
  "language_info": {
   "codemirror_mode": {
    "name": "ipython",
    "version": 3
   },
   "file_extension": ".py",
   "mimetype": "text/x-python",
   "name": "python",
   "nbconvert_exporter": "python",
   "pygments_lexer": "ipython3",
   "version": "3.6.3"
  }
 },
 "nbformat": 4,
 "nbformat_minor": 2
}
