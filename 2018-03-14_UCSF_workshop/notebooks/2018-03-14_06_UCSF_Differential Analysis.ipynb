{
 "cells": [
  {
   "cell_type": "markdown",
   "metadata": {},
   "source": [
    "# Differential Expression of RNA-Seq data in GenePattern Notebook\n",
    "\n",
    "Compute differentially expressed genes or transcripts and visualize the results\n",
    "\n",
    "## Before you begin\n",
    "\n",
    "You must log in to a GenePattern server, in this notebook we will use **```GenePattern AWS Beta``` **\n",
    "\n",
    "<div class=\"alert alert-info\">\n",
    "* Sign in to GenePattern by entering your username and password into the form below. \n"
   ]
  },
  {
   "cell_type": "code",
   "execution_count": 6,
   "metadata": {
    "genepattern": {
     "server": "https://gp-beta-ami.genepattern.org/gp",
     "type": "auth"
    }
   },
   "outputs": [
    {
     "data": {
      "application/vnd.jupyter.widget-view+json": {
       "model_id": "40c7e7d9b180412b9c22f44914789646",
       "version_major": 2,
       "version_minor": 0
      },
      "text/html": [
       "<p>Failed to display Jupyter Widget of type <code>GPAuthWidget</code>.</p>\n",
       "<p>\n",
       "  If you're reading this message in the Jupyter Notebook or JupyterLab Notebook, it may mean\n",
       "  that the widgets JavaScript is still loading. If this message persists, it\n",
       "  likely means that the widgets JavaScript library is either not installed or\n",
       "  not enabled. See the <a href=\"https://ipywidgets.readthedocs.io/en/stable/user_install.html\">Jupyter\n",
       "  Widgets Documentation</a> for setup instructions.\n",
       "</p>\n",
       "<p>\n",
       "  If you're reading this message in another frontend (for example, a static\n",
       "  rendering on GitHub or <a href=\"https://nbviewer.jupyter.org/\">NBViewer</a>),\n",
       "  it may mean that your frontend doesn't currently support widgets.\n",
       "</p>\n"
      ],
      "text/plain": [
       "GPAuthWidget()"
      ]
     },
     "metadata": {},
     "output_type": "display_data"
    }
   ],
   "source": [
    "# Requires GenePattern Notebook: pip install genepattern-notebook\n",
    "import gp\n",
    "import genepattern\n",
    "\n",
    "# Username and password removed for security reasons.\n",
    "genepattern.GPAuthWidget(genepattern.register_session(\"https://gp-beta-ami.genepattern.org/gp\", \"\", \"\"))"
   ]
  },
  {
   "cell_type": "markdown",
   "metadata": {},
   "source": [
    "## Load data to the notebook"
   ]
  },
  {
   "cell_type": "markdown",
   "metadata": {},
   "source": [
    "#### Load the phenotye/class labels (contained in CLS file)\n",
    "In order to make the phenotype labels file (the CLS file) easily accessible in the GenePattern modules and functions on this notebook, we will use the RenameFile module."
   ]
  },
  {
   "cell_type": "markdown",
   "metadata": {},
   "source": [
    "<div class=\"alert alert-info\">\n",
    "- Drag [BRCA_labels.cls](https://datasets.genepattern.org/data/ccmi_tutorial/2017-12-15/intermediate_data/WP_1_workshop_BRCA_labels.cls) to the **cls file** field.  \n",
    "    Ignore the warning, *these are not the file formats you are looking for.*\n",
    "- Leave the rest of the parameters as default:\n",
    "  + **output filename**: classes.cls\n",
    "  + **screen filename**: no\n",
    "  + **force copy**: no\n",
    "- Click **Run**"
   ]
  },
  {
   "cell_type": "code",
   "execution_count": 7,
   "metadata": {
    "genepattern": {
     "type": "task"
    }
   },
   "outputs": [
    {
     "data": {
      "application/vnd.jupyter.widget-view+json": {
       "model_id": "07e5b30f33d54df9afb8575fa59e10ed",
       "version_major": 2,
       "version_minor": 0
      },
      "text/html": [
       "<p>Failed to display Jupyter Widget of type <code>GPTaskWidget</code>.</p>\n",
       "<p>\n",
       "  If you're reading this message in the Jupyter Notebook or JupyterLab Notebook, it may mean\n",
       "  that the widgets JavaScript is still loading. If this message persists, it\n",
       "  likely means that the widgets JavaScript library is either not installed or\n",
       "  not enabled. See the <a href=\"https://ipywidgets.readthedocs.io/en/stable/user_install.html\">Jupyter\n",
       "  Widgets Documentation</a> for setup instructions.\n",
       "</p>\n",
       "<p>\n",
       "  If you're reading this message in another frontend (for example, a static\n",
       "  rendering on GitHub or <a href=\"https://nbviewer.jupyter.org/\">NBViewer</a>),\n",
       "  it may mean that your frontend doesn't currently support widgets.\n",
       "</p>\n"
      ],
      "text/plain": [
       "GPTaskWidget(lsid='urn:lsid:broad.mit.edu:cancer.software.genepattern.module.analysis:00338')"
      ]
     },
     "metadata": {},
     "output_type": "display_data"
    }
   ],
   "source": [
    "renamefile_task = gp.GPTask(genepattern.get_session(0), 'urn:lsid:broad.mit.edu:cancer.software.genepattern.module.analysis:00338')\n",
    "renamefile_job_spec = renamefile_task.make_job_spec()\n",
    "renamefile_job_spec.set_parameter(\"input.file\", \"\")\n",
    "renamefile_job_spec.set_parameter(\"output.filename\", \"classes.cls\")\n",
    "renamefile_job_spec.set_parameter(\"screen.filename\", \"no\")\n",
    "renamefile_job_spec.set_parameter(\"force.copy\", \"no\")\n",
    "genepattern.GPTaskWidget(renamefile_task)"
   ]
  },
  {
   "cell_type": "markdown",
   "metadata": {},
   "source": [
    "#### Load the RNA-Seq counts (contained in GCT file) and normalize the data\n",
    "In order to make the RNA-Seq counts (the GCT file) easily accessible in the GenePattern modules and functions on this notebook, we will use the RenameFile module."
   ]
  },
  {
   "cell_type": "markdown",
   "metadata": {},
   "source": [
    "Transform raw RNA-Seq counts by fitting them with a normal distribution\n",
    "<div class=\"alert alert-info\">\n",
    "Run PreprocessReadCounts using the following parameters:\n",
    "\n",
    "+ **input file**: Drag and drop the file [BRCA_unversioned_ensembl_ids.collapsed.filtered.gct](https://datasets.genepattern.org/data/ccmi_tutorial/2017-12-15/intermediate_data/DP_3_1_BRCA_unversioned_ensembl_ids.collapsed.filtered.gct)\n",
    "+ **cls file**: The output from the **RenameFile** module (i.e., **BRCA_labels.cls** if you used the suggested parameters in section 1)\n",
    "+ **output file**: BRCA_dataset.preprocessed.gct\n",
    "+ Click **Run**"
   ]
  },
  {
   "cell_type": "code",
   "execution_count": 8,
   "metadata": {
    "genepattern": {
     "type": "task"
    }
   },
   "outputs": [
    {
     "data": {
      "application/vnd.jupyter.widget-view+json": {
       "model_id": "7f24cd164225492098e0934961192f02",
       "version_major": 2,
       "version_minor": 0
      },
      "text/html": [
       "<p>Failed to display Jupyter Widget of type <code>GPTaskWidget</code>.</p>\n",
       "<p>\n",
       "  If you're reading this message in the Jupyter Notebook or JupyterLab Notebook, it may mean\n",
       "  that the widgets JavaScript is still loading. If this message persists, it\n",
       "  likely means that the widgets JavaScript library is either not installed or\n",
       "  not enabled. See the <a href=\"https://ipywidgets.readthedocs.io/en/stable/user_install.html\">Jupyter\n",
       "  Widgets Documentation</a> for setup instructions.\n",
       "</p>\n",
       "<p>\n",
       "  If you're reading this message in another frontend (for example, a static\n",
       "  rendering on GitHub or <a href=\"https://nbviewer.jupyter.org/\">NBViewer</a>),\n",
       "  it may mean that your frontend doesn't currently support widgets.\n",
       "</p>\n"
      ],
      "text/plain": [
       "GPTaskWidget(lsid='urn:lsid:broad.mit.edu:cancer.software.genepattern.module.analysis:00355')"
      ]
     },
     "metadata": {},
     "output_type": "display_data"
    }
   ],
   "source": [
    "preprocessreadcounts_task = gp.GPTask(genepattern.get_session(0), 'urn:lsid:broad.mit.edu:cancer.software.genepattern.module.analysis:00355')\n",
    "preprocessreadcounts_job_spec = preprocessreadcounts_task.make_job_spec()\n",
    "preprocessreadcounts_job_spec.set_parameter(\"input.file\", \"\")\n",
    "preprocessreadcounts_job_spec.set_parameter(\"cls.file\", \"\")\n",
    "preprocessreadcounts_job_spec.set_parameter(\"output.file\", \"BRCA_dataset.preprocessed.gct\")\n",
    "preprocessreadcounts_job_spec.set_parameter(\"expression.value.filter.threshold\", \"1\")\n",
    "genepattern.GPTaskWidget(preprocessreadcounts_task)"
   ]
  },
  {
   "cell_type": "markdown",
   "metadata": {},
   "source": [
    "## Compute differentially expressed transcripts\n"
   ]
  },
  {
   "cell_type": "markdown",
   "metadata": {},
   "source": [
    "The following analysis cell uses an information-theoretic method to find significantly differentially expressed transcripts or genes.\n",
    "\n",
    "<div class=\"alert alert-info\">\n",
    "- Click on the downward arrow (▼) for the **gene expression dataset** parameter and select the file we loaded above **BRCA_dataset.preprocessed.gct**\n",
    "- Click on the downward arrow (▼) for the **phenotype file** parameter and select the file we loaded above **classes.cls**\n",
    "- Leave the rest of the parameters as default:\n",
    "  + **output filename**: diffex_output\n",
    "  + **ranking method**: Pearson Correlation Matching\n",
    "  + **max number of genes to show**: 20\n",
    "  + **number of permutations**: 100\n",
    "  + **title**: Differential Expression Results\n",
    "  + **random seed**: 20180314\n",
    "  + **output variable**: gene_scores\n",
    "- Click **Run**"
   ]
  },
  {
   "cell_type": "code",
   "execution_count": 9,
   "metadata": {
    "genepattern": {
     "output_variable": "gene_scores",
     "param_values": {
      "gene_expression": [],
      "max_number_of_genes_to_show": "20",
      "number_of_permutations": "100",
      "output_filename": "diffex_output",
      "output_var": "gene_scores",
      "phenotype_file": [],
      "random_seed": "20180314",
      "ranking_method": "compute_information_coefficient",
      "title": "Differential Expression Results"
     },
     "show_code": false,
     "type": "uibuilder"
    },
    "scrolled": false
   },
   "outputs": [
    {
     "data": {
      "application/vnd.jupyter.widget-view+json": {
       "model_id": "caa84d70f914477aa73dfb47c923e6c7",
       "version_major": 2,
       "version_minor": 0
      },
      "text/html": [
       "<p>Failed to display Jupyter Widget of type <code>GPUIBuilder</code>.</p>\n",
       "<p>\n",
       "  If you're reading this message in the Jupyter Notebook or JupyterLab Notebook, it may mean\n",
       "  that the widgets JavaScript is still loading. If this message persists, it\n",
       "  likely means that the widgets JavaScript library is either not installed or\n",
       "  not enabled. See the <a href=\"https://ipywidgets.readthedocs.io/en/stable/user_install.html\">Jupyter\n",
       "  Widgets Documentation</a> for setup instructions.\n",
       "</p>\n",
       "<p>\n",
       "  If you're reading this message in another frontend (for example, a static\n",
       "  rendering on GitHub or <a href=\"https://nbviewer.jupyter.org/\">NBViewer</a>),\n",
       "  it may mean that your frontend doesn't currently support widgets.\n",
       "</p>\n"
      ],
      "text/plain": [
       "GPUIBuilder(description='Sort genes according to their association with a discrete phenotype or class vector.', function_import='differential_gene_expression', name='Differential gene expression, discrete pheotype.', params=[{'name': 'gene_expression', 'label': 'gene_expression_dataset', 'optional': False, 'default': '', 'description': 'GCT filename; data matrix with input gene expression profiles', 'hide': False, 'type': 'file', 'kinds': ['gct'], 'choices': []}, {'name': 'phenotype_file', 'label': 'phenotype_file', 'optional': False, 'default': '', 'description': 'CLS filename; input binary phenotype/class distinction', 'hide': False, 'type': 'file', 'kinds': ['cls'], 'choices': []}, {'name': 'output_filename', 'label': 'output_filename', 'optional': False, 'default': 'diffex_output', 'description': 'Output files will have this name plus extensions .txt and .pdf', 'hide': False, 'type': 'text', 'kinds': None, 'choices': []}, {'name': 'ranking_method', 'label': 'ranking_method', 'optional': False, 'default': 'custom_pearson_corr', 'description': 'The function to use to compute similarity between phenotypes and gene_expression', 'hide': False, 'type': 'text', 'kinds': None, 'choices': {'Pearson Correlation Matching': 'custom_pearson_corr', 'Information Coefficient Matching': 'compute_information_coefficient'}}, {'name': 'max_number_of_genes_to_show', 'label': 'max_number_of_genes_to_show', 'optional': True, 'default': 20, 'description': 'Maximum number of genes to show in the heatmap', 'hide': False, 'type': 'number', 'kinds': None, 'choices': []}, {'name': 'number_of_permutations', 'label': 'number_of_permutations', 'optional': True, 'default': 10, 'description': 'Number of random permutations to estimate statistical significance (p-values and FDRs)', 'hide': False, 'type': 'number', 'kinds': None, 'choices': []}, {'name': 'title', 'label': 'title', 'optional': True, 'default': 'Differential Expression Results', 'description': 'The title of the heatmap', 'hide': False, 'type': 'text', 'kinds': None, 'choices': []}, {'name': 'random_seed', 'label': 'random_seed', 'optional': True, 'default': 20121020, 'description': 'Random number generator seed (can be set to a user supplied integer for reproducibility)', 'hide': False, 'type': 'number', 'kinds': None, 'choices': []}, {'name': 'output_var', 'label': 'output_variable', 'optional': True, 'default': 'gene_scores', 'description': 'The returned value of the function will be assigned to this variable, if provided.', 'hide': False, 'type': 'text', 'kinds': None, 'choices': []}])"
      ]
     },
     "metadata": {},
     "output_type": "display_data"
    }
   ],
   "source": [
    "import genepattern\n",
    "import ccalnoir as ccal\n",
    "\n",
    "from ccalnoir import differential_gene_expression\n",
    "# import pandas as pd\n",
    "# import urllib.request\n",
    "from ccalnoir import compute_information_coefficient\n",
    "from ccalnoir import custom_pearson_corr\n",
    "RANDOM_SEED = 20180314\n",
    "\n",
    "genepattern.GPUIBuilder(differential_gene_expression, name=\"Differential gene expression, discrete pheotype.\", \n",
    "                        description=\"Sort genes according to their association with a discrete phenotype or class vector.\",\n",
    "                        parameters={\n",
    "                                \"gene_expression\":{\"name\":\"gene_expression_dataset\",\n",
    "                                                   \"type\": \"file\",\n",
    "                                                   \"kinds\": [\"gct\"]},\n",
    "                                \"phenotype_file\":{\"type\": \"file\",\n",
    "                                                  \"kinds\": [\"cls\"]},\n",
    "                                \"ranking_method\":{\n",
    "                                                  \"default\": \"custom_pearson_corr\",\n",
    "                                                  \"choices\":{'Pearson Correlation Matching':\"custom_pearson_corr\",\n",
    "                                                             'Information Coefficient Matching':\"compute_information_coefficient\",\n",
    "                                                            }\n",
    "                                                     },\n",
    "                                \"title\":{\"default\":\"Differential Expression Results\"},\n",
    "                                \"output_filename\":{\"default\": \"diffex_output\",},\n",
    "                                \"ramdon_seed\":{\"default\":20180314,},\n",
    "                                \"output_var\":{\"default\": \"gene_scores\",},\n",
    "                        })"
   ]
  },
  {
   "cell_type": "markdown",
   "metadata": {},
   "source": [
    "## Investigate differentially expressed genes using genecards.org"
   ]
  },
  {
   "cell_type": "markdown",
   "metadata": {},
   "source": [
    "For a quick look at each of the top differentially expressed genes we probe http://www.genecards.org/ using the Table Creator function\n",
    "<div class=\"alert alert-info\">\n",
    "- Leave both parameters as default\n",
    "  + **differential expression results**: gene_scores\n",
    "  + **max number of genes to show**: 20\n",
    "- Click run\n",
    "- When the table has been created, click on any links on the ```GeneCard``` column to learn about that particular gene"
   ]
  },
  {
   "cell_type": "code",
   "execution_count": 10,
   "metadata": {
    "genepattern": {
     "output_variable": "",
     "param_values": {
      "actual_ranking": "false",
      "df": "gene_scores",
      "max_number_of_genes_to_show": "20"
     },
     "show_code": false,
     "type": "uibuilder"
    },
    "scrolled": false
   },
   "outputs": [
    {
     "data": {
      "application/vnd.jupyter.widget-view+json": {
       "model_id": "783da8f5b2a7474cb9b7fb7672196292",
       "version_major": 2,
       "version_minor": 0
      },
      "text/html": [
       "<p>Failed to display Jupyter Widget of type <code>GPUIBuilder</code>.</p>\n",
       "<p>\n",
       "  If you're reading this message in the Jupyter Notebook or JupyterLab Notebook, it may mean\n",
       "  that the widgets JavaScript is still loading. If this message persists, it\n",
       "  likely means that the widgets JavaScript library is either not installed or\n",
       "  not enabled. See the <a href=\"https://ipywidgets.readthedocs.io/en/stable/user_install.html\">Jupyter\n",
       "  Widgets Documentation</a> for setup instructions.\n",
       "</p>\n",
       "<p>\n",
       "  If you're reading this message in another frontend (for example, a static\n",
       "  rendering on GitHub or <a href=\"https://nbviewer.jupyter.org/\">NBViewer</a>),\n",
       "  it may mean that your frontend doesn't currently support widgets.\n",
       "</p>\n"
      ],
      "text/plain": [
       "GPUIBuilder(description='Show differentially expressed genes with links to genecards.org', function_import='make_table', name='Table Creator', params=[{'name': 'df', 'label': 'differential_expression_results', 'optional': False, 'default': 'gene_scores', 'description': '', 'hide': False, 'type': 'text', 'kinds': None, 'choices': []}, {'name': 'max_number_of_genes_to_show', 'label': 'max_number_of_genes_to_show', 'optional': False, 'default': 20, 'description': 'Maximum number of genes to show in the heatmap (half will be overexpressed in one class and half in the other)', 'hide': False, 'type': 'text', 'kinds': None, 'choices': []}, {'name': 'actual_ranking', 'label': 'actual_ranking', 'optional': True, 'default': False, 'description': '', 'hide': True, 'type': 'choice', 'kinds': None, 'choices': {'True': 'true', 'False': 'false'}}, {'name': 'output_var', 'label': 'output_variable', 'optional': True, 'default': '', 'description': 'The returned value of the function will be assigned to this variable, if provided.', 'hide': True, 'type': 'text', 'kinds': None, 'choices': []}])"
      ]
     },
     "metadata": {},
     "output_type": "display_data"
    }
   ],
   "source": [
    "import numpy as np\n",
    "import pandas as pd\n",
    "\n",
    "def make_clickable(url):\n",
    "    to_display = url.split('=')[1]\n",
    "    return '<a href=\"{}\" target=\"_blank\">{}</a>'.format(url, to_display)\n",
    "\n",
    "def make_table(df,max_number_of_genes_to_show, actual_ranking=False):\n",
    "    df['Rank'] = range(1,len(df)+1)\n",
    "#     pd.options.display.max_colwidth = 100\n",
    "    if max_number_of_genes_to_show > len(df):\n",
    "        max_number_of_genes_to_show = len(df)\n",
    "        print(\"You want to show more genes than your data contains ಠ_ಠ\")\n",
    "        print(\"Showing you only {} instead (i.e., all the genes you have provided)\".format(max_number_of_genes_to_show))\n",
    "    \n",
    "    if actual_ranking:\n",
    "        df['abs-Score'] = np.absolute(df['Score'])\n",
    "        sorted_df = df.sort_values(by=[\"abs-Score\"], ascending=False)\n",
    "        sorted_df = sorted_df.head(max_number_of_genes_to_show)\n",
    "    else:\n",
    "        to_show = int(np.floor(max_number_of_genes_to_show/2))\n",
    "        sorted_df = df.head(to_show).append(df.tail(to_show))\n",
    "\n",
    "    sorted_df['GeneCards link']=pd.Series([\"http://www.genecards.org/cgi-bin/carddisp.pl?gene={}\".format(gene) \n",
    "                                     for gene in sorted_df.index.values], index=sorted_df.index)\n",
    "    \n",
    "    cols = list(sorted_df)\n",
    "    # move the column to head of list using index, pop and insert\n",
    "    cols.insert(0, cols.pop(cols.index('GeneCards link')))\n",
    "    # use ix to reorder\n",
    "    sorted_df = sorted_df.ix[:, cols]\n",
    "    sorted_df.set_index('Rank', inplace=True)\n",
    "    styled_table = sorted_df.style.format({'GeneCards link': make_clickable})\n",
    "    styled_table\n",
    "    return styled_table\n",
    "\n",
    "genepattern.GPUIBuilder(make_table, name=\"Table Creator\", \n",
    "                        description=\"Show differentially expressed genes with links to genecards.org\",\n",
    "                        parameters={\n",
    "                                \"df\":{\"name\": \"differential_expression_results\",\n",
    "                                      \"default\":\"gene_scores\"},\n",
    "                                \"max_number_of_genes_to_show\":{\"description\":\"Maximum number of genes to show in the heatmap (half will be overexpressed in one class and half in the other)\",\n",
    "                                                               \"default\":20},\n",
    "                                \"actual_ranking\":{\"hide\":True},\n",
    "                                \"output_var\":{\"hide\":True},\n",
    "                        })"
   ]
  },
  {
   "cell_type": "markdown",
   "metadata": {
    "collapsed": true
   },
   "source": [
    "<div class=\"well\">\n",
    "*Note:* We are raking based on the score for each gene. This value can be positive (overexpressed in one class and under expressed in the other) or negative (the opposite expression profile). Hence, we want to look at high positive values but also to highly negative values.\n"
   ]
  },
  {
   "cell_type": "code",
   "execution_count": null,
   "metadata": {
    "collapsed": true
   },
   "outputs": [],
   "source": []
  }
 ],
 "metadata": {
  "anaconda-cloud": {},
  "kernelspec": {
   "display_name": "Python 3.6",
   "language": "python",
   "name": "python3.6"
  },
  "language_info": {
   "codemirror_mode": {
    "name": "ipython",
    "version": 3
   },
   "file_extension": ".py",
   "mimetype": "text/x-python",
   "name": "python",
   "nbconvert_exporter": "python",
   "pygments_lexer": "ipython3",
   "version": "3.6.3"
  },
  "widgets": {
   "state": {
    "2a5e839a40ac4aad9e170213613fb672": {
     "views": [
      {
       "cell_index": 1
      }
     ]
    },
    "52c44c2ff34e4cf69825b4e9ba8ac674": {
     "views": [
      {
       "cell_index": 7
      }
     ]
    },
    "9b98374208954f2bb68b6e45664d0e9e": {
     "views": [
      {
       "cell_index": 4
      }
     ]
    },
    "dc62ee2ed17b4b7ab96a5e4b73d6b521": {
     "views": [
      {
       "cell_index": 10
      }
     ]
    }
   },
   "version": "1.2.0"
  }
 },
 "nbformat": 4,
 "nbformat_minor": 1
}
