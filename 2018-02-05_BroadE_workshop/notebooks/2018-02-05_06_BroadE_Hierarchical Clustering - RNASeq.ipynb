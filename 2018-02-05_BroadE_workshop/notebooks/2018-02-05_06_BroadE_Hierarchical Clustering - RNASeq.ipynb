{
 "cells": [
  {
   "cell_type": "markdown",
   "metadata": {},
   "source": [
    "# Hierarchical Clustering in GenePattern Notebook\n",
    "\n",
    "Cluster genes and/or samples based on how close they are to one another. The result is a tree structure, referred to as dendrogram.\n",
    "\n",
    "## Before you begin\n",
    "\n",
    "* Sign in to GenePattern by entering your username and password into the form below.\n",
    "* Gene expression data must be in a [GCT or RES file](https://genepattern.broadinstitute.org/gp/pages/protocols/GctResFiles.html) - we have provided files in the correct format.\n",
    "    * Example file: [all_aml_test.gct](https://software.broadinstitute.org/cancer/software/genepattern/data/all_aml/all_aml_test.gct).\n",
    "* Learn more by reading about [file formats](http://www.broadinstitute.org/cancer/software/genepattern/file-formats-guide#GCT).\n"
   ]
  },
  {
   "cell_type": "code",
   "execution_count": 4,
   "metadata": {
    "genepattern": {
     "server": "https://gp-beta-ami.genepattern.org/gp",
     "type": "auth"
    },
    "scrolled": true
   },
   "outputs": [
    {
     "data": {
      "application/vnd.jupyter.widget-view+json": {
       "model_id": "37dd2fe1009648afad0a147e04d1b03a",
       "version_major": 2,
       "version_minor": 0
      },
      "text/html": [
       "<p>Failed to display Jupyter Widget of type <code>GPAuthWidget</code>.</p>\n",
       "<p>\n",
       "  If you're reading this message in the Jupyter Notebook or JupyterLab Notebook, it may mean\n",
       "  that the widgets JavaScript is still loading. If this message persists, it\n",
       "  likely means that the widgets JavaScript library is either not installed or\n",
       "  not enabled. See the <a href=\"https://ipywidgets.readthedocs.io/en/stable/user_install.html\">Jupyter\n",
       "  Widgets Documentation</a> for setup instructions.\n",
       "</p>\n",
       "<p>\n",
       "  If you're reading this message in another frontend (for example, a static\n",
       "  rendering on GitHub or <a href=\"https://nbviewer.jupyter.org/\">NBViewer</a>),\n",
       "  it may mean that your frontend doesn't currently support widgets.\n",
       "</p>\n"
      ],
      "text/plain": [
       "GPAuthWidget()"
      ]
     },
     "metadata": {},
     "output_type": "display_data"
    }
   ],
   "source": [
    "# Requires GenePattern Notebook: pip install genepattern-notebook\n",
    "import gp\n",
    "import genepattern\n",
    "\n",
    "# Username and password removed for security reasons.\n",
    "genepattern.GPAuthWidget(genepattern.register_session(\"https://gp-beta-ami.genepattern.org/gp\", \"\", \"\"))"
   ]
  },
  {
   "cell_type": "markdown",
   "metadata": {},
   "source": [
    "## 1. Explore distance metrics\n",
    "- The following cells will illustrate the difference between two common distance metrics, the [Euclidean distance](https://en.wikipedia.org/wiki/Euclidean_distance) and the [Pearson distance](https://en.wikipedia.org/wiki/Distance_correlation).\n",
    "- The code below will create four signals, and then compare each one to the others, computing the Euclidean and Pearson distances.\n",
    "- The Pearson distance has a minimum of 0 (no distance = signals are identical) and a maximum of 2 (the signals are maximally opposite each other).\n",
    "- The Euclidean distance also has a minimum of 0, but because it corresponds to the geometric distance and not a statistical correlation, there is no bound on the maximum distance between two signals."
   ]
  },
  {
   "cell_type": "markdown",
   "metadata": {},
   "source": [
    "<div class=\"alert alert-info\">\n",
    "### Instructions\n",
    "- Execute the following cell and view the distance metric plots.\n",
    "\n",
    "### Questions\n",
    "- What pairings of signals produce \"closer\" distances?\n",
    "- What types of signal are invariant under the Pearson distance?\n",
    "- How does this compare with the Euclidean distance?"
   ]
  },
  {
   "cell_type": "code",
   "execution_count": null,
   "metadata": {
    "collapsed": true
   },
   "outputs": [],
   "source": [
    "%matplotlib inline\n",
    "\n",
    "import scipy.stats as ss\n",
    "import matplotlib.pyplot as plt\n",
    "import math\n",
    "import numpy as np\n",
    " \n",
    "# Create series consisting of 360 points in degrees and radians:\n",
    "deg360 = range(0,360)\n",
    "circle2pi = np.arange(0,2*math.pi, 2*math.pi/360)\n",
    "deg2rad = 2*math.pi/360\n",
    "\n",
    "# Function for computing Euclidean distance between two vectors:\n",
    "def euclidean(v1, v2):\n",
    "    distance = math.sqrt(sum([(v1[i] - v2[i])**2 for i in range(len(v1))]))\n",
    "    return(distance)\n",
    "\n",
    "# Class for representing signals (e.g., gene expression profiles) that will be compared:\n",
    "class Signal():\n",
    "    def __init__(self, name, func):\n",
    "        self.name = name\n",
    "        self.func = func\n",
    "\n",
    "# Example signals:\n",
    "sine_plain = Signal(\"sin(x)\", [math.sin(x * deg2rad) for x in deg360])\n",
    "sine_amp2 = Signal(\"2*sin(x)\", [2*math.sin(x * deg2rad) for x in deg360])\n",
    "sine_amp_1 = Signal(\"-sin(x)\", [math.sin(-x * deg2rad) for x in deg360])\n",
    "sine_plus_1 = Signal(\"1 + sin(x)\", [math.sin(x * deg2rad) + 1 for x in deg360])\n",
    "\n",
    "functions = [sine_plain, sine_amp2, sine_amp_1, sine_plus_1]\n",
    "\n",
    "#\n",
    "# Plot signals versus one another, along with computed distances\n",
    "#\n",
    "\n",
    "fig = plt.figure(figsize=(15,15))\n",
    "num_funcs = len(functions)\n",
    "grid_size = num_funcs + 1\n",
    "axis_color = (.8,.8,.8)\n",
    "axes = []\n",
    "\n",
    "#Draw upper left-hand subplot:\n",
    "ax = fig.add_subplot(grid_size, grid_size, 1)\n",
    "ax.axis(ymin=-2.1, ymax=2.1)\n",
    "axes.append(ax)\n",
    "ax.set_frame_on(False)\n",
    "ax.text(0.5,0.5,\"Function\")\n",
    "\n",
    "# Draw single signals across the axes:\n",
    "for f in range(num_funcs):\n",
    "    ax = fig.add_subplot(grid_size,grid_size,((f+1)*(grid_size)+ 1))\n",
    "    ax.axis(ymin=-2.1, ymax=2.1)\n",
    "    plt.title(functions[f].name)\n",
    "    axes.append(ax)\n",
    "    ax.axhline(color=axis_color)\n",
    "    ax.plot(deg360, functions[f].func, 'b')\n",
    "\n",
    "    ax = fig.add_subplot(grid_size,grid_size,(f+2))\n",
    "    ax.axis(ymin=-2.1, ymax=2.1)\n",
    "    plt.title(functions[f].name)\n",
    "    axes.append(ax)\n",
    "    ax.axhline(color=axis_color)\n",
    "    ax.plot(deg360, functions[f].func, 'r')\n",
    "\n",
    "# Draw overlapping signals and their corresponding distance metrics:\n",
    "for f in range(num_funcs):\n",
    "    for g in range(f,num_funcs):\n",
    "        ax = fig.add_subplot(grid_size, grid_size, (f+1)*grid_size + g + 2)\n",
    "        axes.append(ax)\n",
    "        ax.axhline(color=axis_color)\n",
    "        ax.set_ylim((-2.0, 2.0), auto=False)\n",
    "        ax.axis('off')\n",
    "        ax.plot(deg360, functions[f].func, 'b')\n",
    "        ax.plot(deg360, functions[g].func, 'r')\n",
    "        stat_pearson = 1 - ss.pearsonr(functions[f].func,functions[g].func)[0]\n",
    "        stat_euclidean = euclidean(functions[f].func,functions[g].func)\n",
    "        ax.annotate(s=\"P: {0:6.3}\".format(stat_pearson), xy=(0.1, 0.1), xycoords='axes fraction')\n",
    "        ax.annotate(s=\"E: {0:6.3}\".format(stat_euclidean), xy=(0.1, 0.2), xycoords='axes fraction')\n",
    "\n",
    "plt.show()"
   ]
  },
  {
   "cell_type": "markdown",
   "metadata": {},
   "source": [
    "## 2. Perform hierarchical clustering of breast cancer data\n",
    "Run hierarchical clustering on genes and/or samples to create dendrograms for the clustered genes (*.gtr) and/or clustered samples (*.atr), as well as a file (*.cdt) that contains the original gene expression data ordered to reflect the clustering.\n",
    "\n",
    "### Dataset\n",
    "The dataset consists of 20 breast cancer samples and 20 matched normal samples from [The Cancer Genome Atlas](https://cancergenome.nih.gov/). The data were created using the Illumina platform for short-read gene expression analysis.\n",
    "\n",
    "### Considerations\n",
    "* Best practice is to normalize (row/column normalize parameters) and center (row/column center parameters) the data being clustered. \n",
    "* The CDT output file must be converted to a GCT file before it can be used as an input file for another GenePattern module (other than HierachicalClusteringViewer). For instructions on converting a CDT file to a GCT file, see [Creating Input Files](http://www.broadinstitute.org/cancer/software/genepattern/file-formats-guide#creating-input-files).\n",
    "* Learn more by reading about the [HierarchicalClustering](http://software.broadinstitute.org/cancer/software/genepattern/modules/docs/HierarchicalClustering/6) module."
   ]
  },
  {
   "cell_type": "markdown",
   "metadata": {},
   "source": [
    "<div class=\"alert alert-info\">\n",
    "<h3>Instructions</h3>\n",
    "\n",
    "<ol>\n",
    "<li>For the <strong><em>input.filename</em></strong> parameter, click and drag <a href=\"https://datasets.genepattern.org/data/TCGA_BRCA/DP_4_BRCA_HUGO_symbols.preprocessed.gct\" target=\"_blank\">BRCA_HUGO_symbols.preprocessed.gct</a> into the <em>&quot;Enter Path or URL&quot; </em>text box</li>\n",
    "<li>Click <strong><em>Run</em></strong>.</li>\n",
    "</ol>\n",
    "\n",
    "</div>\n"
   ]
  },
  {
   "cell_type": "code",
   "execution_count": 10,
   "metadata": {
    "genepattern": {
     "show_code": true,
     "type": "task"
    }
   },
   "outputs": [
    {
     "data": {
      "application/vnd.jupyter.widget-view+json": {
       "model_id": "2c420208a5e343eb86afba9df7bdf7c8",
       "version_major": 2,
       "version_minor": 0
      },
      "text/html": [
       "<p>Failed to display Jupyter Widget of type <code>GPTaskWidget</code>.</p>\n",
       "<p>\n",
       "  If you're reading this message in the Jupyter Notebook or JupyterLab Notebook, it may mean\n",
       "  that the widgets JavaScript is still loading. If this message persists, it\n",
       "  likely means that the widgets JavaScript library is either not installed or\n",
       "  not enabled. See the <a href=\"https://ipywidgets.readthedocs.io/en/stable/user_install.html\">Jupyter\n",
       "  Widgets Documentation</a> for setup instructions.\n",
       "</p>\n",
       "<p>\n",
       "  If you're reading this message in another frontend (for example, a static\n",
       "  rendering on GitHub or <a href=\"https://nbviewer.jupyter.org/\">NBViewer</a>),\n",
       "  it may mean that your frontend doesn't currently support widgets.\n",
       "</p>\n"
      ],
      "text/plain": [
       "GPTaskWidget(lsid='urn:lsid:broad.mit.edu:cancer.software.genepattern.module.analysis:00009:6')"
      ]
     },
     "metadata": {},
     "output_type": "display_data"
    }
   ],
   "source": [
    "hierarchicalclustering_task = gp.GPTask(genepattern.get_session(0), 'urn:lsid:broad.mit.edu:cancer.software.genepattern.module.analysis:00009:6')\n",
    "hierarchicalclustering_job_spec = hierarchicalclustering_task.make_job_spec()\n",
    "hierarchicalclustering_job_spec.set_parameter(\"input.filename\", \"\")\n",
    "hierarchicalclustering_job_spec.set_parameter(\"column.distance.measure\", \"2\")\n",
    "hierarchicalclustering_job_spec.set_parameter(\"row.distance.measure\", \"0\")\n",
    "hierarchicalclustering_job_spec.set_parameter(\"clustering.method\", \"a\")\n",
    "hierarchicalclustering_job_spec.set_parameter(\"log.transform\", \"\")\n",
    "hierarchicalclustering_job_spec.set_parameter(\"row.center\", \"mean.row\")\n",
    "hierarchicalclustering_job_spec.set_parameter(\"row.normalize\", \"\")\n",
    "hierarchicalclustering_job_spec.set_parameter(\"column.center\", \"mean.column\")\n",
    "hierarchicalclustering_job_spec.set_parameter(\"column.normalize\", \"\")\n",
    "hierarchicalclustering_job_spec.set_parameter(\"output.base.name\", \"<input.filename_basename>\")\n",
    "genepattern.GPTaskWidget(hierarchicalclustering_task)"
   ]
  },
  {
   "cell_type": "markdown",
   "metadata": {},
   "source": [
    "## 3. View clustering results\n",
    "\n",
    "Display a heat map of the clustered gene expression data, with dendrograms showing how the genes and/or samples were clustered.\n",
    "\n",
    "### Considerations\n",
    "\n",
    "* Select File > Save Image to save the heat map and dendrograms to an image file. Supported formats include bmp, eps, jpeg, png, and tiff. \n",
    "* Learn more by reading about the [HierarchicalClusteringViewer](http://software.broadinstitute.org/cancer/software/genepattern/modules/docs/HierarchicalClusteringViewer/12) module."
   ]
  },
  {
   "cell_type": "markdown",
   "metadata": {},
   "source": [
    "<div class=\"alert alert-info\">\n",
    "### Instructions\n",
    "- For the **cdt file** parameter, click the down arrow in the file input box and choose the result of the HierarchicalClustering job.\n",
    "- For the **atr file** parameter, click the down arrow in the file input box and choose the result of the HierarchicalClustering job.\n",
    "- Click **Run**."
   ]
  },
  {
   "cell_type": "code",
   "execution_count": 6,
   "metadata": {
    "genepattern": {
     "type": "task"
    }
   },
   "outputs": [
    {
     "data": {
      "application/vnd.jupyter.widget-view+json": {
       "model_id": "f7f4ec348bc148c481c089984ac5696d",
       "version_major": 2,
       "version_minor": 0
      },
      "text/html": [
       "<p>Failed to display Jupyter Widget of type <code>GPTaskWidget</code>.</p>\n",
       "<p>\n",
       "  If you're reading this message in the Jupyter Notebook or JupyterLab Notebook, it may mean\n",
       "  that the widgets JavaScript is still loading. If this message persists, it\n",
       "  likely means that the widgets JavaScript library is either not installed or\n",
       "  not enabled. See the <a href=\"https://ipywidgets.readthedocs.io/en/stable/user_install.html\">Jupyter\n",
       "  Widgets Documentation</a> for setup instructions.\n",
       "</p>\n",
       "<p>\n",
       "  If you're reading this message in another frontend (for example, a static\n",
       "  rendering on GitHub or <a href=\"https://nbviewer.jupyter.org/\">NBViewer</a>),\n",
       "  it may mean that your frontend doesn't currently support widgets.\n",
       "</p>\n"
      ],
      "text/plain": [
       "GPTaskWidget(lsid='urn:lsid:broad.mit.edu:cancer.software.genepattern.module.visualizer:00031')"
      ]
     },
     "metadata": {},
     "output_type": "display_data"
    }
   ],
   "source": [
    "hierarchicalclusteringviewer_task = gp.GPTask(genepattern.get_session(0), 'urn:lsid:broad.mit.edu:cancer.software.genepattern.module.visualizer:00031')\n",
    "hierarchicalclusteringviewer_job_spec = hierarchicalclusteringviewer_task.make_job_spec()\n",
    "hierarchicalclusteringviewer_job_spec.set_parameter(\"cdt.file\", \"\")\n",
    "hierarchicalclusteringviewer_job_spec.set_parameter(\"gtr.file\", \"\")\n",
    "hierarchicalclusteringviewer_job_spec.set_parameter(\"atr.file\", \"\")\n",
    "genepattern.GPTaskWidget(hierarchicalclusteringviewer_task)"
   ]
  }
 ],
 "metadata": {
  "kernelspec": {
   "display_name": "Python 3.6",
   "language": "python",
   "name": "python3.6"
  },
  "language_info": {
   "codemirror_mode": {
    "name": "ipython",
    "version": 3
   },
   "file_extension": ".py",
   "mimetype": "text/x-python",
   "name": "python",
   "nbconvert_exporter": "python",
   "pygments_lexer": "ipython3",
   "version": "3.6.1"
  },
  "widgets": {
   "state": {
    "b7db842ef4274e94840a24d0ccb32ba1": {
     "views": [
      {
       "cell_index": 1
      }
     ]
    },
    "c00928363e8f4f4899d2ac771bb4df69": {
     "views": [
      {
       "cell_index": 10
      }
     ]
    },
    "f3380732a6e646b1a165ec75b3c0dcb2": {
     "views": [
      {
       "cell_index": 7
      }
     ]
    }
   },
   "version": "1.2.0"
  }
 },
 "nbformat": 4,
 "nbformat_minor": 1
}
