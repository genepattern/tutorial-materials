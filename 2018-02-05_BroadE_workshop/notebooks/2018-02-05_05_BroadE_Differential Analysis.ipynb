{
 "cells": [
  {
   "cell_type": "markdown",
   "metadata": {},
   "source": [
    "# Differential Expression of RNA-Seq data in GenePattern Notebook\n",
    "\n",
    "Compute differentially expressed genes or transcripts and visualize the results\n",
    "\n",
    "## Before you begin\n",
    "\n",
    "* Sign in to GenePattern by entering your username and password into the form below. \n",
    "* Gene expression data must be in a GCT file.\n",
    "* Learn more by reading about [file formats](http://www.broadinstitute.org/cancer/software/genepattern/file-formats-guide#GCT).\n"
   ]
  },
  {
   "cell_type": "code",
   "execution_count": 6,
   "metadata": {
    "genepattern": {
     "server": "https://gp-beta-ami.genepattern.org/gp",
     "type": "auth"
    }
   },
   "outputs": [
    {
     "data": {
      "application/vnd.jupyter.widget-view+json": {
       "model_id": "090618f7230041bd85320c949c4d40f9",
       "version_major": 2,
       "version_minor": 0
      },
      "text/html": [
       "<p>Failed to display Jupyter Widget of type <code>GPAuthWidget</code>.</p>\n",
       "<p>\n",
       "  If you're reading this message in the Jupyter Notebook or JupyterLab Notebook, it may mean\n",
       "  that the widgets JavaScript is still loading. If this message persists, it\n",
       "  likely means that the widgets JavaScript library is either not installed or\n",
       "  not enabled. See the <a href=\"https://ipywidgets.readthedocs.io/en/stable/user_install.html\">Jupyter\n",
       "  Widgets Documentation</a> for setup instructions.\n",
       "</p>\n",
       "<p>\n",
       "  If you're reading this message in another frontend (for example, a static\n",
       "  rendering on GitHub or <a href=\"https://nbviewer.jupyter.org/\">NBViewer</a>),\n",
       "  it may mean that your frontend doesn't currently support widgets.\n",
       "</p>\n"
      ],
      "text/plain": [
       "GPAuthWidget()"
      ]
     },
     "metadata": {},
     "output_type": "display_data"
    }
   ],
   "source": [
    "# Requires GenePattern Notebook: pip install genepattern-notebook\n",
    "import gp\n",
    "import genepattern\n",
    "\n",
    "# Username and password removed for security reasons.\n",
    "genepattern.GPAuthWidget(genepattern.register_session(\"https://gp-beta-ami.genepattern.org/gp\", \"\", \"\"))"
   ]
  },
  {
   "cell_type": "markdown",
   "metadata": {},
   "source": [
    "In the previous notebook, you ran MergeHTSeq to create a single file with 40 samples of read count data. Because this file has already been created, you do not need to run MergeHTSeqCounts here, but it is included as part of a complete end-to-end analysis workflow."
   ]
  },
  {
   "cell_type": "markdown",
   "metadata": {},
   "source": [
    "<div class=\"alert alert-info\">\n",
    "**To continue, go to [DESeq2](#deseq2)**"
   ]
  },
  {
   "cell_type": "markdown",
   "metadata": {},
   "source": [
    "## Merge read counts from RNA-seq quantitation methods\n",
    "- RNA-seq quantitation methods create tab-delimited files consisting of transcript identifiers, e.g., ENSG00000000003, and their read counts.\n",
    "- The MergeHTSeqCounts module combines these files into a single [GCT](http://software.broadinstitute.org/cancer/software/genepattern/file-formats-guide#GCT) format for later analysis in GenePattern."
   ]
  },
  {
   "cell_type": "code",
   "execution_count": 7,
   "metadata": {
    "genepattern": {
     "type": "task"
    }
   },
   "outputs": [
    {
     "data": {
      "application/vnd.jupyter.widget-view+json": {
       "model_id": "38e199a71e7744188b01441844eb8b99",
       "version_major": 2,
       "version_minor": 0
      },
      "text/html": [
       "<p>Failed to display Jupyter Widget of type <code>GPTaskWidget</code>.</p>\n",
       "<p>\n",
       "  If you're reading this message in the Jupyter Notebook or JupyterLab Notebook, it may mean\n",
       "  that the widgets JavaScript is still loading. If this message persists, it\n",
       "  likely means that the widgets JavaScript library is either not installed or\n",
       "  not enabled. See the <a href=\"https://ipywidgets.readthedocs.io/en/stable/user_install.html\">Jupyter\n",
       "  Widgets Documentation</a> for setup instructions.\n",
       "</p>\n",
       "<p>\n",
       "  If you're reading this message in another frontend (for example, a static\n",
       "  rendering on GitHub or <a href=\"https://nbviewer.jupyter.org/\">NBViewer</a>),\n",
       "  it may mean that your frontend doesn't currently support widgets.\n",
       "</p>\n"
      ],
      "text/plain": [
       "GPTaskWidget(lsid='urn:lsid:broad.mit.edu:cancer.software.genepattern.module.analysis:00354')"
      ]
     },
     "metadata": {},
     "output_type": "display_data"
    }
   ],
   "source": [
    "mergehtseqcounts_task = gp.GPTask(genepattern.get_session(0), 'urn:lsid:broad.mit.edu:cancer.software.genepattern.module.analysis:00354')\n",
    "mergehtseqcounts_job_spec = mergehtseqcounts_task.make_job_spec()\n",
    "mergehtseqcounts_job_spec.set_parameter(\"input.files\", \"\")\n",
    "mergehtseqcounts_job_spec.set_parameter(\"output.prefix\", \"<input.files_basename>\")\n",
    "mergehtseqcounts_job_spec.set_parameter(\"sampleinfo.file\", \"\")\n",
    "mergehtseqcounts_job_spec.set_parameter(\"filenames.column\", \"0\")\n",
    "mergehtseqcounts_job_spec.set_parameter(\"class.division.column\", \"1\")\n",
    "mergehtseqcounts_job_spec.set_parameter(\"sample.name.column\", \"\")\n",
    "genepattern.GPTaskWidget(mergehtseqcounts_task)"
   ]
  },
  {
   "cell_type": "markdown",
   "metadata": {},
   "source": [
    " <a href id=\"deseq2\"></a>\n",
    "## Compute differentially expressed transcripts"
   ]
  },
  {
   "cell_type": "markdown",
   "metadata": {},
   "source": [
    "This module uses the [DESeq2](https://www.ncbi.nlm.nih.gov/pmc/articles/PMC4302049/) method to find significantly differentially expressed transcripts."
   ]
  },
  {
   "cell_type": "markdown",
   "metadata": {},
   "source": [
    "<div class=\"alert alert-info\">\n",
    "- Drag [BRCA_unversioned_ensembl_ids.collapsed.gct](https://datasets.genepattern.org/data/TCGA_BRCA/DP_3_1_BRCA_unversioned_ensembl_ids.collapsed.filtered.gct) to the **input file** field below.\n",
    "- Drag [BRCA_labels.cls](https://datasets.genepattern.org/data/TCGA_BRCA/WP_1_workshop_BRCA_labels.cls) to the **cls file** field.\n",
    "- Click **Run**."
   ]
  },
  {
   "cell_type": "code",
   "execution_count": 8,
   "metadata": {
    "genepattern": {
     "type": "task"
    }
   },
   "outputs": [
    {
     "data": {
      "application/vnd.jupyter.widget-view+json": {
       "model_id": "ca8f7d3ce21242fa94b95904c0a52b36",
       "version_major": 2,
       "version_minor": 0
      },
      "text/html": [
       "<p>Failed to display Jupyter Widget of type <code>GPTaskWidget</code>.</p>\n",
       "<p>\n",
       "  If you're reading this message in the Jupyter Notebook or JupyterLab Notebook, it may mean\n",
       "  that the widgets JavaScript is still loading. If this message persists, it\n",
       "  likely means that the widgets JavaScript library is either not installed or\n",
       "  not enabled. See the <a href=\"https://ipywidgets.readthedocs.io/en/stable/user_install.html\">Jupyter\n",
       "  Widgets Documentation</a> for setup instructions.\n",
       "</p>\n",
       "<p>\n",
       "  If you're reading this message in another frontend (for example, a static\n",
       "  rendering on GitHub or <a href=\"https://nbviewer.jupyter.org/\">NBViewer</a>),\n",
       "  it may mean that your frontend doesn't currently support widgets.\n",
       "</p>\n"
      ],
      "text/plain": [
       "GPTaskWidget(lsid='urn:lsid:broad.mit.edu:cancer.software.genepattern.module.analysis:00362')"
      ]
     },
     "metadata": {},
     "output_type": "display_data"
    }
   ],
   "source": [
    "deseq2_task = gp.GPTask(genepattern.get_session(0), 'urn:lsid:broad.mit.edu:cancer.software.genepattern.module.analysis:00362')\n",
    "deseq2_job_spec = deseq2_task.make_job_spec()\n",
    "deseq2_job_spec.set_parameter(\"input.file\", \"\")\n",
    "deseq2_job_spec.set_parameter(\"cls.file\", \"\")\n",
    "deseq2_job_spec.set_parameter(\"confounding.variable.cls.file\", \"\")\n",
    "deseq2_job_spec.set_parameter(\"output.file.base\", \"<input.file_basename>\")\n",
    "deseq2_job_spec.set_parameter(\"qc.plot.format\", \"skip\")\n",
    "deseq2_job_spec.set_parameter(\"fdr.threshold\", \"0.1\")\n",
    "deseq2_job_spec.set_parameter(\"top.N.count\", \"20\")\n",
    "deseq2_job_spec.set_parameter(\"random.seed\", \"779948241\")\n",
    "genepattern.GPTaskWidget(deseq2_task)"
   ]
  },
  {
   "cell_type": "markdown",
   "metadata": {},
   "source": [
    "The output of DESeq2 is in a text-based, tab-delimited format. Before visualizing it using the GenePattern ComparativeMarkerSelectionViewer, we must convert it to the ODF file format that that viewer accepts."
   ]
  },
  {
   "cell_type": "markdown",
   "metadata": {},
   "source": [
    "<div class=\"alert alert-info\">\n",
    "- Click the DESeq2_results_report file (`<filename>.DESeq2_results_report.txt`)\n",
    "- Choose **Send to Existing GenePattern Cell**\n",
    "- Select **txt2odf**\n",
    "- Set the *prune gct* parameter to `True`\n",
    "- Drag [BRCA_with_versioned_ensemble_ids_normalized.gct](https://datasets.genepattern.org/data/TCGA_BRCA/DP_3_BRCA_unversioned_ensembl_ids.collapsed.gct) to the **gct** field below.\n",
    "- Drag [BRCA_labels.cls](https://datasets.genepattern.org/data/TCGA_BRCA/WP_1_workshop_BRCA_labels.cls) to the **cls file** field.\n",
    "- Click **Run**."
   ]
  },
  {
   "cell_type": "code",
   "execution_count": 9,
   "metadata": {
    "genepattern": {
     "type": "task"
    }
   },
   "outputs": [
    {
     "data": {
      "application/vnd.jupyter.widget-view+json": {
       "model_id": "14c8beecbdc64fd7a4cd52865911efd8",
       "version_major": 2,
       "version_minor": 0
      },
      "text/html": [
       "<p>Failed to display Jupyter Widget of type <code>GPTaskWidget</code>.</p>\n",
       "<p>\n",
       "  If you're reading this message in the Jupyter Notebook or JupyterLab Notebook, it may mean\n",
       "  that the widgets JavaScript is still loading. If this message persists, it\n",
       "  likely means that the widgets JavaScript library is either not installed or\n",
       "  not enabled. See the <a href=\"https://ipywidgets.readthedocs.io/en/stable/user_install.html\">Jupyter\n",
       "  Widgets Documentation</a> for setup instructions.\n",
       "</p>\n",
       "<p>\n",
       "  If you're reading this message in another frontend (for example, a static\n",
       "  rendering on GitHub or <a href=\"https://nbviewer.jupyter.org/\">NBViewer</a>),\n",
       "  it may mean that your frontend doesn't currently support widgets.\n",
       "</p>\n"
      ],
      "text/plain": [
       "GPTaskWidget(lsid='urn:lsid:8080.gpserver.ip-172-31-26-71.ip-172-31-26-71.ec2.internal:genepatternmodules:23')"
      ]
     },
     "metadata": {},
     "output_type": "display_data"
    }
   ],
   "source": [
    "txt2odf_task = gp.GPTask(genepattern.get_session(0), 'urn:lsid:8080.gpserver.ip-172-31-26-71.ip-172-31-26-71.ec2.internal:genepatternmodules:23')\n",
    "txt2odf_job_spec = txt2odf_task.make_job_spec()\n",
    "txt2odf_job_spec.set_parameter(\"txt_file\", \"\")\n",
    "txt2odf_job_spec.set_parameter(\"prune_gct\", \"False\")\n",
    "txt2odf_job_spec.set_parameter(\"gct\", \"\")\n",
    "txt2odf_job_spec.set_parameter(\"cls\", \"\")\n",
    "genepattern.GPTaskWidget(txt2odf_task)"
   ]
  },
  {
   "cell_type": "markdown",
   "metadata": {},
   "source": [
    "# Visualizing Differential Expression Results\n",
    "\n",
    "The ComparativeMarkerSelectionViewer allows you to view the results of a differential expression analysis as a heatmap, profile of differentially expressed genes, histogram, or list. It also includes features that allow you to filter results, zoom in and out of a section of the gene list, and export results in a number of formats.\n",
    "\n",
    "Run the ComparativeMarkerSelectionViewer module to view the results. The viewer displays the test statistic score, its p value, and additional statistics as computed by the differential expression method.\n",
    "\n",
    "* Learn more by reading about the [ComparativeMarkerSelectionViewer](https://gp-beta-ami.genepattern.org/gp/getTaskDoc.jsp?name=ComparativeMarkerSelectionViewer) module."
   ]
  },
  {
   "cell_type": "markdown",
   "metadata": {},
   "source": [
    "<div class=\"alert alert-info\">\n",
    "- In the **comparative marker selection filename** parameter, click the triangle in the file input box.\n",
    "- Select the txt2odf result file as the input.\n",
    "- In the **dataset filename** parameter, click the triangle in the file input box.\n",
    "- Select the txt2odf result file as the input.\n",
    "- Click **Run**.\n",
    "\n",
    "Once the job downloads the necessary data it will display a visualization of the differential expression results."
   ]
  },
  {
   "cell_type": "code",
   "execution_count": 10,
   "metadata": {
    "genepattern": {
     "type": "task"
    }
   },
   "outputs": [
    {
     "data": {
      "application/vnd.jupyter.widget-view+json": {
       "model_id": "3cca8b7d9340411daeacdde32614bb24",
       "version_major": 2,
       "version_minor": 0
      },
      "text/html": [
       "<p>Failed to display Jupyter Widget of type <code>GPTaskWidget</code>.</p>\n",
       "<p>\n",
       "  If you're reading this message in the Jupyter Notebook or JupyterLab Notebook, it may mean\n",
       "  that the widgets JavaScript is still loading. If this message persists, it\n",
       "  likely means that the widgets JavaScript library is either not installed or\n",
       "  not enabled. See the <a href=\"https://ipywidgets.readthedocs.io/en/stable/user_install.html\">Jupyter\n",
       "  Widgets Documentation</a> for setup instructions.\n",
       "</p>\n",
       "<p>\n",
       "  If you're reading this message in another frontend (for example, a static\n",
       "  rendering on GitHub or <a href=\"https://nbviewer.jupyter.org/\">NBViewer</a>),\n",
       "  it may mean that your frontend doesn't currently support widgets.\n",
       "</p>\n"
      ],
      "text/plain": [
       "GPTaskWidget(lsid='urn:lsid:broad.mit.edu:cancer.software.genepattern.module.visualizer:00045')"
      ]
     },
     "metadata": {},
     "output_type": "display_data"
    }
   ],
   "source": [
    "comparativemarkerselectionviewer_task = gp.GPTask(genepattern.get_session(0), 'urn:lsid:broad.mit.edu:cancer.software.genepattern.module.visualizer:00045')\n",
    "comparativemarkerselectionviewer_job_spec = comparativemarkerselectionviewer_task.make_job_spec()\n",
    "comparativemarkerselectionviewer_job_spec.set_parameter(\"comparative.marker.selection.filename\", \"\")\n",
    "comparativemarkerselectionviewer_job_spec.set_parameter(\"dataset.filename\", \"\")\n",
    "genepattern.GPTaskWidget(comparativemarkerselectionviewer_task)"
   ]
  }
 ],
 "metadata": {
  "anaconda-cloud": {},
  "kernelspec": {
   "display_name": "Python 3.6",
   "language": "python",
   "name": "python3.6"
  },
  "language_info": {
   "codemirror_mode": {
    "name": "ipython",
    "version": 3
   },
   "file_extension": ".py",
   "mimetype": "text/x-python",
   "name": "python",
   "nbconvert_exporter": "python",
   "pygments_lexer": "ipython3",
   "version": "3.6.1"
  },
  "widgets": {
   "state": {
    "2a5e839a40ac4aad9e170213613fb672": {
     "views": [
      {
       "cell_index": 1
      }
     ]
    },
    "52c44c2ff34e4cf69825b4e9ba8ac674": {
     "views": [
      {
       "cell_index": 7
      }
     ]
    },
    "9b98374208954f2bb68b6e45664d0e9e": {
     "views": [
      {
       "cell_index": 4
      }
     ]
    },
    "dc62ee2ed17b4b7ab96a5e4b73d6b521": {
     "views": [
      {
       "cell_index": 10
      }
     ]
    }
   },
   "version": "1.2.0"
  }
 },
 "nbformat": 4,
 "nbformat_minor": 1
}
