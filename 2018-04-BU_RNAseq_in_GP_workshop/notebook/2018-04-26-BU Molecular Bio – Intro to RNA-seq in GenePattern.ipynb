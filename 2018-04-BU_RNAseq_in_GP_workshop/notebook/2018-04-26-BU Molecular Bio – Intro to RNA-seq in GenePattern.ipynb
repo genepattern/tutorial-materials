{
 "cells": [
  {
   "cell_type": "markdown",
   "metadata": {},
   "source": [
    "<h1 id=\"Differential-Expression-of-RNA-Seq-data-in-GenePattern-Notebook\">Differential Expression of RNA-Seq data in GenePattern Notebook</h1>\n",
    "\n",
    "<p>Compute differentially expressed genes or transcripts and visualize the results</p>\n",
    "\n",
    "<h2 id=\"Before-you-begin\">Before you begin</h2>\n",
    "\n",
    "<p>You must log in to a GenePattern server, in this notebook we will use the <strong>GenePattern Production Server</strong>, hosted at the Broad Institute.</p>\n",
    "\n",
    "\n",
    "<div class=\"alert alert-info\">\n",
    "<ul>\n",
    "\t<li>Sign in to GenePattern by clicking &quot;Login as...&quot; in the dialog that should be displayed below.&nbsp;\n",
    "\t<ul>\n",
    "\t\t<li>This will log you in as the same user you used to log into the notebook repository.</li>\n",
    "\t</ul>\n",
    "\t</li>\n",
    "</ul>\n",
    "</div>\n"
   ]
  },
  {
   "cell_type": "code",
   "execution_count": 18,
   "metadata": {
    "genepattern": {
     "server": "https://genepattern.broadinstitute.org/gp",
     "type": "auth"
    },
    "scrolled": false
   },
   "outputs": [
    {
     "data": {
      "application/vnd.jupyter.widget-view+json": {
       "model_id": "f1aa919558134a038f6c5a2cfcbba68e",
       "version_major": 2,
       "version_minor": 0
      },
      "text/html": [
       "<p>Failed to display Jupyter Widget of type <code>GPAuthWidget</code>.</p>\n",
       "<p>\n",
       "  If you're reading this message in the Jupyter Notebook or JupyterLab Notebook, it may mean\n",
       "  that the widgets JavaScript is still loading. If this message persists, it\n",
       "  likely means that the widgets JavaScript library is either not installed or\n",
       "  not enabled. See the <a href=\"https://ipywidgets.readthedocs.io/en/stable/user_install.html\">Jupyter\n",
       "  Widgets Documentation</a> for setup instructions.\n",
       "</p>\n",
       "<p>\n",
       "  If you're reading this message in another frontend (for example, a static\n",
       "  rendering on GitHub or <a href=\"https://nbviewer.jupyter.org/\">NBViewer</a>),\n",
       "  it may mean that your frontend doesn't currently support widgets.\n",
       "</p>\n"
      ],
      "text/plain": [
       "GPAuthWidget()"
      ]
     },
     "metadata": {},
     "output_type": "display_data"
    }
   ],
   "source": [
    "# Requires GenePattern Notebook: pip install genepattern-notebook\n",
    "import gp\n",
    "import genepattern\n",
    "\n",
    "# Username and password removed for security reasons.\n",
    "genepattern.GPAuthWidget(genepattern.register_session(\"https://genepattern.broadinstitute.org/gp\", \"\", \"\"))"
   ]
  },
  {
   "cell_type": "markdown",
   "metadata": {},
   "source": [
    "<h2 id=\"RNA-Seq-Differential-Analysis-Workflow\">RNA-Seq Differential Analysis Workflow</h2>\n",
    "\n",
    "<p>As we progress through RNA-seq analysis, we are looking to answer several questions. The first question is &ndash; what does my data look like? Does it look approximately the way most RNA-seq data looks, or are there significant issues which suggest a problem with the sequencing? Are there biases toward 3&rsquo; or 5&rsquo; ends, different bases, different sequences?</p>\n",
    "\n",
    "<p>Once we&rsquo;ve determined your data is approximately normal, then we can proceed with alignment and downstream analyses. Then, we are asking other questions, such as &ndash; how did my data align? How many of the reads aligned? Are there visual differences between the phenotypes?</p>\n",
    "\n",
    "<p>Considerations to bear in mind as we progress:</p>\n",
    "\n",
    "<ul>\n",
    "\t<li>Tools aren&#39;t always 100% accurate - check their work\n",
    "\t<ul>\n",
    "\t\t<li>algorithms have biases - read the documentation and references to be familiar with these biases</li>\n",
    "\t</ul>\n",
    "\t</li>\n",
    "\t<li>When removing data, remember that anomalies may be relevant - be sure about why you are removing data, and what you might gain/lose by doing so.</li>\n",
    "</ul>\n"
   ]
  },
  {
   "cell_type": "markdown",
   "metadata": {},
   "source": [
    "<h3>Quality Control Checking - FastQC</h3>\n",
    "\n",
    "<ul>\n",
    "\t<li>Is my raw data of high quality?</li>\n",
    "\t<li>Are any bases or sequences over- or under-represented?</li>\n",
    "\t<li>Are there any biases in the reads (e.g. 3&rsquo; end or 5&rsquo; end)?</li>\n",
    "\t<li>Is there any kind of enrichment bias in my samples (e.g. from PCR)?</li>\n",
    "</ul>"
   ]
  },
  {
   "cell_type": "markdown",
   "metadata": {},
   "source": [
    "<h3>Dataset: GSE52778, SRP033351</h3>\n",
    "\n",
    "<p><strong>Human Airway Smooth Muscle Transcriptome Changes in Response to Asthma Medications</strong></p>\n",
    "\n",
    "<p>Himes, Blanca E. et al. &ldquo;RNA-Seq Transcriptome Profiling Identifies&nbsp;<em>CRISPLD2&nbsp;</em>as a Glucocorticoid Responsive Gene That Modulates Cytokine Function in Airway Smooth Muscle Cells.&rdquo; Ed. Jan Peter Tuckermann.<em>&nbsp;PLoS ONE</em>&nbsp;9.6 (2014): e99625.&nbsp;<em>PMC</em>.</p>\n",
    "\n",
    "<ul>\n",
    "\t<li>HASM cells from four white male donors</li>\n",
    "\t<li>Four treatment conditions:</li>\n",
    "<ol>\n",
    "\t<li>no treatment</li>\n",
    "\t<li>treatment with a &beta;2-agonist (i.e. Albuterol, 1&mu;M for 18h)</li>\n",
    "\t<li>treatment with a glucocorticosteroid (i.e. Dexamethasone (Dex), 1&mu;M for 18h)</li>\n",
    "\t<li>simultaneous treatment with a &beta;2-agonist and glucocorticoid</li>\n",
    "</ol>\n",
    "</ul>\n",
    "\n",
    "<div class=\"alert alert-info\">\n",
    "<ul>\n",
    "\t<li>Drag <a href=\"https://s3.amazonaws.com/datasets-genepattern-org/data/HASM_Asthma_RNA-seq_workshop_files/FastQC_Input/SRR1039508_1.fastq.gz\" target=\"_blank\">SRR1039508_1.fastq.gz</a> to the <b>input file</b>&nbsp;field.</li>\n",
    "\t<li>Leave the rest of the parameters as default (found in the Advanced section)</li>\n",
    "\t<li>Click <strong>Run</strong></li>\n",
    "</ul>\n",
    "</div>"
   ]
  },
  {
   "cell_type": "code",
   "execution_count": 19,
   "metadata": {
    "genepattern": {
     "type": "task"
    },
    "scrolled": false
   },
   "outputs": [
    {
     "data": {
      "application/vnd.jupyter.widget-view+json": {
       "model_id": "60ca26277df84167be8e8b9802df2b4d",
       "version_major": 2,
       "version_minor": 0
      },
      "text/html": [
       "<p>Failed to display Jupyter Widget of type <code>GPTaskWidget</code>.</p>\n",
       "<p>\n",
       "  If you're reading this message in the Jupyter Notebook or JupyterLab Notebook, it may mean\n",
       "  that the widgets JavaScript is still loading. If this message persists, it\n",
       "  likely means that the widgets JavaScript library is either not installed or\n",
       "  not enabled. See the <a href=\"https://ipywidgets.readthedocs.io/en/stable/user_install.html\">Jupyter\n",
       "  Widgets Documentation</a> for setup instructions.\n",
       "</p>\n",
       "<p>\n",
       "  If you're reading this message in another frontend (for example, a static\n",
       "  rendering on GitHub or <a href=\"https://nbviewer.jupyter.org/\">NBViewer</a>),\n",
       "  it may mean that your frontend doesn't currently support widgets.\n",
       "</p>\n"
      ],
      "text/plain": [
       "GPTaskWidget(lsid='urn:lsid:broad.mit.edu:cancer.software.genepattern.module.analysis:00340')"
      ]
     },
     "metadata": {},
     "output_type": "display_data"
    }
   ],
   "source": [
    "fastqc_task = gp.GPTask(genepattern.get_session(0), 'urn:lsid:broad.mit.edu:cancer.software.genepattern.module.analysis:00340')\n",
    "fastqc_job_spec = fastqc_task.make_job_spec()\n",
    "fastqc_job_spec.set_parameter(\"input.file\", \"\")\n",
    "fastqc_job_spec.set_parameter(\"input.format\", \"\")\n",
    "fastqc_job_spec.set_parameter(\"contaminant.file\", \"\")\n",
    "fastqc_job_spec.set_parameter(\"kmer.size\", \"5\")\n",
    "fastqc_job_spec.set_parameter(\"extract.output\", \"true\")\n",
    "genepattern.GPTaskWidget(fastqc_task)"
   ]
  },
  {
   "cell_type": "code",
   "execution_count": 21,
   "metadata": {
    "genepattern": {
     "type": "job"
    }
   },
   "outputs": [
    {
     "data": {
      "application/vnd.jupyter.widget-view+json": {
       "model_id": "c596d3d9299949efa9e5ffdbf62ce111",
       "version_major": 2,
       "version_minor": 0
      },
      "text/html": [
       "<p>Failed to display Jupyter Widget of type <code>GPJobWidget</code>.</p>\n",
       "<p>\n",
       "  If you're reading this message in the Jupyter Notebook or JupyterLab Notebook, it may mean\n",
       "  that the widgets JavaScript is still loading. If this message persists, it\n",
       "  likely means that the widgets JavaScript library is either not installed or\n",
       "  not enabled. See the <a href=\"https://ipywidgets.readthedocs.io/en/stable/user_install.html\">Jupyter\n",
       "  Widgets Documentation</a> for setup instructions.\n",
       "</p>\n",
       "<p>\n",
       "  If you're reading this message in another frontend (for example, a static\n",
       "  rendering on GitHub or <a href=\"https://nbviewer.jupyter.org/\">NBViewer</a>),\n",
       "  it may mean that your frontend doesn't currently support widgets.\n",
       "</p>\n"
      ],
      "text/plain": [
       "GPJobWidget()"
      ]
     },
     "metadata": {},
     "output_type": "display_data"
    }
   ],
   "source": [
    "genepattern.GPJobWidget(None)"
   ]
  },
  {
   "cell_type": "markdown",
   "metadata": {},
   "source": [
    "<p>If your FastQC job has not finished running, then you can look at an example job we&rsquo;ve already created, below this cell.<br />\n",
    "Here you can see all the outputs of the job. As you can see, there are several files. We are interested in one which aggregates all of this information together &ndash; the <b><em>fastqc_report.html</em></b> file.</p>\n",
    "\n",
    "<div class=\"alert alert-info\">\n",
    "<ul>\n",
    "\t<li>Click the <strong>report.hml</strong> file below</li>\n",
    "\t<li>then click &quot;Open in New Tab&quot; to view the file. This will open a new webpage.</li>\n",
    "</ul>\n",
    "</div>\n"
   ]
  },
  {
   "cell_type": "code",
   "execution_count": 23,
   "metadata": {
    "genepattern": {
     "type": "job"
    },
    "scrolled": false
   },
   "outputs": [
    {
     "data": {
      "application/vnd.jupyter.widget-view+json": {
       "model_id": "3d09355ee4a444d5bf6dcc41361949ca",
       "version_major": 2,
       "version_minor": 0
      },
      "text/html": [
       "<p>Failed to display Jupyter Widget of type <code>GPJobWidget</code>.</p>\n",
       "<p>\n",
       "  If you're reading this message in the Jupyter Notebook or JupyterLab Notebook, it may mean\n",
       "  that the widgets JavaScript is still loading. If this message persists, it\n",
       "  likely means that the widgets JavaScript library is either not installed or\n",
       "  not enabled. See the <a href=\"https://ipywidgets.readthedocs.io/en/stable/user_install.html\">Jupyter\n",
       "  Widgets Documentation</a> for setup instructions.\n",
       "</p>\n",
       "<p>\n",
       "  If you're reading this message in another frontend (for example, a static\n",
       "  rendering on GitHub or <a href=\"https://nbviewer.jupyter.org/\">NBViewer</a>),\n",
       "  it may mean that your frontend doesn't currently support widgets.\n",
       "</p>\n"
      ],
      "text/plain": [
       "GPJobWidget(job_number=1657086)"
      ]
     },
     "metadata": {},
     "output_type": "display_data"
    }
   ],
   "source": [
    "job1657086 = gp.GPJob(genepattern.get_session(0), 1657086)\n",
    "genepattern.GPJobWidget(job1657086)"
   ]
  },
  {
   "cell_type": "markdown",
   "metadata": {
    "collapsed": true
   },
   "source": [
    "<p>On the&nbsp;webpage that opens we can see the results of our job.</p>\n",
    "\n",
    "<p>Each metric is given an evaluation of good (green), warning (orange), or bad (red). As you can see most of our data is green, which is good. We have some orange in overrepresented sequences and in kmer content, and we have one bad flag in &lsquo;sequence duplication levels&rsquo;. For this workshop&nbsp;we&rsquo;re going to look specifically at the overrepresented sequences.</p>\n",
    "\n",
    "<div class=\"alert alert-info\">\n",
    "<ul>\n",
    "\t<li>Click on <em><strong>&lsquo;overrepresented sequences&rsquo;</strong></em>.\n",
    "\n",
    "\t<ul>\n",
    "\t\t<li>This shows us that a specific sequence makes up 0.25 percent of our library, which this has flagged as unusually high.</li>\n",
    "\t\t<li>The software has found that this matches a TruSeq adapter, so we know there&rsquo;s adapter contamination in our dataset.</li>\n",
    "\t</ul>\n",
    "\t</li>\n",
    "</ul>\n",
    "</div>\n",
    "\n",
    "<img src=\"https://s3.amazonaws.com/datasets-genepattern-org/images/Workshop+Notebooks/BU+Molecular+Bio/FastQCReport_beforeTrim.PNG\"/>\n",
    "\n",
    "<p>The FastQC documentation will show you examples of good and bad results to help you in determining how to handle your own data.</p>\n",
    "\n",
    "<p>We&rsquo;re going to need to trim this data to improve the quality.</p>\n"
   ]
  },
  {
   "cell_type": "markdown",
   "metadata": {},
   "source": [
    "<h3 id=\"Run-Trimmomatic-on-Paired-FASTQ-files\">Run Trimmomatic on Paired FASTQ files</h3>\n",
    "\n",
    "<p>We use Trimmomatic to trim contaminating adapter sequences. We discard reads if they are below a specified length after trimming.</p>\n",
    "\n",
    "<div class=\"alert alert-info\">\n",
    "<ul>\n",
    "\t<li>Drag <a href=\"https://s3.amazonaws.com/datasets-genepattern-org/data/HASM_Asthma_RNA-seq_workshop_files/FastQC_Input/SRR1039508_1.fastq.gz\" target=\"_blank\">SRR1039508_1.fastq.gz</a> to the <b>input file 1</b>&nbsp;field.</li>\n",
    "\t<li>Drag <a href=\"https://s3.amazonaws.com/datasets-genepattern-org/data/HASM_Asthma_RNA-seq_workshop_files/FastQC_Input/SRR1039508_2.fastq.gz\" target=\"_blank\">SRR1039508_2.fastq.gz</a> to the <b>input file 2</b>&nbsp;field.</li>\n",
    "\t<li>Collapse the <strong>Basic Input Parameters and Options</strong> section</li>\n",
    "\t<li>Expand the <strong>Adapter Clipping</strong><em>&nbsp;</em>section</li>\n",
    "\t<li>In order to trim the TruSeq 2 adaptor we must either supply or choose an adaptor clip sequence file. Since TruSeq2 is common, the module provides this for us.\n",
    "\t<ul>\n",
    "\t\t<li>Click on the box containing&nbsp;<strong>Add GenePattern File or URL...</strong></li>\n",
    "\t\t<li>Choose<em>&nbsp;</em><strong>TruSeq2-PE.fa</strong>&nbsp;</li>\n",
    "\t</ul>\n",
    "\t</li>\n",
    "\t<li>Set the <strong>adapter clip seed mismatches</strong> to the recommended value of <strong>2</strong></li>\n",
    "\t<li>Set&nbsp;the <strong>adapter clip palindrome clip threshold</strong> to the recommended value of <strong>40</strong></li>\n",
    "\t<li>Set&nbsp;the <strong>adapter clip simple clip threshold</strong> to <strong>15</strong> (from the recommended range)</li>\n",
    "\t<li>Allow Trimmomatic to set the adaptor clip min length to 8, which is the default.</li>\n",
    "\t<li>Set&nbsp;<strong>adapter clip keep both reads</strong>&nbsp;to&nbsp;<strong>yes</strong>, as is recommended</li>\n",
    "\t<li>Leave the rest of the parameters as default -&nbsp;&nbsp;starting with defaults is a good idea, if you don&rsquo;t know otherwise.</li>\n",
    "</ul>\n",
    "*<em>More information about these parameters and why you might want to change them or add other trimming methods can be found in the Trimmomatic documentation.</em></div>\n",
    "\n",
    "<div class=\"alert alert-warning\">Due to time constraints, please do not run this job. A &quot;prebaked&quot; output has been supplied for you below.</div>\n"
   ]
  },
  {
   "cell_type": "code",
   "execution_count": 25,
   "metadata": {
    "genepattern": {
     "type": "task"
    },
    "scrolled": false
   },
   "outputs": [
    {
     "data": {
      "application/vnd.jupyter.widget-view+json": {
       "model_id": "e648c2c6abe74b78b1158139cd2f4f4f",
       "version_major": 2,
       "version_minor": 0
      },
      "text/html": [
       "<p>Failed to display Jupyter Widget of type <code>GPTaskWidget</code>.</p>\n",
       "<p>\n",
       "  If you're reading this message in the Jupyter Notebook or JupyterLab Notebook, it may mean\n",
       "  that the widgets JavaScript is still loading. If this message persists, it\n",
       "  likely means that the widgets JavaScript library is either not installed or\n",
       "  not enabled. See the <a href=\"https://ipywidgets.readthedocs.io/en/stable/user_install.html\">Jupyter\n",
       "  Widgets Documentation</a> for setup instructions.\n",
       "</p>\n",
       "<p>\n",
       "  If you're reading this message in another frontend (for example, a static\n",
       "  rendering on GitHub or <a href=\"https://nbviewer.jupyter.org/\">NBViewer</a>),\n",
       "  it may mean that your frontend doesn't currently support widgets.\n",
       "</p>\n"
      ],
      "text/plain": [
       "GPTaskWidget(lsid='urn:lsid:broad.mit.edu:cancer.software.genepattern.module.analysis:00341')"
      ]
     },
     "metadata": {},
     "output_type": "display_data"
    }
   ],
   "source": [
    "trimmomatic_task = gp.GPTask(genepattern.get_session(0), 'urn:lsid:broad.mit.edu:cancer.software.genepattern.module.analysis:00341')\n",
    "trimmomatic_job_spec = trimmomatic_task.make_job_spec()\n",
    "trimmomatic_job_spec.set_parameter(\"input.file.1\", \"\")\n",
    "trimmomatic_job_spec.set_parameter(\"input.file.2\", \"\")\n",
    "trimmomatic_job_spec.set_parameter(\"output.filename.base\", \"<input.file.1_basename>\")\n",
    "trimmomatic_job_spec.set_parameter(\"adapter.clip.sequence.file\", \"\")\n",
    "trimmomatic_job_spec.set_parameter(\"adapter.clip.seed.mismatches\", \"\")\n",
    "trimmomatic_job_spec.set_parameter(\"adapter.clip.palindrome.clip.threshold\", \"\")\n",
    "trimmomatic_job_spec.set_parameter(\"adapter.clip.simple.clip.threshold\", \"\")\n",
    "trimmomatic_job_spec.set_parameter(\"adapter.clip.min.length\", \"\")\n",
    "trimmomatic_job_spec.set_parameter(\"adapter.clip.keep.both.reads\", \"true\")\n",
    "trimmomatic_job_spec.set_parameter(\"trim.leading.quality.threshold\", \"\")\n",
    "trimmomatic_job_spec.set_parameter(\"trim.trailing.quality.threshold\", \"\")\n",
    "trimmomatic_job_spec.set_parameter(\"max.info.target.length\", \"\")\n",
    "trimmomatic_job_spec.set_parameter(\"max.info.strictness\", \"\")\n",
    "trimmomatic_job_spec.set_parameter(\"sliding.window.size\", \"\")\n",
    "trimmomatic_job_spec.set_parameter(\"sliding.window.quality.threshold\", \"\")\n",
    "trimmomatic_job_spec.set_parameter(\"min.read.length\", \"\")\n",
    "trimmomatic_job_spec.set_parameter(\"extra.steps\", \"\")\n",
    "trimmomatic_job_spec.set_parameter(\"phred.encoding\", \"phred33\")\n",
    "trimmomatic_job_spec.set_parameter(\"convert.phred.scores\", \"\")\n",
    "trimmomatic_job_spec.set_parameter(\"create.trimlog\", \"false\")\n",
    "genepattern.GPTaskWidget(trimmomatic_task)"
   ]
  },
  {
   "cell_type": "code",
   "execution_count": 27,
   "metadata": {
    "genepattern": {
     "type": "job"
    }
   },
   "outputs": [
    {
     "data": {
      "application/vnd.jupyter.widget-view+json": {
       "model_id": "56a977fd0ff44fb9bcb1f1c98be33330",
       "version_major": 2,
       "version_minor": 0
      },
      "text/html": [
       "<p>Failed to display Jupyter Widget of type <code>GPJobWidget</code>.</p>\n",
       "<p>\n",
       "  If you're reading this message in the Jupyter Notebook or JupyterLab Notebook, it may mean\n",
       "  that the widgets JavaScript is still loading. If this message persists, it\n",
       "  likely means that the widgets JavaScript library is either not installed or\n",
       "  not enabled. See the <a href=\"https://ipywidgets.readthedocs.io/en/stable/user_install.html\">Jupyter\n",
       "  Widgets Documentation</a> for setup instructions.\n",
       "</p>\n",
       "<p>\n",
       "  If you're reading this message in another frontend (for example, a static\n",
       "  rendering on GitHub or <a href=\"https://nbviewer.jupyter.org/\">NBViewer</a>),\n",
       "  it may mean that your frontend doesn't currently support widgets.\n",
       "</p>\n"
      ],
      "text/plain": [
       "GPJobWidget()"
      ]
     },
     "metadata": {},
     "output_type": "display_data"
    }
   ],
   "source": [
    "genepattern.GPJobWidget(None)"
   ]
  },
  {
   "cell_type": "markdown",
   "metadata": {},
   "source": [
    "<p>Below, you can see all the outputs of the job.&nbsp;</p>\n",
    "\n",
    "<ul>\n",
    "\t<li>_1P or _2P are forward and reverse reads which both passed quality checks</li>\n",
    "\t<li>_1U or _2U are &ldquo;unpaired&rdquo; reads in which one of the pair did not pass</li>\n",
    "</ul>\n",
    "\n",
    "<p>The output files we are interested in&nbsp;are the _1P/_2P files which passed both of the quality checks.</p>\n"
   ]
  },
  {
   "cell_type": "code",
   "execution_count": 29,
   "metadata": {
    "genepattern": {
     "show_code": false,
     "type": "job"
    }
   },
   "outputs": [
    {
     "data": {
      "application/vnd.jupyter.widget-view+json": {
       "model_id": "e8eaf8a84c8d459890adc5c71bfaec15",
       "version_major": 2,
       "version_minor": 0
      },
      "text/html": [
       "<p>Failed to display Jupyter Widget of type <code>GPJobWidget</code>.</p>\n",
       "<p>\n",
       "  If you're reading this message in the Jupyter Notebook or JupyterLab Notebook, it may mean\n",
       "  that the widgets JavaScript is still loading. If this message persists, it\n",
       "  likely means that the widgets JavaScript library is either not installed or\n",
       "  not enabled. See the <a href=\"https://ipywidgets.readthedocs.io/en/stable/user_install.html\">Jupyter\n",
       "  Widgets Documentation</a> for setup instructions.\n",
       "</p>\n",
       "<p>\n",
       "  If you're reading this message in another frontend (for example, a static\n",
       "  rendering on GitHub or <a href=\"https://nbviewer.jupyter.org/\">NBViewer</a>),\n",
       "  it may mean that your frontend doesn't currently support widgets.\n",
       "</p>\n"
      ],
      "text/plain": [
       "GPJobWidget(job_number=1657089)"
      ]
     },
     "metadata": {},
     "output_type": "display_data"
    }
   ],
   "source": [
    "job1657089 = gp.GPJob(genepattern.get_session(0), 1657089)\n",
    "genepattern.GPJobWidget(job1657089)"
   ]
  },
  {
   "cell_type": "markdown",
   "metadata": {},
   "source": [
    "<p>We will now send them through FastQC again, to see if the trimming has improved the quality of our reads.</p>\n",
    "\n",
    "<div class=\"alert alert-info\">\n",
    "<ul>\n",
    "\t<li>Click on the <strong>_1P output&nbsp;</strong></li>\n",
    "\t<li><strong>Send to Existing GenePattern Cell&nbsp;</strong>\n",
    "\t<ul>\n",
    "\t\t<li><strong>FastQC - be sure to select the second instance of FastQC in the list</strong>\n",
    "\t\t<ul>\n",
    "\t\t\t<li><em>this will send the output to the FastQC Cell below. You could instead send it to the FastQC cell you started with and run again with this newly trimmed data, however&nbsp;to keep our flow linear, as we are learning, we will pass to the FastQC cell below.&nbsp;</em></li>\n",
    "\t\t</ul>\n",
    "\t\t</li>\n",
    "\t</ul>\n",
    "\t</li>\n",
    "</ul>\n",
    "</div>\n",
    "\n",
    "<div class=\"alert alert-warning\">Due to time constraints, please do not run this job. A &quot;prebaked&quot; output has been supplied for you below.</div>"
   ]
  },
  {
   "cell_type": "code",
   "execution_count": 31,
   "metadata": {
    "genepattern": {
     "type": "task"
    }
   },
   "outputs": [
    {
     "data": {
      "application/vnd.jupyter.widget-view+json": {
       "model_id": "5f9a62f61bcf44b2bdd8d3da9d2e1a16",
       "version_major": 2,
       "version_minor": 0
      },
      "text/html": [
       "<p>Failed to display Jupyter Widget of type <code>GPTaskWidget</code>.</p>\n",
       "<p>\n",
       "  If you're reading this message in the Jupyter Notebook or JupyterLab Notebook, it may mean\n",
       "  that the widgets JavaScript is still loading. If this message persists, it\n",
       "  likely means that the widgets JavaScript library is either not installed or\n",
       "  not enabled. See the <a href=\"https://ipywidgets.readthedocs.io/en/stable/user_install.html\">Jupyter\n",
       "  Widgets Documentation</a> for setup instructions.\n",
       "</p>\n",
       "<p>\n",
       "  If you're reading this message in another frontend (for example, a static\n",
       "  rendering on GitHub or <a href=\"https://nbviewer.jupyter.org/\">NBViewer</a>),\n",
       "  it may mean that your frontend doesn't currently support widgets.\n",
       "</p>\n"
      ],
      "text/plain": [
       "GPTaskWidget(lsid='urn:lsid:broad.mit.edu:cancer.software.genepattern.module.analysis:00340')"
      ]
     },
     "metadata": {},
     "output_type": "display_data"
    }
   ],
   "source": [
    "fastqc_task = gp.GPTask(genepattern.get_session(0), 'urn:lsid:broad.mit.edu:cancer.software.genepattern.module.analysis:00340')\n",
    "fastqc_job_spec = fastqc_task.make_job_spec()\n",
    "fastqc_job_spec.set_parameter(\"input.file\", \"\")\n",
    "fastqc_job_spec.set_parameter(\"input.format\", \"\")\n",
    "fastqc_job_spec.set_parameter(\"contaminant.file\", \"\")\n",
    "fastqc_job_spec.set_parameter(\"kmer.size\", \"5\")\n",
    "fastqc_job_spec.set_parameter(\"extract.output\", \"true\")\n",
    "genepattern.GPTaskWidget(fastqc_task)"
   ]
  },
  {
   "cell_type": "code",
   "execution_count": 33,
   "metadata": {
    "genepattern": {
     "type": "job"
    }
   },
   "outputs": [
    {
     "data": {
      "application/vnd.jupyter.widget-view+json": {
       "model_id": "243d4a2aaa0f42e598608f282f1544c5",
       "version_major": 2,
       "version_minor": 0
      },
      "text/html": [
       "<p>Failed to display Jupyter Widget of type <code>GPJobWidget</code>.</p>\n",
       "<p>\n",
       "  If you're reading this message in the Jupyter Notebook or JupyterLab Notebook, it may mean\n",
       "  that the widgets JavaScript is still loading. If this message persists, it\n",
       "  likely means that the widgets JavaScript library is either not installed or\n",
       "  not enabled. See the <a href=\"https://ipywidgets.readthedocs.io/en/stable/user_install.html\">Jupyter\n",
       "  Widgets Documentation</a> for setup instructions.\n",
       "</p>\n",
       "<p>\n",
       "  If you're reading this message in another frontend (for example, a static\n",
       "  rendering on GitHub or <a href=\"https://nbviewer.jupyter.org/\">NBViewer</a>),\n",
       "  it may mean that your frontend doesn't currently support widgets.\n",
       "</p>\n"
      ],
      "text/plain": [
       "GPJobWidget()"
      ]
     },
     "metadata": {},
     "output_type": "display_data"
    }
   ],
   "source": [
    "genepattern.GPJobWidget(None)"
   ]
  },
  {
   "cell_type": "markdown",
   "metadata": {},
   "source": [
    "<div class=\"alert alert-info\">\n",
    "<ul>\n",
    "    <li>Click the report.hml file below</li>\n",
    "    <li>then click \"Open in New Tab\" to view the file. This will open a new webpage.</li>\n",
    "</ul></div>"
   ]
  },
  {
   "cell_type": "code",
   "execution_count": 34,
   "metadata": {
    "genepattern": {
     "type": "job"
    },
    "scrolled": false
   },
   "outputs": [
    {
     "data": {
      "application/vnd.jupyter.widget-view+json": {
       "model_id": "3c939a9eb61246d0a7c39a1410aed9ba",
       "version_major": 2,
       "version_minor": 0
      },
      "text/html": [
       "<p>Failed to display Jupyter Widget of type <code>GPJobWidget</code>.</p>\n",
       "<p>\n",
       "  If you're reading this message in the Jupyter Notebook or JupyterLab Notebook, it may mean\n",
       "  that the widgets JavaScript is still loading. If this message persists, it\n",
       "  likely means that the widgets JavaScript library is either not installed or\n",
       "  not enabled. See the <a href=\"https://ipywidgets.readthedocs.io/en/stable/user_install.html\">Jupyter\n",
       "  Widgets Documentation</a> for setup instructions.\n",
       "</p>\n",
       "<p>\n",
       "  If you're reading this message in another frontend (for example, a static\n",
       "  rendering on GitHub or <a href=\"https://nbviewer.jupyter.org/\">NBViewer</a>),\n",
       "  it may mean that your frontend doesn't currently support widgets.\n",
       "</p>\n"
      ],
      "text/plain": [
       "GPJobWidget(job_number=1657628)"
      ]
     },
     "metadata": {},
     "output_type": "display_data"
    }
   ],
   "source": [
    "job1657628 = gp.GPJob(genepattern.get_session(0), 1657628)\n",
    "genepattern.GPJobWidget(job1657628)"
   ]
  },
  {
   "cell_type": "markdown",
   "metadata": {},
   "source": [
    "<h3 id=\"-Reviewing-our-Trimmed-Results\">Reviewing our Trimmed Results</h3>\n",
    "\n",
    "<div class=\"alert alert-info\">\n",
    "<ul>\n",
    "\t<li>Click on <em><strong>&lsquo;overrepresented sequences&rsquo;&nbsp;</strong></em>in the new window which is now displaying the latest FastQC report</li>\n",
    "</ul>\n",
    "</div>\n",
    "\n",
    "<img src=\"https://s3.amazonaws.com/datasets-genepattern-org/images/Workshop+Notebooks/BU+Molecular+Bio/FastQCReport_afterTrim.PNG\" />\n",
    "\n",
    "<p>We can see that the <strong>&lsquo;overrepresented sequences&rsquo;</strong> metric, which was previously orange, is now green and the issue has been resolved.</p>\n",
    "\n",
    "<p>We still have an error in <strong>sequence duplication levels, </strong>which means we&nbsp;&nbsp;have some sequences that appear repeatedly in the samples. This can be due to technical duplicates arising from PCR artifacts, or biological duplicates which are natural collisions where different copies of exactly the same sequence are randomly selected. From a sequence level there is no way to distinguish between these two types and both will be reported as duplicates here.</p>\n",
    "\n",
    "<p>In general, a&nbsp;warning or error in this section&nbsp;is simply a statement that you have exhausted the diversity in at least part of your library and are re-sequencing the same sequences. Some library types naturally over-sequence parts of the library and therefore generate duplication and we will therefore expect to see warnings or errors.</p>\n",
    "\n",
    "<p><em>(IE &ndash; you will rarely if ever see&nbsp;all green checks)&nbsp;</em></p>"
   ]
  },
  {
   "cell_type": "markdown",
   "metadata": {},
   "source": [
    "<h3>Run TopHat to align reads - Guided Alignment</h3>\n",
    "\n",
    "<p>TopHat can be used in a few different modes. We will use TopHat to do a guided alignment. This uses a genome or transcriptome to guide the alignment of the reads. Here, the read fragments are aligned to the genome, and then transcripts are assembled from the aligned reads. This is the least computationally intensive mode in which to run TopHat.</p>\n",
    "\n",
    "<p>Aligning to the transcriptome with TopHat requires either a genome annotation file (GTF file), or a transcriptome index. We will use the UCSC hg19 reference annotation.</p>\n",
    "\n",
    "<ol>\n",
    "\t<li>Create a transcriptome index.\n",
    "\t<ul>\n",
    "\t\t<li>To speed up alignment, we create a transcriptome index by running the UCSC hg19 reference annotation on its own.</li>\n",
    "\t</ul>\n",
    "\t</li>\n",
    "\t<li>Align reads to the transcriptome.\n",
    "\t<ul>\n",
    "\t\t<li>We align the reads to the transcriptome using the transcriptome index created in Step 1. We run TopHat for each sample (8 times).</li>\n",
    "\t</ul>\n",
    "\t</li>\n",
    "</ol>\n",
    "\n",
    "<p><em>This is the least computationally intensive mode to run TopHat. However, alignment takes <u>&gt; 1 hour per sample.</u></em></p>\n"
   ]
  },
  {
   "cell_type": "markdown",
   "metadata": {},
   "source": [
    "<h3>Create Transcriptome Index</h3>\n",
    "\n",
    "<div class=\"alert alert-info\">\n",
    "<p>Here we just need to run tophat with a bowtie index and a gtf file, to create a transcriptome index that we can use in subsequent alignments.</p>\n",
    "\n",
    "<ul>\n",
    "\t<li>Click on the file input for <b>bowtie index</b>\n",
    "\t<ul>\n",
    "\t\t<li>Scroll to the&nbsp;<strong>FTP Server Files</strong>&nbsp;section of the list</li>\n",
    "\t\t<li>Select <strong>Homo_sapiens_hg19_UCSC</strong></li>\n",
    "\t</ul>\n",
    "\t</li>\n",
    "    \n",
    "\t<li>Click on the file input for <strong>GTF file</strong>\n",
    "\t<ul>\n",
    "\t\t<li>Select <strong>Homo_sapiens_hg19_UCSC.gtf</strong></li>\n",
    "\t</ul>\n",
    "\t</li>\n",
    "</ul>\n",
    "</div>\n",
    "\n",
    "<div class=\"alert alert-warning\">Due to time constraints, please do not run this job. A &quot;prebaked&quot; output has been supplied for you below.</div>"
   ]
  },
  {
   "cell_type": "code",
   "execution_count": 20,
   "metadata": {
    "genepattern": {
     "type": "task"
    },
    "scrolled": false
   },
   "outputs": [
    {
     "data": {
      "application/vnd.jupyter.widget-view+json": {
       "model_id": "b2cbd9b45bba425f89a048dd419244b6",
       "version_major": 2,
       "version_minor": 0
      },
      "text/html": [
       "<p>Failed to display Jupyter Widget of type <code>GPTaskWidget</code>.</p>\n",
       "<p>\n",
       "  If you're reading this message in the Jupyter Notebook or JupyterLab Notebook, it may mean\n",
       "  that the widgets JavaScript is still loading. If this message persists, it\n",
       "  likely means that the widgets JavaScript library is either not installed or\n",
       "  not enabled. See the <a href=\"https://ipywidgets.readthedocs.io/en/stable/user_install.html\">Jupyter\n",
       "  Widgets Documentation</a> for setup instructions.\n",
       "</p>\n",
       "<p>\n",
       "  If you're reading this message in another frontend (for example, a static\n",
       "  rendering on GitHub or <a href=\"https://nbviewer.jupyter.org/\">NBViewer</a>),\n",
       "  it may mean that your frontend doesn't currently support widgets.\n",
       "</p>\n"
      ],
      "text/plain": [
       "GPTaskWidget(lsid='urn:lsid:broad.mit.edu:cancer.software.genepattern.module.analysis:00230')"
      ]
     },
     "metadata": {},
     "output_type": "display_data"
    }
   ],
   "source": [
    "tophat_task = gp.GPTask(genepattern.get_session(0), 'urn:lsid:broad.mit.edu:cancer.software.genepattern.module.analysis:00230')\n",
    "tophat_job_spec = tophat_task.make_job_spec()\n",
    "tophat_job_spec.set_parameter(\"GTF.file\", \"\")\n",
    "tophat_job_spec.set_parameter(\"transcriptome.index\", \"\")\n",
    "tophat_job_spec.set_parameter(\"bowtie.index\", \"\")\n",
    "tophat_job_spec.set_parameter(\"reads.pair.1\", \"\")\n",
    "tophat_job_spec.set_parameter(\"reads.pair.2\", \"\")\n",
    "tophat_job_spec.set_parameter(\"mate.inner.dist\", \"50\")\n",
    "tophat_job_spec.set_parameter(\"mate.std.dev\", \"\")\n",
    "tophat_job_spec.set_parameter(\"library.type\", \"\")\n",
    "tophat_job_spec.set_parameter(\"Bowtie.preset.options\", \"\")\n",
    "tophat_job_spec.set_parameter(\"transcriptome.only\", \"no\")\n",
    "tophat_job_spec.set_parameter(\"max.transcriptome.hits\", \"\")\n",
    "tophat_job_spec.set_parameter(\"prefilter.multihits\", \"\")\n",
    "tophat_job_spec.set_parameter(\"raw.junctions.file\", \"\")\n",
    "tophat_job_spec.set_parameter(\"find.novel.junctions\", \"\")\n",
    "tophat_job_spec.set_parameter(\"min.anchor.length\", \"8\")\n",
    "tophat_job_spec.set_parameter(\"max.splice.mismatches\", \"0\")\n",
    "tophat_job_spec.set_parameter(\"min.intron.length\", \"\")\n",
    "tophat_job_spec.set_parameter(\"max.intron.length\", \"500000\")\n",
    "tophat_job_spec.set_parameter(\"max.insertion.length\", \"3\")\n",
    "tophat_job_spec.set_parameter(\"max.deletion.length\", \"3\")\n",
    "tophat_job_spec.set_parameter(\"quality.value.scale\", \"\")\n",
    "tophat_job_spec.set_parameter(\"max.multihits\", \"20\")\n",
    "tophat_job_spec.set_parameter(\"read.mismatches\", \"2\")\n",
    "tophat_job_spec.set_parameter(\"coverage.search\", \"--no-coverage-search\")\n",
    "tophat_job_spec.set_parameter(\"microexon.search\", \"\")\n",
    "tophat_job_spec.set_parameter(\"fusion.mapping\", \"\")\n",
    "tophat_job_spec.set_parameter(\"fusion.anchor.length\", \"20\")\n",
    "tophat_job_spec.set_parameter(\"fusion.read.mismatches\", \"2\")\n",
    "tophat_job_spec.set_parameter(\"output.prefix\", \"<job_id>_<reads.pair.1_basename>\")\n",
    "tophat_job_spec.set_parameter(\"read.edit.dist\", \"\")\n",
    "tophat_job_spec.set_parameter(\"read.gap.length\", \"\")\n",
    "tophat_job_spec.set_parameter(\"additional.tophat.options\", \"\")\n",
    "genepattern.GPTaskWidget(tophat_task)"
   ]
  },
  {
   "cell_type": "code",
   "execution_count": 22,
   "metadata": {
    "genepattern": {
     "type": "job"
    }
   },
   "outputs": [
    {
     "data": {
      "application/vnd.jupyter.widget-view+json": {
       "model_id": "ead41fcaa1754278af4f5203891e3717",
       "version_major": 2,
       "version_minor": 0
      },
      "text/html": [
       "<p>Failed to display Jupyter Widget of type <code>GPJobWidget</code>.</p>\n",
       "<p>\n",
       "  If you're reading this message in the Jupyter Notebook or JupyterLab Notebook, it may mean\n",
       "  that the widgets JavaScript is still loading. If this message persists, it\n",
       "  likely means that the widgets JavaScript library is either not installed or\n",
       "  not enabled. See the <a href=\"https://ipywidgets.readthedocs.io/en/stable/user_install.html\">Jupyter\n",
       "  Widgets Documentation</a> for setup instructions.\n",
       "</p>\n",
       "<p>\n",
       "  If you're reading this message in another frontend (for example, a static\n",
       "  rendering on GitHub or <a href=\"https://nbviewer.jupyter.org/\">NBViewer</a>),\n",
       "  it may mean that your frontend doesn't currently support widgets.\n",
       "</p>\n"
      ],
      "text/plain": [
       "GPJobWidget()"
      ]
     },
     "metadata": {},
     "output_type": "display_data"
    }
   ],
   "source": [
    "genepattern.GPJobWidget(None)"
   ]
  },
  {
   "cell_type": "code",
   "execution_count": 24,
   "metadata": {
    "genepattern": {
     "show_code": false,
     "type": "job"
    }
   },
   "outputs": [
    {
     "data": {
      "application/vnd.jupyter.widget-view+json": {
       "model_id": "bf8e5838aa2e42dfb9355cda4ee08200",
       "version_major": 2,
       "version_minor": 0
      },
      "text/html": [
       "<p>Failed to display Jupyter Widget of type <code>GPJobWidget</code>.</p>\n",
       "<p>\n",
       "  If you're reading this message in the Jupyter Notebook or JupyterLab Notebook, it may mean\n",
       "  that the widgets JavaScript is still loading. If this message persists, it\n",
       "  likely means that the widgets JavaScript library is either not installed or\n",
       "  not enabled. See the <a href=\"https://ipywidgets.readthedocs.io/en/stable/user_install.html\">Jupyter\n",
       "  Widgets Documentation</a> for setup instructions.\n",
       "</p>\n",
       "<p>\n",
       "  If you're reading this message in another frontend (for example, a static\n",
       "  rendering on GitHub or <a href=\"https://nbviewer.jupyter.org/\">NBViewer</a>),\n",
       "  it may mean that your frontend doesn't currently support widgets.\n",
       "</p>\n"
      ],
      "text/plain": [
       "GPJobWidget(job_number=1657629)"
      ]
     },
     "metadata": {},
     "output_type": "display_data"
    }
   ],
   "source": [
    "job1657629 = gp.GPJob(genepattern.get_session(0), 1657629)\n",
    "genepattern.GPJobWidget(job1657629)"
   ]
  },
  {
   "cell_type": "markdown",
   "metadata": {},
   "source": [
    "<h3 id=\"Align-Reads-to-Transcriptome\">Align Reads to Transcriptome</h3>\n",
    "\n",
    "<div class=\"alert alert-info\">This time, we are aligning reads to the transcriptome.\n",
    "<ul>\n",
    "\t<li>Choose the same bowtie index as before (Homo_sapiens_hg19_UCSC)</li>\n",
    "\t<li>Drag the link to the folder of our transcriptome index, <a href=\"https://genepattern.broadinstitute.org/gp/jobResults/1657629/transcriptome_index/\" target=\"_blank\">https://genepattern.broadinstitute.org/gp/jobResults/1657629/transcriptome_index/</a>, to the <b>transcriptome index</b> parameter.</li>\n",
    "\t<li>Click the input field for&nbsp;<strong>reads pair 1&nbsp;</strong>and select&nbsp;<strong>SRR1039508_1P.fastq.gz&nbsp;</strong>from the Trimmomatic ouput.</li>\n",
    "\t<li>Click the input field for&nbsp;<strong>reads pair 2&nbsp;</strong>and select&nbsp;<strong>SRR1039508_2P.fastq.gz</strong>from the Trimmomatic ouput.</li>\n",
    "\t<li>Set the&nbsp;<strong>library type&nbsp;</strong>to&nbsp;<strong>Standard Illumina (fr-unstranded)</strong></li>\n",
    "\t<li>Set&nbsp;<strong>transcriptome only</strong>&nbsp;to&nbsp;<strong>yes</strong></li>\n",
    "</ul>\n",
    "</div>\n",
    "\n",
    "<div class=\"alert alert-warning\">Due to time constraints, please do not run this job. A &quot;prebaked&quot; output has been supplied for you below.</div>\n"
   ]
  },
  {
   "cell_type": "code",
   "execution_count": 26,
   "metadata": {
    "genepattern": {
     "type": "task"
    },
    "scrolled": false
   },
   "outputs": [
    {
     "data": {
      "application/vnd.jupyter.widget-view+json": {
       "model_id": "852dbf1b6cfd483d99c6b34dde73327e",
       "version_major": 2,
       "version_minor": 0
      },
      "text/html": [
       "<p>Failed to display Jupyter Widget of type <code>GPTaskWidget</code>.</p>\n",
       "<p>\n",
       "  If you're reading this message in the Jupyter Notebook or JupyterLab Notebook, it may mean\n",
       "  that the widgets JavaScript is still loading. If this message persists, it\n",
       "  likely means that the widgets JavaScript library is either not installed or\n",
       "  not enabled. See the <a href=\"https://ipywidgets.readthedocs.io/en/stable/user_install.html\">Jupyter\n",
       "  Widgets Documentation</a> for setup instructions.\n",
       "</p>\n",
       "<p>\n",
       "  If you're reading this message in another frontend (for example, a static\n",
       "  rendering on GitHub or <a href=\"https://nbviewer.jupyter.org/\">NBViewer</a>),\n",
       "  it may mean that your frontend doesn't currently support widgets.\n",
       "</p>\n"
      ],
      "text/plain": [
       "GPTaskWidget(lsid='urn:lsid:broad.mit.edu:cancer.software.genepattern.module.analysis:00230')"
      ]
     },
     "metadata": {},
     "output_type": "display_data"
    }
   ],
   "source": [
    "tophat_task = gp.GPTask(genepattern.get_session(0), 'urn:lsid:broad.mit.edu:cancer.software.genepattern.module.analysis:00230')\n",
    "tophat_job_spec = tophat_task.make_job_spec()\n",
    "tophat_job_spec.set_parameter(\"GTF.file\", \"\")\n",
    "tophat_job_spec.set_parameter(\"transcriptome.index\", \"\")\n",
    "tophat_job_spec.set_parameter(\"bowtie.index\", \"\")\n",
    "tophat_job_spec.set_parameter(\"reads.pair.1\", \"\")\n",
    "tophat_job_spec.set_parameter(\"reads.pair.2\", \"\")\n",
    "tophat_job_spec.set_parameter(\"mate.inner.dist\", \"50\")\n",
    "tophat_job_spec.set_parameter(\"mate.std.dev\", \"\")\n",
    "tophat_job_spec.set_parameter(\"library.type\", \"\")\n",
    "tophat_job_spec.set_parameter(\"Bowtie.preset.options\", \"\")\n",
    "tophat_job_spec.set_parameter(\"transcriptome.only\", \"no\")\n",
    "tophat_job_spec.set_parameter(\"max.transcriptome.hits\", \"\")\n",
    "tophat_job_spec.set_parameter(\"prefilter.multihits\", \"\")\n",
    "tophat_job_spec.set_parameter(\"raw.junctions.file\", \"\")\n",
    "tophat_job_spec.set_parameter(\"find.novel.junctions\", \"\")\n",
    "tophat_job_spec.set_parameter(\"min.anchor.length\", \"8\")\n",
    "tophat_job_spec.set_parameter(\"max.splice.mismatches\", \"0\")\n",
    "tophat_job_spec.set_parameter(\"min.intron.length\", \"\")\n",
    "tophat_job_spec.set_parameter(\"max.intron.length\", \"500000\")\n",
    "tophat_job_spec.set_parameter(\"max.insertion.length\", \"3\")\n",
    "tophat_job_spec.set_parameter(\"max.deletion.length\", \"3\")\n",
    "tophat_job_spec.set_parameter(\"quality.value.scale\", \"\")\n",
    "tophat_job_spec.set_parameter(\"max.multihits\", \"20\")\n",
    "tophat_job_spec.set_parameter(\"read.mismatches\", \"2\")\n",
    "tophat_job_spec.set_parameter(\"coverage.search\", \"--no-coverage-search\")\n",
    "tophat_job_spec.set_parameter(\"microexon.search\", \"\")\n",
    "tophat_job_spec.set_parameter(\"fusion.mapping\", \"\")\n",
    "tophat_job_spec.set_parameter(\"fusion.anchor.length\", \"20\")\n",
    "tophat_job_spec.set_parameter(\"fusion.read.mismatches\", \"2\")\n",
    "tophat_job_spec.set_parameter(\"output.prefix\", \"<job_id>_<reads.pair.1_basename>\")\n",
    "tophat_job_spec.set_parameter(\"read.edit.dist\", \"\")\n",
    "tophat_job_spec.set_parameter(\"read.gap.length\", \"\")\n",
    "tophat_job_spec.set_parameter(\"additional.tophat.options\", \"\")\n",
    "genepattern.GPTaskWidget(tophat_task)"
   ]
  },
  {
   "cell_type": "code",
   "execution_count": 28,
   "metadata": {
    "genepattern": {
     "show_code": false,
     "type": "job"
    }
   },
   "outputs": [
    {
     "data": {
      "application/vnd.jupyter.widget-view+json": {
       "model_id": "bb8af50c9667431ebf1c2af1b0132671",
       "version_major": 2,
       "version_minor": 0
      },
      "text/html": [
       "<p>Failed to display Jupyter Widget of type <code>GPJobWidget</code>.</p>\n",
       "<p>\n",
       "  If you're reading this message in the Jupyter Notebook or JupyterLab Notebook, it may mean\n",
       "  that the widgets JavaScript is still loading. If this message persists, it\n",
       "  likely means that the widgets JavaScript library is either not installed or\n",
       "  not enabled. See the <a href=\"https://ipywidgets.readthedocs.io/en/stable/user_install.html\">Jupyter\n",
       "  Widgets Documentation</a> for setup instructions.\n",
       "</p>\n",
       "<p>\n",
       "  If you're reading this message in another frontend (for example, a static\n",
       "  rendering on GitHub or <a href=\"https://nbviewer.jupyter.org/\">NBViewer</a>),\n",
       "  it may mean that your frontend doesn't currently support widgets.\n",
       "</p>\n"
      ],
      "text/plain": [
       "GPJobWidget()"
      ]
     },
     "metadata": {},
     "output_type": "display_data"
    }
   ],
   "source": [
    "genepattern.GPJobWidget(None)"
   ]
  },
  {
   "cell_type": "code",
   "execution_count": 30,
   "metadata": {
    "genepattern": {
     "show_code": false,
     "type": "job"
    }
   },
   "outputs": [
    {
     "data": {
      "application/vnd.jupyter.widget-view+json": {
       "model_id": "94859ea10cb1464fa63e02e7edd55a49",
       "version_major": 2,
       "version_minor": 0
      },
      "text/html": [
       "<p>Failed to display Jupyter Widget of type <code>GPJobWidget</code>.</p>\n",
       "<p>\n",
       "  If you're reading this message in the Jupyter Notebook or JupyterLab Notebook, it may mean\n",
       "  that the widgets JavaScript is still loading. If this message persists, it\n",
       "  likely means that the widgets JavaScript library is either not installed or\n",
       "  not enabled. See the <a href=\"https://ipywidgets.readthedocs.io/en/stable/user_install.html\">Jupyter\n",
       "  Widgets Documentation</a> for setup instructions.\n",
       "</p>\n",
       "<p>\n",
       "  If you're reading this message in another frontend (for example, a static\n",
       "  rendering on GitHub or <a href=\"https://nbviewer.jupyter.org/\">NBViewer</a>),\n",
       "  it may mean that your frontend doesn't currently support widgets.\n",
       "</p>\n"
      ],
      "text/plain": [
       "GPJobWidget(job_number=1658233)"
      ]
     },
     "metadata": {},
     "output_type": "display_data"
    }
   ],
   "source": [
    "job1658233 = gp.GPJob(genepattern.get_session(0), 1658233)\n",
    "genepattern.GPJobWidget(job1658233)"
   ]
  },
  {
   "cell_type": "markdown",
   "metadata": {},
   "source": [
    "<div class=\"alert alert-warning\">To run the next step in this workflow, <b><a href=\"https://genepattern.broadinstitute.org/gp/pages/index.jsf?lsid=urn:lsid:broad.mit.edu:cancer.software.genepattern.module.analysis:00236:7\" target=\"_blank\">CuffDiff</a></b>, - please use the <a href=\"https://genepattern.broadinstitute.org\" target=\"_blank\">GenePattern WebApp</a> - the setting of conditions is currently not available in the GenePattern Notebook extension. This feature is due in an upcoming release of the GenePattern Notebook Extension.<br />\n",
    "Log in to the GenePattern server with the same username and password you used for this notebook, and you will be able to use all of the jobs you have run in this notebook.</div>\n",
    "\n",
    "<p>I've included the output of the CuffDiff job here - you can also copy the <b>genes.fpkm_tracking</b> file from here to use in IGV</p>\n"
   ]
  },
  {
   "cell_type": "code",
   "execution_count": 32,
   "metadata": {
    "genepattern": {
     "type": "job"
    }
   },
   "outputs": [
    {
     "data": {
      "application/vnd.jupyter.widget-view+json": {
       "model_id": "50419ed69ed443c7a07ad10a8ff758ee",
       "version_major": 2,
       "version_minor": 0
      },
      "text/html": [
       "<p>Failed to display Jupyter Widget of type <code>GPJobWidget</code>.</p>\n",
       "<p>\n",
       "  If you're reading this message in the Jupyter Notebook or JupyterLab Notebook, it may mean\n",
       "  that the widgets JavaScript is still loading. If this message persists, it\n",
       "  likely means that the widgets JavaScript library is either not installed or\n",
       "  not enabled. See the <a href=\"https://ipywidgets.readthedocs.io/en/stable/user_install.html\">Jupyter\n",
       "  Widgets Documentation</a> for setup instructions.\n",
       "</p>\n",
       "<p>\n",
       "  If you're reading this message in another frontend (for example, a static\n",
       "  rendering on GitHub or <a href=\"https://nbviewer.jupyter.org/\">NBViewer</a>),\n",
       "  it may mean that your frontend doesn't currently support widgets.\n",
       "</p>\n"
      ],
      "text/plain": [
       "GPJobWidget(job_number=1657632)"
      ]
     },
     "metadata": {},
     "output_type": "display_data"
    }
   ],
   "source": [
    "job1657632 = gp.GPJob(genepattern.get_session(0), 1657632)\n",
    "genepattern.GPJobWidget(job1657632)"
   ]
  }
 ],
 "metadata": {
  "kernelspec": {
   "display_name": "Python 3.6",
   "language": "python",
   "name": "python3.6"
  },
  "language_info": {
   "codemirror_mode": {
    "name": "ipython",
    "version": 3
   },
   "file_extension": ".py",
   "mimetype": "text/x-python",
   "name": "python",
   "nbconvert_exporter": "python",
   "pygments_lexer": "ipython3",
   "version": "3.6.3"
  }
 },
 "nbformat": 4,
 "nbformat_minor": 2
}
