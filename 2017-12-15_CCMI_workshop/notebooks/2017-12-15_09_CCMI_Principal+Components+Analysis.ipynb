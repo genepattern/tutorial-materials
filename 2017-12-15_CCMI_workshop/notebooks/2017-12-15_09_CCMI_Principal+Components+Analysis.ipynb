{
 "cells": [
  {
   "cell_type": "markdown",
   "metadata": {},
   "source": [
    "# Principal Components Analysis (PCA)\n",
    "\n",
    "PCA identifies the axes that correspond to the greatest variation in a dataset. Usually, most of the variation in a dataset can be summarized by a few principal components. Therefore, the structure of a dataset can be represented using only several principal components."
   ]
  },
  {
   "cell_type": "markdown",
   "metadata": {},
   "source": [
    "## 1. Import required Python libraries"
   ]
  },
  {
   "cell_type": "markdown",
   "metadata": {},
   "source": [
    "<div class=\"alert alert-info\">\n",
    "- Click in the cell below\n",
    "- Execute the cell by doing **one** of the following:\n",
    "    - Type `Shift-Enter`\n",
    "    - Choose the Cell -> Run Cells menu option\n",
    "    - <img align=\"left\" src=\"https://github.com/genepattern/example-notebooks/blob/master/2017-11-07_CCMI_workshop/jupyter-run.png?raw=true\"> <-- Click the Run icon  on the navigation bar under the menu."
   ]
  },
  {
   "cell_type": "code",
   "execution_count": 11,
   "metadata": {
    "collapsed": true
   },
   "outputs": [],
   "source": [
    "import numpy as np\n",
    "import matplotlib.pyplot as plt\n",
    "import re\n",
    "import urllib.request\n",
    "from matplotlib.ticker import FuncFormatter"
   ]
  },
  {
   "cell_type": "markdown",
   "metadata": {},
   "source": [
    "## 2. Sign in to GenePattern"
   ]
  },
  {
   "cell_type": "markdown",
   "metadata": {},
   "source": [
    "<div class=\"alert alert-info\">\n",
    "- If you haven't yet logged in, enter your credentials into the cell below and click Login:"
   ]
  },
  {
   "cell_type": "code",
   "execution_count": 5,
   "metadata": {
    "genepattern": {
     "server": "https://genepattern.broadinstitute.org/gp",
     "type": "auth"
    }
   },
   "outputs": [
    {
     "data": {
      "application/vnd.jupyter.widget-view+json": {
       "model_id": "3474e8c433e5406d9f562dd129afde44"
      }
     },
     "metadata": {},
     "output_type": "display_data"
    }
   ],
   "source": [
    "# Requires GenePattern Notebook: pip install genepattern-notebook\n",
    "import gp\n",
    "import genepattern\n",
    "\n",
    "# Username and password removed for security reasons.\n",
    "genepattern.GPAuthWidget(genepattern.register_session(\"https://genepattern.broadinstitute.org/gp\", \"\", \"\"))"
   ]
  },
  {
   "cell_type": "markdown",
   "metadata": {},
   "source": [
    "## 3. Compute the principal components of the dataset"
   ]
  },
  {
   "cell_type": "markdown",
   "metadata": {},
   "source": [
    "<div class=\"alert alert-info\">\n",
    "- Click and drag the following breast cancer dataset link to the **input filename** parameter below: [BRCA_HUGO_symbols.preprocessed.gct](https://datasets.genepattern.org/data/ccmi_tutorial/2017-12-15/BRCA_HUGO_symbols.preprocessed.gct) \n",
    "- Notice we are clustering by **columns**, which correspond to samples. This means we will be observing which samples cluster with one another.\n",
    "- Click **Run**"
   ]
  },
  {
   "cell_type": "code",
   "execution_count": 6,
   "metadata": {
    "genepattern": {
     "type": "task"
    }
   },
   "outputs": [
    {
     "data": {
      "application/vnd.jupyter.widget-view+json": {
       "model_id": "cd9769b04d28437f9c8bac88ad3a69f2"
      }
     },
     "metadata": {},
     "output_type": "display_data"
    }
   ],
   "source": [
    "pca_task = gp.GPTask(genepattern.get_session(0), 'urn:lsid:broad.mit.edu:cancer.software.genepattern.module.analysis:00017')\n",
    "pca_job_spec = pca_task.make_job_spec()\n",
    "pca_job_spec.set_parameter(\"input.filename\", \"\")\n",
    "pca_job_spec.set_parameter(\"cluster.by\", \"3\")\n",
    "pca_job_spec.set_parameter(\"output.file\", \"<input.filename_basename>\")\n",
    "genepattern.GPTaskWidget(pca_task)"
   ]
  },
  {
   "cell_type": "markdown",
   "metadata": {},
   "source": [
    "When the job completes, you will see a new cell above with the title **#######.PCA**, where the ####### corresponds to the GenePattern job ID of your PCA analysis. You will also see 4 result files:\n",
    "\n",
    "Filename | Description\n",
    ":------------ | :-------------\n",
    "`<filename>_s.odf` | the **s matrix (eigenvectors)**\n",
    "`<filename>_t.odf` | the **t matrix (transformed original dataset)**\n",
    "`<filename>_u.odf` | the **u matrix (eigenvalues)**\n",
    "`gp_execution_log.txt` | the execution log - a record of the analysis run"
   ]
  },
  {
   "cell_type": "markdown",
   "metadata": {},
   "source": [
    "## 4. Visualize the PCA results\n",
    "To visualize the results of the PCA analysis, we will read the **s matrix** and **u matrix files** into Python array structures, and create graphs based on the arrays. We do not need the **t matrix** for this analysis."
   ]
  },
  {
   "cell_type": "markdown",
   "metadata": {},
   "source": [
    "### a. Read file results into Python variables"
   ]
  },
  {
   "cell_type": "markdown",
   "metadata": {},
   "source": [
    "The GenePattern results are files on the GenePattern server. To read them into Python arrays, we will use the \"`Send to code`\" functionality in GenePattern Notebook."
   ]
  },
  {
   "cell_type": "markdown",
   "metadata": {},
   "source": [
    "<div class=\"alert alert-info\">\n",
    "1. In the cell above titled **#######.PCA**, you will see a filename that ends in `_s.odf`. To the right of this file, you will see the following icon: ![(i) icon](https://github.com/genepattern/example-notebooks/blob/master/2017-11-07_CCMI_workshop/gpnb-information-icon.png?raw=true) Click this icon.\n",
    "2. You will see a menu of several choices. Select `Send to Code`.\n",
    "3. You will see a new code cell appear below the **#######.PCA** job results cell.\n",
    "4. In this cell, you will see a Python variable name such as `brca_hugo_symbols_preprocessed_s_odf_1597528`\n",
    "5. Select and copy this variable name.\n",
    "6. In the cell below, paste the variable name into the input field for **gp s matrix file**.\n",
    "7. Repeat the above steps for the filename above that ends in `_u.odf`.\n",
    "8. Execute the cell below by clicking **Run**."
   ]
  },
  {
   "cell_type": "code",
   "execution_count": 3,
   "metadata": {
    "genepattern": {
     "output_variable": "result_matrices",
     "param_values": {
      "gp_file": "all_aml_train_preprocessed_u_odf_1569581",
      "gp_s_matrix_file": "",
      "gp_u_matrix_file": "",
      "matrix_array": "matrix_array"
     },
     "show_code": false,
     "type": "uibuilder"
    }
   },
   "outputs": [
    {
     "name": "stderr",
     "output_type": "stream",
     "text": [
      "Widget Javascript not detected.  It may not be installed or enabled properly.\n"
     ]
    },
    {
     "data": {
      "application/vnd.jupyter.widget-view+json": {
       "model_id": "3a9a8b0d32ce4eb68ece878cf83ad337"
      }
     },
     "metadata": {},
     "output_type": "display_data"
    }
   ],
   "source": [
    "def pca_results_to_arrays(gp_s_matrix_file, gp_u_matrix_file):\n",
    "    s_matrix_array = gp_matrix_odf_to_nparray(gp_s_matrix_file)\n",
    "    u_matrix_array = gp_matrix_odf_to_nparray(gp_u_matrix_file)\n",
    "    return s_matrix_array, u_matrix_array\n",
    "    \n",
    "def gp_matrix_odf_to_nparray(gp_file):\n",
    "    fh = gp_file.open()\n",
    "    \n",
    "    # convert bytes->string->nparray\n",
    "    \n",
    "    matrix_raw = fh.read()\n",
    "    matrix_bytes = matrix_raw.decode(\"utf-8\")\n",
    "\n",
    "    # Remove header lines\n",
    "    matrix_string = re.sub(\".*\\n\", '', matrix_bytes, count=5, flags=0)\n",
    "    matrix_string = re.sub(\"\\t\\n\", '\\n', matrix_string, count=0, flags=0)\n",
    "\n",
    "    # The final split leaves an extra line, which must be removed\n",
    "    matrix_list = matrix_string.split('\\n')\n",
    "    matrix_list.pop(len(matrix_list)-1)\n",
    "\n",
    "    matrix_2dlist = [row.split('\\t') for row in matrix_list]\n",
    "\n",
    "    # Populate the new array with contents of the list:\n",
    "    matrix_array = np.empty(shape=(len(matrix_2dlist),len(matrix_2dlist[0])))\n",
    " \n",
    "    for r in range(len(matrix_2dlist)):\n",
    "        for c in range(len(matrix_2dlist[0])):\n",
    "            matrix_array[r][c] = matrix_2dlist[r][c]\n",
    "    \n",
    "    return(matrix_array)\n",
    "\n",
    "genepattern.GPUIBuilder(pca_results_to_arrays, \n",
    "                        name=\"Convert GenePattern ODF Matrix model result files to numpy arrays\", \n",
    "                        description=\"Take as input the S and U matrices resulting from a GenePattern PCA job \" +\n",
    "                                    \"and convert then to numpy arrays\")\n"
   ]
  },
  {
   "cell_type": "markdown",
   "metadata": {},
   "source": [
    "### b. Read phenotype assignments to each sample"
   ]
  },
  {
   "cell_type": "markdown",
   "metadata": {},
   "source": [
    "We will next read the file that contains the phenotype assignments (e.g., tumor, normal, etc.) for the samples in our dataset. These are in the [CLS](http://software.broadinstitute.org/cancer/software/genepattern/file-formats-guide#CLS) file format."
   ]
  },
  {
   "cell_type": "markdown",
   "metadata": {},
   "source": [
    "<div class=\"alert alert-info\">\n",
    "- Click and drag the file containing the phenotype descriptions to the **cls file url** parameter below: [BRCA_HUGO_symbols.preprocessed.cls](https://datasets.genepattern.org/data/ccmi_tutorial/2017-12-15/BRCA_HUGO_symbols.preprocessed.cls) \n",
    "- Click **Run**"
   ]
  },
  {
   "cell_type": "code",
   "execution_count": 4,
   "metadata": {
    "genepattern": {
     "output_variable": "class_data",
     "param_values": {
      "cls_file_url": ""
     },
     "show_code": false,
     "type": "uibuilder"
    }
   },
   "outputs": [
    {
     "name": "stderr",
     "output_type": "stream",
     "text": [
      "Widget Javascript not detected.  It may not be installed or enabled properly.\n"
     ]
    },
    {
     "data": {
      "application/vnd.jupyter.widget-view+json": {
       "model_id": "0c5c0080d6eb43bebdf6144a10f01c4b"
      }
     },
     "metadata": {},
     "output_type": "display_data"
    }
   ],
   "source": [
    "def read_phenotype_assignments(cls_file_url):\n",
    "    cls_file = urllib.request.urlopen(cls_file_url)\n",
    "    l1 = cls_file.readline()\n",
    "    (num_samples, num_classes, one) = [int(i) for i in l1.split()]\n",
    "\n",
    "    l2 = cls_file.readline()\n",
    "    class_names = l2.split()\n",
    "    class_names.pop(0)\n",
    "\n",
    "    l3 = cls_file.readline()\n",
    "    class_assignments = [int(i) for i in l3.split()]\n",
    "\n",
    "    return (num_samples, num_classes, class_names, class_assignments)\n",
    "\n",
    "genepattern.GPUIBuilder(read_phenotype_assignments, \n",
    "                        name=\"Read a phenotype assignment file (cls format) from a url and return its data\", \n",
    "                        description=\"Take as input the url to a cls file and return the data it contains: \" +\n",
    "                                    \"number of samples, number of classes, class names, class assignments\")"
   ]
  },
  {
   "cell_type": "markdown",
   "metadata": {},
   "source": [
    "### c. Set up Python variables for plotting"
   ]
  },
  {
   "cell_type": "markdown",
   "metadata": {},
   "source": [
    "<div class=\"alert alert-info\">\n",
    "- Execute the cell below"
   ]
  },
  {
   "cell_type": "code",
   "execution_count": 14,
   "metadata": {
    "collapsed": true
   },
   "outputs": [],
   "source": [
    "# Extract the s and u matrices from the results\n",
    "(s_matrix, u_matrix) = result_matrices\n",
    "\n",
    "# The principal components are the transpose of the u matrix:\n",
    "pc = u_matrix.transpose()\n",
    "\n",
    "# Convert eigenvectors from an array to a list\n",
    "# The eigenvector matrix only has entries on the diagonal. Extract these into a list to facilitate processing:\n",
    "evectors = [s_matrix[x][x] for x in range(len(s_matrix))]\n",
    "\n",
    "# Compute percentage contribution of each eigenvector\n",
    "ev_total = sum(evectors)\n",
    "ev_percents = evectors/ev_total\n",
    "\n",
    "# The `class_data` variable contains the class information - parse it out into variables:\n",
    "(num_samples, num_classes, class_names, class_assignments) = class_data\n",
    "\n",
    "# Create color map for up to 6 classes:\n",
    "colormap = [\"#ff0000\",\"#0000ff\", \"#00ff00\", \"#00ffff\", \"#ff00ff\", \"#ffff00\"]\n",
    "colors = [colormap[class_assignments[i]] for i in range(len(class_assignments))]"
   ]
  },
  {
   "cell_type": "markdown",
   "metadata": {},
   "source": [
    "## Display scatter plot of first 2 principal components"
   ]
  },
  {
   "cell_type": "markdown",
   "metadata": {},
   "source": [
    "<div class=\"alert alert-info\">\n",
    "- Execute the cell below"
   ]
  },
  {
   "cell_type": "code",
   "execution_count": null,
   "metadata": {
    "scrolled": false
   },
   "outputs": [],
   "source": [
    "plt.rcParams[\"figure.figsize\"] = (10,10)\n",
    "plt.clf()\n",
    "plt.scatter(pc[0],pc[1],color=colors)\n",
    "plt.xlabel(\"Principal Component 1\")\n",
    "plt.ylabel(\"Principal Component 2\")\n",
    "for i in range(num_classes):\n",
    "    plt.plot(pc[0][i],pc[1][i], marker='o', color=colormap[i], label=str(class_names[i].decode(\"utf-8\")))\n",
    "\n",
    "plt.legend(title=\"Classes\", loc=0)\n",
    "plt.show()"
   ]
  },
  {
   "cell_type": "markdown",
   "metadata": {},
   "source": [
    "## Display percentage of variance explained for each principal component"
   ]
  },
  {
   "cell_type": "markdown",
   "metadata": {},
   "source": [
    "<div class=\"alert alert-info\">\n",
    "- Execute the cell below"
   ]
  },
  {
   "cell_type": "code",
   "execution_count": null,
   "metadata": {
    "scrolled": true
   },
   "outputs": [],
   "source": [
    "plt.clf()\n",
    "\n",
    "def percents(x, pos):\n",
    "    'The two args are the value and tick position'\n",
    "    return '%1.1f%%' % (x * 100)\n",
    "\n",
    "formatter = FuncFormatter(percents)\n",
    "\n",
    "plt.title(\"Variance Explained Per Principal Component\")\n",
    "x_vals = [i for i in range(num_samples)]\n",
    "bars = plt.bar(x_vals, ev_percents, 0.8)\n",
    "\n",
    "plt.xlabel(\"Principal Component\")\n",
    "plt.ylabel(\"Variance Explained\")\n",
    "plt.show()"
   ]
  },
  {
   "cell_type": "markdown",
   "metadata": {},
   "source": [
    "## Extra credit"
   ]
  },
  {
   "cell_type": "markdown",
   "metadata": {},
   "source": [
    "- Perform the PCA analysis on the following files, which consist of 38 samples comprising two leukemia subtypes, ALL and AML. The rightmost column indicates where you should drag their urls.\n",
    "\n",
    "Filename | Description | Send to this notebook parameter\n",
    ":------------ | :------------- | :-------------\n",
    "[all_aml_preprocessed.gct](https://github.com/genepattern/example-notebooks/blob/master/2017-11-07_CCMI_workshop/all_aml_train.preprocessed.gct?raw=true) | Gene expression file | PCA analysis cell **input filename** parameter\n",
    "[all_aml_train.cls](https://raw.githubusercontent.com/genepattern/example-notebooks/master/2017-11-07_CCMI_workshop/all_aml_train.cls) | Phenotype assignments file | \"Read a phenotype\" analysis cell **cls file url** parameter"
   ]
  }
 ],
 "metadata": {
  "kernelspec": {
   "display_name": "Python 3.6",
   "language": "python",
   "name": "python3.6"
  },
  "language_info": {
   "codemirror_mode": {
    "name": "ipython",
    "version": 3
   },
   "file_extension": ".py",
   "mimetype": "text/x-python",
   "name": "python",
   "nbconvert_exporter": "python",
   "pygments_lexer": "ipython3",
   "version": "3.6.1"
  }
 },
 "nbformat": 4,
 "nbformat_minor": 2
}
