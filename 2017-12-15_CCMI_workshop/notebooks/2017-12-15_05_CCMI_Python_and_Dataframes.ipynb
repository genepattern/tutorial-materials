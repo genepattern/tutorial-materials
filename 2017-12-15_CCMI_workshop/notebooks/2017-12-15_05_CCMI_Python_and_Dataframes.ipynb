{
 "cells": [
  {
   "cell_type": "markdown",
   "metadata": {},
   "source": [
    "# Using Python code and Dataframes\n",
    "\n",
    "This notebook will walk you through some of the programmatic features available in the GenePattern Notebook Environment.\n",
    "\n",
    "<div class=\"alert alert-info\">First, sign in below.</div>"
   ]
  },
  {
   "cell_type": "code",
   "execution_count": 5,
   "metadata": {
    "genepattern": {
     "server": "https://genepattern.broadinstitute.org/gp",
     "type": "auth"
    }
   },
   "outputs": [
    {
     "data": {
      "application/vnd.jupyter.widget-view+json": {
       "model_id": "5e5f8a69e71a4cb6b3338d6f767c3634"
      }
     },
     "metadata": {},
     "output_type": "display_data"
    }
   ],
   "source": [
    "# Requires GenePattern Notebook: pip install genepattern-notebook\n",
    "import gp\n",
    "import genepattern\n",
    "\n",
    "# Username and password removed for security reasons.\n",
    "genepattern.GPAuthWidget(genepattern.register_session(\"https://genepattern.broadinstitute.org/gp\", \"\", \"\"))"
   ]
  },
  {
   "cell_type": "markdown",
   "metadata": {},
   "source": [
    "# Toggle Code View <a id=\"toggle_code\"/>\n",
    "\n",
    "We will start by looking at the code for running a simple GenePattern module (ConvertLineEndings: it just makes sure that the way a line is finished is correct for the GenePattern server). We will also run it just so that we can use its output file later. \n",
    "\n",
    "<div class=\"alert alert-info\"><ol>\n",
    "<li>Click the gear icon for the cell below and select <b>Toggle Code View</b></li>\n",
    "<li>Run the module</li>\n",
    "</ol></div>\n"
   ]
  },
  {
   "cell_type": "code",
   "execution_count": 6,
   "metadata": {
    "genepattern": {
     "show_code": false,
     "type": "task"
    }
   },
   "outputs": [
    {
     "data": {
      "application/vnd.jupyter.widget-view+json": {
       "model_id": "26df43b048824eaf811e2fbf0418c31a"
      }
     },
     "metadata": {},
     "output_type": "display_data"
    }
   ],
   "source": [
    "convertlineendings_task = gp.GPTask(genepattern.get_session(0), 'urn:lsid:broad.mit.edu:cancer.software.genepattern.module.analysis:00002')\n",
    "convertlineendings_job_spec = convertlineendings_task.make_job_spec()\n",
    "convertlineendings_job_spec.set_parameter(\"input.filename\", \"https://datasets.genepattern.org/data/ccmi_tutorial/2017-12-15/BRCA_HUGO_symbols.preprocessed.gct\")\n",
    "convertlineendings_job_spec.set_parameter(\"output.file\", \"BRCA_40_samples.cvt.gct\")\n",
    "genepattern.GPTaskWidget(convertlineendings_task)"
   ]
  },
  {
   "cell_type": "markdown",
   "metadata": {},
   "source": [
    "# Send to Code\n",
    "\n",
    "The GenePattern Python Library seamlessly integrates with GenePattern cells. Code examples of how to call GenePattern jobs or GenePattern result files are available in GenePattern Job Cells by clicking a job result and selecting “Send to Code” in the menu.\n",
    "\n",
    "<div class=\"alert alert-info\">Once the above job is completed, click on the *BRCA_40_samples.cvt.gct* output and select *Send to Code.* This will create a code cell immediately below the job cell.</div>"
   ]
  },
  {
   "cell_type": "markdown",
   "metadata": {},
   "source": [
    "# Send to Dataframe\n",
    "\n",
    "The GenePattern Python Library also provides functionality for common GenePattern file formats, allowing them seamlessly integrate with [Pandas](http://pandas.pydata.org/), a popular Python data analysis library.\n",
    "\n",
    "Both the [GCT and ODF file formats](http://software.broadinstitute.org/cancer/software/genepattern/file-formats-guide) are easily loaded as Pandas Dataframes. Code examples of how to load these files are available in GenePattern Job Cells by clicking a GCT or ODF job result and selecting “Send to Dataframe” in the menu.\n",
    "\n",
    "<div class=\"alert alert-info\">Scroll up and click on the same <a href=\"#toggle_code\">*BRCA_40_samples.cvt.gct*</a> output you clicked on before and then select *Send to Dataframe.* This will generate a code cell which loads the output data into a pandas Dataframe. Execute this code and the Dataframe will display as a table in your notebook.</div>"
   ]
  },
  {
   "cell_type": "markdown",
   "metadata": {},
   "source": [
    "# UI Builder\n",
    "\n",
    "The UI Builder is a way to display any Python function as an interactive widget. This will render the parameters of the function as a web form.\n",
    "\n",
    "The UI Builder also makes use of many Python features. It will display the docstring as the function description, will infer parameter types from default values and will display parameter annotations as helpful text near each input.\n",
    "\n",
    "Python variables may be used as input when filling out a UI Builder form. To do this, simply type the name of the variable into the input field. When the form is submitted, the widget will pass a reference to the variable to the resulting function call.\n",
    "\n",
    "The simplest way to render a function using the UI Builder is to import the *genepattern* package and then attach the *build_ui* decorator to the function's definition.\n",
    "\n",
    "<div class=\"alert alert-info\"><ol>\n",
    "<li>Click the gear icon and select <b>Toggle Code View</b> in the cell below to see how the code was rendered using the UI Builder.</li>\n",
    "</ol></div>\n",
    "\n",
    "Inputs for any GenePattern cell can optionally take Python variable names.  For example, from your <B>Send to Dataframe</B> example above you should have a variable that looks something like this:  <pre>brca_40_samples_cvt_gct_1595725</pre> (The number at the end will be different for each run of the module. We can give the value of this variable (i.e. the Dataframe) by putting the variable name into the UI input for dataframe below.  Make sure that you have run the cell that creates the dataframe before this next step.\n",
    "<div class=\"alert alert-info\"><ol start=2>\n",
    "<li>Copy the Dataframe variable name from your cell above and paste it into the <b>dataframe</b> variable in the <b>sort_results</b> cell below</li>\n",
    "<li>Run the cell</li>\n",
    "</ol></div>\n"
   ]
  },
  {
   "cell_type": "code",
   "execution_count": 3,
   "metadata": {
    "genepattern": {
     "output_variable": "",
     "param_values": {
      "column_name": "TCGA-A7-A0CE-11.htseq",
      "dataframe": " ",
      "gct": " "
     },
     "show_code": false,
     "type": "uibuilder"
    }
   },
   "outputs": [
    {
     "name": "stderr",
     "output_type": "stream",
     "text": [
      "Widget Javascript not detected.  It may not be installed or enabled properly.\n"
     ]
    },
    {
     "data": {
      "application/vnd.jupyter.widget-view+json": {
       "model_id": "f10922887c07492b88a3b2b812fc3e80"
      }
     },
     "metadata": {},
     "output_type": "display_data"
    }
   ],
   "source": [
    "from IPython.display import display\n",
    "\n",
    "@genepattern.build_ui\n",
    "def sort_results(dataframe: \"The variable name of the GCT dataframe\", \n",
    "                 column_name: \"The name of the column by which to sort.\" = 'TCGA-A7-A0CE-11.htseq'):\n",
    "    \"\"\"\n",
    "    Sort the samples in the dataframe by the specified column.\n",
    "    \"\"\"\n",
    "    display(dataframe.dataframe.sort_values('TCGA-A7-A0CE-11.htseq', ascending=False))"
   ]
  },
  {
   "cell_type": "markdown",
   "metadata": {},
   "source": [
    "## Parameter Types\n",
    "The function below has defined its input as a <b>file parameter</b> type.  This allows you to use this in the 'Send to' from GenePattern job cells or to do the reverse and 'pull' results from previously executed Genepattern jobs. This is done by adding a parameter type definition to the UIBuilder definition.\n",
    "<pre>\n",
    "   parameters={\n",
    "    \"url\": {\n",
    "        \"type\": \"file\",\n",
    "        \"kinds\": [\"gct\"]\n",
    "    }\n",
    "</pre>\n",
    "You can also optionally define what kind of files it accepts.  These are defined by their three letter extensions (i.e. the bit after the period at the end of a filename, usually 3 letters long).  In the example above, it states that the <b>url</b> parameter accepts only files of the type <b>gct</b> which we saw in the Data Preparation section.\n",
    "\n",
    "<div class=\"alert alert-info\"><ol>\n",
    "<li>Click the gear icon and select <b>Toggle Code View</b> to see how the parameter definition is added</li>\n",
    "<li>Click on the \"url\" parameter and select the result file from the ConvertLineEndings job above.</li>\n",
    "<li>Run the <b>print_url</b> cell.</li>\n",
    "</ol></div>"
   ]
  },
  {
   "cell_type": "code",
   "execution_count": 4,
   "metadata": {
    "genepattern": {
     "output_variable": "x",
     "param_values": {
      "url": []
     },
     "show_code": false,
     "type": "uibuilder"
    }
   },
   "outputs": [
    {
     "name": "stderr",
     "output_type": "stream",
     "text": [
      "Widget Javascript not detected.  It may not be installed or enabled properly.\n"
     ]
    },
    {
     "data": {
      "application/vnd.jupyter.widget-view+json": {
       "model_id": "9cb7dcc515d847508753edd4053d115e"
      }
     },
     "metadata": {},
     "output_type": "display_data"
    }
   ],
   "source": [
    "import genepattern\n",
    "import gp.data\n",
    "\n",
    "@genepattern.build_ui(parameters={\n",
    "    \"url\": {\n",
    "        \"type\": \"file\",\n",
    "        \"kinds\": [\"gct\"]\n",
    "    }\n",
    "})\n",
    "def print_url(url):\n",
    "    return print(\"The result file URL is: \" + url)"
   ]
  },
  {
   "cell_type": "markdown",
   "metadata": {},
   "source": [
    "## The Tool Menu\n",
    "By virtue of using the GenePattern UI Builder, the two functions we defined above (sort_results and print_url) have been added to the Tool menu. This allows you to reuse them, and their new UI, again elswhere in the notebook.\n",
    "\n",
    "<div class=\"alert alert-info\"><ol>\n",
    "<li>Click the <b>Insert</b> menu item and select <b>Insert Cell Below</b> to add a cell to the notebook.</li>\n",
    "<li>Click the <b>Cell</b> menu item and select <b>Cell Type</b> and then <B>GenePattern</B> to make it a GenePattern cell.  This should also cause the Tool Manager to appear at the left of your page.</li>\n",
    "<li>Click on the Tool Manager and select the <b>Notebook</b> tab at the top.</li>\n",
    "<li>Click on <b>print_url</b> tool to make this new cell another instance of the print_url function we used earlier.</li>\n",
    "\n",
    "</ol></div>"
   ]
  },
  {
   "cell_type": "markdown",
   "metadata": {},
   "source": [
    "# Extra Credit\n",
    "\n",
    "Below extra credit exercises to complete if you have time.\n",
    "\n",
    "\n",
    "### 1. Change UI Builder Description\n",
    "\n",
    "<div class=\"alert alert-info\">View the code for the UI Builder <b>sort_results</b> cell above, change the function's description to specify whether the sorting is ascending or descending, then execute the cell to see the new description take effect.</div>\n",
    "\n",
    "### 2. Custom Code\n",
    "\n",
    "<div class=\"alert alert-info\">Write a simple Python function and insert <b>@genepattern.build_ui</b>on the line above the function definition to tell GenePattern to wrap it with a user interface.</div>"
   ]
  }
 ],
 "metadata": {
  "kernelspec": {
   "display_name": "Python 3.6",
   "language": "python",
   "name": "python3.6"
  },
  "language_info": {
   "codemirror_mode": {
    "name": "ipython",
    "version": 3
   },
   "file_extension": ".py",
   "mimetype": "text/x-python",
   "name": "python",
   "nbconvert_exporter": "python",
   "pygments_lexer": "ipython3",
   "version": "3.6.1"
  }
 },
 "nbformat": 4,
 "nbformat_minor": 2
}
