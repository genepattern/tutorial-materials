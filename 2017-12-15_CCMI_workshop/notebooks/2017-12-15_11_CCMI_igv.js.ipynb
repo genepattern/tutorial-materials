{
 "cells": [
  {
   "cell_type": "markdown",
   "metadata": {
    "collapsed": true
   },
   "source": [
    "# igv.js\n",
    "\n",
    "igv.js is a lightweight web app version of the [Integrative Genomics Viewer](http://igv.org) (also known as IGV). It has the ability to read and display many types of indexed genomic data, including mapped reads and variant calls.\n",
    "\n",
    "igv.js is wrapped as a module in GenePattern. This notebook will demonstrate some of its functionality. First sign into GenePattern below."
   ]
  },
  {
   "cell_type": "code",
   "execution_count": 4,
   "metadata": {
    "genepattern": {
     "server": "https://genepattern.broadinstitute.org/gp",
     "type": "auth"
    }
   },
   "outputs": [
    {
     "data": {
      "application/vnd.jupyter.widget-view+json": {
       "model_id": "ea639792f3af49c3baaad7cdc5803e8a"
      }
     },
     "metadata": {},
     "output_type": "display_data"
    }
   ],
   "source": [
    "# Requires GenePattern Notebook: pip install genepattern-notebook\n",
    "import gp\n",
    "import genepattern\n",
    "\n",
    "# Username and password removed for security reasons.\n",
    "genepattern.GPAuthWidget(genepattern.register_session(\"https://genepattern.broadinstitute.org/gp\", \"\", \"\"))"
   ]
  },
  {
   "cell_type": "markdown",
   "metadata": {},
   "source": [
    "# Viewing Tracks\n",
    "\n",
    "igv.js can be used to view many different types of data. Below segmented data can be viewed alongside a reference genome.\n",
    "\n",
    "### Considerations\n",
    "* The data being viewed here is different than the rest of the workshop due to clinical restrictions with using the raw reads from BRCA breast cancer dataset.\n",
    "* You will see a warning message next to the *input file* parameter below. It appears because the input files are being provided in a compressed format. You can safely ignore this warning.\n",
    "\n",
    "<div class=\"alert alert-info\">Run the analysis below to use igv.js to visualize the genomic tracks.</div>"
   ]
  },
  {
   "cell_type": "code",
   "execution_count": 5,
   "metadata": {
    "genepattern": {
     "type": "task"
    }
   },
   "outputs": [
    {
     "data": {
      "application/vnd.jupyter.widget-view+json": {
       "model_id": "2b65ea2e426544d3b6303d378e219aba"
      }
     },
     "metadata": {},
     "output_type": "display_data"
    }
   ],
   "source": [
    "igv_js_task = gp.GPTask(genepattern.get_session(0), 'urn:lsid:broad.mit.edu:cancer.software.genepattern.module.analysis:00363')\n",
    "igv_js_job_spec = igv_js_task.make_job_spec()\n",
    "igv_js_job_spec.set_parameter(\"input.file\", [\"https://data.broadinstitute.org/igvdata/test/igv-web/segmented_data_080520.seg.gz\", \"https://s3.amazonaws.com/igv.broadinstitute.org/annotations/hg19/genes/refGene.hg19.bed.gz\"])\n",
    "igv_js_job_spec.set_parameter(\"index.file\", \"https://s3.amazonaws.com/igv.broadinstitute.org/annotations/hg19/genes/refGene.hg19.bed.gz.tbi\")\n",
    "igv_js_job_spec.set_parameter(\"genome\", \"hg19\")\n",
    "igv_js_job_spec.set_parameter(\"locus\", \"egfr\")\n",
    "genepattern.GPTaskWidget(igv_js_task)"
   ]
  },
  {
   "cell_type": "markdown",
   "metadata": {},
   "source": [
    "# Read Pileup\n",
    "\n",
    "Below the pileup of raw reads can be viewed in comparison to a reference genome.\n",
    "\n",
    "### Considerations\n",
    "* The data being viewed here is different than the rest of the workshop due to clinical restrictions with using the raw reads from BRCA breast cancer dataset.\n",
    "* You will see a warning message next to the *input file* parameter below. It appears because the input files are being provided in a compressed format. You can safely ignore this warning.\n",
    "\n",
    "<div class=\"alert alert-info\">Run the analysis below to use igv.js to view the read pileup.</div>"
   ]
  },
  {
   "cell_type": "code",
   "execution_count": 6,
   "metadata": {
    "genepattern": {
     "type": "task"
    }
   },
   "outputs": [
    {
     "data": {
      "application/vnd.jupyter.widget-view+json": {
       "model_id": "c001d2a9c3604373abbe3e5b77cd3b17"
      }
     },
     "metadata": {},
     "output_type": "display_data"
    }
   ],
   "source": [
    "igv_js_task = gp.GPTask(genepattern.get_session(0), 'urn:lsid:broad.mit.edu:cancer.software.genepattern.module.analysis:00363')\n",
    "igv_js_job_spec = igv_js_task.make_job_spec()\n",
    "igv_js_job_spec.set_parameter(\"input.file\", [\"https://s3.amazonaws.com/igv.broadinstitute.org/annotations/hg19/genes/refGene.hg19.bed.gz\", \"https://data.broadinstitute.org/igvdata/BodyMap/hg19/IlluminaHiSeq2000_BodySites/brain_merged/accepted_hits.bam\"])\n",
    "igv_js_job_spec.set_parameter(\"index.file\", \"https://s3.amazonaws.com/igv.broadinstitute.org/annotations/hg19/genes/refGene.hg19.bed.gz.tbi\")\n",
    "igv_js_job_spec.set_parameter(\"genome\", \"hg19\")\n",
    "igv_js_job_spec.set_parameter(\"locus\", \"chr8:128,747,267-128,754,546\")\n",
    "genepattern.GPTaskWidget(igv_js_task)"
   ]
  }
 ],
 "metadata": {
  "kernelspec": {
   "display_name": "Python 3.6",
   "language": "python",
   "name": "python3.6"
  },
  "language_info": {
   "codemirror_mode": {
    "name": "ipython",
    "version": 3
   },
   "file_extension": ".py",
   "mimetype": "text/x-python",
   "name": "python",
   "nbconvert_exporter": "python",
   "pygments_lexer": "ipython3",
   "version": "3.6.1"
  }
 },
 "nbformat": 4,
 "nbformat_minor": 2
}
